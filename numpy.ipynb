{
 "cells": [
  {
   "cell_type": "markdown",
   "id": "tropical-ghana",
   "metadata": {},
   "source": [
    "# The Numeric Python Library (numpy)"
   ]
  },
  {
   "cell_type": "markdown",
   "id": "aging-replication",
   "metadata": {},
   "source": [
    "This is a beginner guide looking at one of the most common Python libraries This can be viewed in the browser however the itneractive Python Notebook File can als be opened in JupyterLab. The Numeric Python Library (which is abbreviated using the lower case numpy) is used for numeric operations. "
   ]
  },
  {
   "cell_type": "markdown",
   "id": "divided-square",
   "metadata": {},
   "source": [
    "## Perquisites"
   ]
  },
  {
   "cell_type": "markdown",
   "id": "crazy-lightning",
   "metadata": {},
   "source": [
    "Before looking at any Python library it is recommended to familarise yourself with the Python programming language and object orientated programming concepts. Details about these in addition to Python installation instructions are available in my perquisite guide below.\n",
    "\n",
    "[Object Orientated Programming](https://github.com/PhilipYip1988/1-object-orientated-programming/blob/main/objectorientatedprogramming.ipynb)"
   ]
  },
  {
   "cell_type": "markdown",
   "id": "digital-recipe",
   "metadata": {},
   "source": [
    "## Practical Applications of Arrays"
   ]
  },
  {
   "cell_type": "markdown",
   "id": "aboriginal-telephone",
   "metadata": {},
   "source": [
    "Arrays are often taught in mathematics classes with a poor description of the practical applications and therefore may seem isoteric when first encountered. You are actually surrounded daily by data arrays and even as we speak while you are reading this tutorial you are actually interfacing with a 4D data array. "
   ]
  },
  {
   "cell_type": "markdown",
   "id": "controversial-receiver",
   "metadata": {},
   "source": [
    "### Scalars (1D Array)"
   ]
  },
  {
   "cell_type": "markdown",
   "id": "fatal-legislature",
   "metadata": {},
   "source": [
    "A scalar is just a single number which you are used to working with when performing a simple calculation."
   ]
  },
  {
   "cell_type": "code",
   "execution_count": 1,
   "id": "exclusive-characterization",
   "metadata": {},
   "outputs": [
    {
     "data": {
      "text/plain": [
       "0.30000000000000004"
      ]
     },
     "execution_count": 1,
     "metadata": {},
     "output_type": "execute_result"
    }
   ],
   "source": [
    "x=0.1\n",
    "y=0.2\n",
    "x+y"
   ]
  },
  {
   "cell_type": "markdown",
   "id": "separated-television",
   "metadata": {},
   "source": [
    "A scalar float can be used to set the intensity level on a white LED where 0 corresponds to the LED being off and 1 is a level of maximum brightness suitable for the eye. Intermediate values can be set using a float between 0 and 1 which can be visualised using a dimmer switch. We can think of a single black and white pixel as having a minaturized version of this mechanism."
   ]
  },
  {
   "cell_type": "markdown",
   "id": "circular-blackjack",
   "metadata": {},
   "source": [
    "![practical_example_0D_white_LED](practical_example_0D_white_LED.png)"
   ]
  },
  {
   "cell_type": "markdown",
   "id": "advised-guidance",
   "metadata": {},
   "source": [
    "### Vectors (1D Arrays)"
   ]
  },
  {
   "cell_type": "markdown",
   "id": "optional-wilson",
   "metadata": {},
   "source": [
    "A vector is a series of numbers. Vectors are commonly used to store a series of linked values. For example if a velocity measurement is carried out at time 0, giving a velocity of 0, time 10 giving a velocity of 227.04, time 15 giving a velocity of 362.78, time 20 giving a velocity of 517.35, time 22.5 giving a velocity of 602.95 and time 330 giving a velocity of 901.67. The data may be stored as two lists."
   ]
  },
  {
   "cell_type": "code",
   "execution_count": 2,
   "id": "equipped-newsletter",
   "metadata": {},
   "outputs": [],
   "source": [
    "t=[0,10,15,20,22.5,30]\n",
    "v=[0,227.04,362.78,517.35,602.97,901.67]"
   ]
  },
  {
   "cell_type": "markdown",
   "id": "olive-watson",
   "metadata": {},
   "source": [
    "These equally sized vectors can then be feed into plotting programs for example matplotlib.pyplot which I will discuss in a later guide and graphed out to visually represent the dataset."
   ]
  },
  {
   "cell_type": "markdown",
   "id": "circular-printer",
   "metadata": {},
   "source": [
    "![practical_example_1D_plotting](practical_example_1D_plotting.png)"
   ]
  },
  {
   "cell_type": "markdown",
   "id": "duplicate-active",
   "metadata": {},
   "source": [
    "Another purpose of a list is for the depiction of a color. \n",
    "\n",
    "Visible light is defined as electromagnetic radiation that can be detected by the human eye. The human eye can see in the wavelength range of 390-750 nm. The human eye has three types of detectors, S-cones, M-cones and L-cones for Short, Medium and Long wavelength detection respectively. The average response from the three detectors in a human eye is as follows and this is of course the origin of the three \"primary colors\"."
   ]
  },
  {
   "cell_type": "markdown",
   "id": "ambient-routine",
   "metadata": {},
   "source": [
    "![practical_example_1D_eye_response](practical_example_1D_eye_response.png)"
   ]
  },
  {
   "cell_type": "markdown",
   "id": "accessible-guard",
   "metadata": {},
   "source": [
    "Instead of a single white LED, three colored LEDs may be selected that are blue, green and red respectively. These LEDs can be designed so that their output overlaps spatially."
   ]
  },
  {
   "cell_type": "markdown",
   "id": "embedded-promise",
   "metadata": {},
   "source": [
    "![practical_example_1D_leds2](practical_example_1D_leds2.png)"
   ]
  },
  {
   "cell_type": "markdown",
   "id": "legitimate-morocco",
   "metadata": {},
   "source": [
    "If we examine the overlapping regime between the red and the green LEDs, both the M-cones and L-cones of the eye will detect light while the S-cones won’t. Using this ratio, the brain translates this as the color \"yellow\" i.e. what the brain receives from the eyes is a color ratio and the brain maps this to a color which we \"see\"."
   ]
  },
  {
   "cell_type": "markdown",
   "id": "preliminary-offering",
   "metadata": {},
   "source": [
    "Each LED can be thought of as having its independent dimmer switch. This means each LEDs brightness control can be varied from 0 where the LED is off to a value 1 which is a level of maximum brightness suitable for the eye. Any color can be represented by \\[R,G,B\\] where R, G and B are floats between 0 and 1. \n",
    "\n",
    "The three primary colors when the respective LED intensity is set to 1 and the other 2 LEDs are set to 0."
   ]
  },
  {
   "cell_type": "code",
   "execution_count": 3,
   "id": "former-castle",
   "metadata": {},
   "outputs": [],
   "source": [
    "red=[1,0,0]\n",
    "green=[0,1,0]\n",
    "blue=[0,0,1]"
   ]
  },
  {
   "cell_type": "markdown",
   "id": "australian-verse",
   "metadata": {},
   "source": [
    "The three secondary colors where 2 of the LEDs have a value of 1 and the third is set to 0 as seen in the overlapping regions of the diagram above."
   ]
  },
  {
   "cell_type": "code",
   "execution_count": 4,
   "id": "aging-panama",
   "metadata": {},
   "outputs": [],
   "source": [
    "cyan=[0,1,1]\n",
    "yellow=[1,1,0]\n",
    "magenta=[1,0,1]"
   ]
  },
  {
   "cell_type": "markdown",
   "id": "copyrighted-duncan",
   "metadata": {},
   "source": [
    "White is when all LEDs are at 1 as seen in the centre of the diagram above."
   ]
  },
  {
   "cell_type": "code",
   "execution_count": 5,
   "id": "weekly-politics",
   "metadata": {},
   "outputs": [],
   "source": [
    "white=[1,1,1]"
   ]
  },
  {
   "cell_type": "markdown",
   "id": "desperate-watts",
   "metadata": {},
   "source": [
    "Black is the absense of color i.e. all the LEDs are at 0."
   ]
  },
  {
   "cell_type": "code",
   "execution_count": 6,
   "id": "sudden-oxide",
   "metadata": {},
   "outputs": [],
   "source": [
    "black=[0,0,0]"
   ]
  },
  {
   "cell_type": "markdown",
   "id": "asian-portable",
   "metadata": {},
   "source": [
    "The three LEDs depicted can be minaturized down to make a single colored pixel."
   ]
  },
  {
   "cell_type": "markdown",
   "id": "exceptional-bullet",
   "metadata": {},
   "source": [
    "### Matrices (2D Arrays)"
   ]
  },
  {
   "cell_type": "markdown",
   "id": "solar-identification",
   "metadata": {},
   "source": [
    "We can construct a matrix using a list of lists. We will construct a very simple matrix that has 3 rows and 3 columns. We can construct each row individually  using a list and then to construct the matrix we can create a list of the rows.\n",
    "\n",
    "Note the elements in each row are of equal size."
   ]
  },
  {
   "cell_type": "code",
   "execution_count": 7,
   "id": "atlantic-liverpool",
   "metadata": {},
   "outputs": [],
   "source": [
    "row0=[0.0,0.1,0.2]\n",
    "row1=[0.4,0.5,0.6]\n",
    "row2=[0.8,0.9,1.0]\n",
    "\n",
    "image=[row0,row1,row2]"
   ]
  },
  {
   "cell_type": "markdown",
   "id": "played-conclusion",
   "metadata": {},
   "source": [
    "Looking at the output."
   ]
  },
  {
   "cell_type": "code",
   "execution_count": 8,
   "id": "substantial-trading",
   "metadata": {},
   "outputs": [
    {
     "data": {
      "text/plain": [
       "[[0.0, 0.1, 0.2], [0.4, 0.5, 0.6], [0.8, 0.9, 1.0]]"
      ]
     },
     "execution_count": 8,
     "metadata": {},
     "output_type": "execute_result"
    }
   ],
   "source": [
    "image"
   ]
  },
  {
   "cell_type": "markdown",
   "id": "higher-greece",
   "metadata": {},
   "source": [
    "We can see the outside \\[\\] is for the outer list and we have a nested \\[\\] for each individual row. Sometimes it is easier to construct the matrix over multiple lines which makes it easier to visualize the matrix."
   ]
  },
  {
   "cell_type": "code",
   "execution_count": 9,
   "id": "artificial-holder",
   "metadata": {},
   "outputs": [],
   "source": [
    "image=[[0.0, 0.1, 0.2],\n",
    "       [0.5, 0.6, 0.7],\n",
    "       [0.8, 0.9, 1.0]]"
   ]
  },
  {
   "cell_type": "code",
   "execution_count": 10,
   "id": "designed-point",
   "metadata": {},
   "outputs": [
    {
     "data": {
      "text/plain": [
       "[[0.0, 0.1, 0.2], [0.5, 0.6, 0.7], [0.8, 0.9, 1.0]]"
      ]
     },
     "execution_count": 10,
     "metadata": {},
     "output_type": "execute_result"
    }
   ],
   "source": [
    "image"
   ]
  },
  {
   "cell_type": "markdown",
   "id": "norman-paste",
   "metadata": {},
   "source": [
    "Earlier we discussed a white LED that has a dimmer switch ranging from 0 (off) to 1 (a maximum intensity suitable for the eye). In a black and white image, each pixel can be thought of as an independently controlled LED that has its own dimmer switch. The 3 by 3 matrix above can be visualized. Here we can see how each float correponds to an intensity level. The third axis the z-scale denotes the brightness which is normalised between 0 (black) and 1 (white) in this case."
   ]
  },
  {
   "cell_type": "markdown",
   "id": "interpreted-delhi",
   "metadata": {},
   "source": [
    "![imshow_bw](imshow_bw.png)"
   ]
  },
  {
   "cell_type": "markdown",
   "id": "stretch-manner",
   "metadata": {},
   "source": [
    "The black and white picture above has 3 rows by 3 columns giving 9 pixels. A black and white picture taken with a camera, typically has many more pixels with a 1 MP camera having 1024 pixels."
   ]
  },
  {
   "cell_type": "markdown",
   "id": "innovative-agency",
   "metadata": {},
   "source": [
    "![practical_example_2D_black_white](practical_example_2D_black_white.png)"
   ]
  },
  {
   "cell_type": "markdown",
   "id": "geographic-remove",
   "metadata": {},
   "source": [
    "We can print this image onto a piece of paper using a so called \"dot matrix printer\". New printers are out but we will use the term dot matrix as it explains exactly what a printer does. The dot matrix printer essentially treats the piece of paper as a grid and to each point in the grid prints a dot of ink. If the pixel is to be white, no ink is added (0) and if the pixel is black (1), the maximum amount of ink is added. If the shade is to be intermediate, an intermediate level of ink is added (a float between 0 and 1). Each dot can be translated to a number which represents the level of ink in the dot. A common printing resolution is 600 dpi meaning there are 600 dots per inch on the piece of paper. This translates to a piece of A4 paper merely being treated as a matrix that has 7014 rows and 4962 columns. The product of these scalar values gives 34,803,468 pixels which is abbreviated to ~35 million pixels or 35 mega pixels."
   ]
  },
  {
   "cell_type": "markdown",
   "id": "overall-opinion",
   "metadata": {},
   "source": [
    "![practical_example_2D_black_white_printer](practical_example_2D_black_white_printer.png)"
   ]
  },
  {
   "cell_type": "markdown",
   "id": "outstanding-recording",
   "metadata": {},
   "source": [
    "### 3D Arrays"
   ]
  },
  {
   "cell_type": "markdown",
   "id": "graduate-offense",
   "metadata": {},
   "source": [
    "A black and white book is an example of a 3D array. In a book each page (2D array) has the same number of rows and columns as indicated by the gridlines in Microsoft Word."
   ]
  },
  {
   "cell_type": "markdown",
   "id": "periodic-necessity",
   "metadata": {},
   "source": [
    "![practical_example_3D_black_white_book](practical_example_3D_black_white_book.png)"
   ]
  },
  {
   "cell_type": "markdown",
   "id": "permanent-worker",
   "metadata": {},
   "source": [
    "We seen that a page can be thought of as being a list of equally sized lists. A book can be thought of as a list of equally sized pages. Or more directly a book is a list of equally sized lists of equally sized lists. "
   ]
  },
  {
   "cell_type": "code",
   "execution_count": 11,
   "id": "limiting-reaction",
   "metadata": {},
   "outputs": [],
   "source": [
    "page0row0=[0.0,1.0,0.0]\n",
    "page0row1=[0.0,0.0,0.0]\n",
    "page0row2=[0.0,1.0,0.0]\n",
    "\n",
    "page0=[page0row0,page0row1,page0row2]\n",
    "\n",
    "page1row0=[0.0,0.0,0.0]\n",
    "page1row1=[1.0,0.0,1.0]\n",
    "page1row2=[0.0,0.0,0.0]\n",
    "\n",
    "page1=[page1row0,page1row1,page1row2]\n",
    "\n",
    "page2row0=[1.0,1.0,1.0]\n",
    "page2row1=[1.0,1.0,1.0]\n",
    "page2row2=[1.0,0.0,1.0]\n",
    "\n",
    "page2=[page2row0,page2row1,page2row2]\n",
    "\n",
    "book=[page0,page1,page2]"
   ]
  },
  {
   "cell_type": "code",
   "execution_count": 12,
   "id": "whole-pound",
   "metadata": {},
   "outputs": [
    {
     "data": {
      "text/plain": [
       "[[[0.0, 1.0, 0.0], [0.0, 0.0, 0.0], [0.0, 1.0, 0.0]],\n",
       " [[0.0, 0.0, 0.0], [1.0, 0.0, 1.0], [0.0, 0.0, 0.0]],\n",
       " [[1.0, 1.0, 1.0], [1.0, 1.0, 1.0], [1.0, 0.0, 1.0]]]"
      ]
     },
     "execution_count": 12,
     "metadata": {},
     "output_type": "execute_result"
    }
   ],
   "source": [
    "book"
   ]
  },
  {
   "cell_type": "markdown",
   "id": "delayed-concentrate",
   "metadata": {},
   "source": [
    "The above output may initially look confusing, for convenience this can also be split over multiple lines. "
   ]
  },
  {
   "cell_type": "code",
   "execution_count": 13,
   "id": "likely-background",
   "metadata": {},
   "outputs": [
    {
     "data": {
      "text/plain": [
       "[[[0.0, 1.0, 0.0], [0.0, 0.0, 0.0], [0.0, 1.0, 0.0]],\n",
       " [[0.0, 0.0, 0.0], [1.0, 0.0, 1.0], [0.0, 0.0, 0.0]],\n",
       " [[1.0, 1.0, 1.0], [1.0, 1.0, 1.0], [1.0, 0.0, 1.0]]]"
      ]
     },
     "execution_count": 13,
     "metadata": {},
     "output_type": "execute_result"
    }
   ],
   "source": [
    "[[[0.0, 1.0, 0.0],\n",
    "  [0.0, 0.0, 0.0],\n",
    "  [0.0, 1.0, 0.0]],\n",
    " \n",
    " [[0.0, 0.0, 0.0],\n",
    "  [1.0, 0.0, 1.0],\n",
    "  [0.0, 0.0, 0.0]],\n",
    " \n",
    " [[1.0, 1.0, 1.0],\n",
    "  [1.0, 1.0, 1.0], \n",
    "  [1.0, 0.0, 1.0]]]"
   ]
  },
  {
   "cell_type": "markdown",
   "id": "wrong-aruba",
   "metadata": {},
   "source": [
    "For the white LED we know a value of 1.0 is white and a value of 0.0 is black. For this simple book, there are 3 pages and each page has 3 rows by 3 columns. The pages displayed side by side spells out \"HI.\""
   ]
  },
  {
   "cell_type": "markdown",
   "id": "manual-genealogy",
   "metadata": {},
   "source": [
    "![hi_b_w](hi_b_w.png)"
   ]
  },
  {
   "cell_type": "markdown",
   "id": "built-german",
   "metadata": {},
   "source": [
    "We have seen earlier that a single black and white image is a 2D Array. A colored image is therefore a 3D Array. Behind the scenes the colored picture can be thought of as a book with 3 pages, a red page, a green page and a blue page respectively. Earlier we discussed the origins behind primary, secondary, black and white colors. We can see how color mixing works by examining the constructed image."
   ]
  },
  {
   "cell_type": "code",
   "execution_count": 14,
   "id": "unsigned-tumor",
   "metadata": {},
   "outputs": [],
   "source": [
    "redrow0=[1.0,0.0,0.0]\n",
    "redrow1=[1.0,0.0,1.0]\n",
    "redrow2=[0.0,0.5,1.0]\n",
    "\n",
    "redm=[redrow0,redrow1,redrow2]\n",
    "\n",
    "greenrow0=[0.0,1.0,0.0]\n",
    "greenrow1=[1.0,1.0,0.0]\n",
    "greenrow2=[0.0,0.5,1.0]\n",
    "\n",
    "greenm=[greenrow0,greenrow1,greenrow2]\n",
    "\n",
    "bluerow0=[0.0,0.0,1.0]\n",
    "bluerow1=[0.0,1.0,1.0]\n",
    "bluerow2=[0.0,0.5,1.0]\n",
    "\n",
    "bluem=[bluerow0,bluerow1,bluerow2]\n",
    "\n",
    "colorimage=[redm,greenm,bluem]"
   ]
  },
  {
   "cell_type": "markdown",
   "id": "tough-pottery",
   "metadata": {},
   "source": [
    "The colour image (top left) is a result of color mixing the red matrix (top right), green matrix (bottom left) and blue matrix (bottom right). "
   ]
  },
  {
   "cell_type": "markdown",
   "id": "completed-turning",
   "metadata": {},
   "source": [
    "![imshow_color2](imshow_color2.png)"
   ]
  },
  {
   "cell_type": "code",
   "execution_count": 15,
   "id": "oriented-implement",
   "metadata": {},
   "outputs": [
    {
     "data": {
      "text/plain": [
       "[[[1.0, 0.0, 0.0], [1.0, 0.0, 1.0], [0.0, 0.5, 1.0]],\n",
       " [[0.0, 1.0, 0.0], [1.0, 1.0, 0.0], [0.0, 0.5, 1.0]],\n",
       " [[0.0, 0.0, 1.0], [0.0, 1.0, 1.0], [0.0, 0.5, 1.0]]]"
      ]
     },
     "execution_count": 15,
     "metadata": {},
     "output_type": "execute_result"
    }
   ],
   "source": [
    "colorimage"
   ]
  },
  {
   "cell_type": "markdown",
   "id": "greenhouse-tongue",
   "metadata": {},
   "source": [
    "The above output may initially look confusing, for convenience this can also be split over multiple lines."
   ]
  },
  {
   "cell_type": "code",
   "execution_count": 16,
   "id": "vertical-infrared",
   "metadata": {},
   "outputs": [
    {
     "data": {
      "text/plain": [
       "[[[1.0, 0.0, 0.0], [1.0, 0.0, 1.0], [0.0, 0.5, 1.0]],\n",
       " [[0.0, 1.0, 0.0], [1.0, 1.0, 0.0], [0.0, 0.5, 1.0]],\n",
       " [[0.0, 0.0, 1.0], [0.0, 1.0, 1.0], [0.0, 0.5, 1.0]]]"
      ]
     },
     "execution_count": 16,
     "metadata": {},
     "output_type": "execute_result"
    }
   ],
   "source": [
    "[[[1.0, 0.0, 0.0],\n",
    "  [1.0, 0.0, 1.0],\n",
    "  [0.0, 0.5, 1.0]],\n",
    " \n",
    " [[0.0, 1.0, 0.0],\n",
    "  [1.0, 1.0, 0.0],\n",
    "  [0.0, 0.5, 1.0]],\n",
    " \n",
    " [[0.0, 0.0, 1.0],\n",
    "  [0.0, 1.0, 1.0],\n",
    "  [0.0, 0.5, 1.0]]]"
   ]
  },
  {
   "cell_type": "markdown",
   "id": "wireless-infrared",
   "metadata": {},
   "source": [
    "The image taken from the camera was originally a color image. It can likewise be split into its r g b components."
   ]
  },
  {
   "cell_type": "markdown",
   "id": "demographic-steam",
   "metadata": {},
   "source": [
    "![practical_example_3D_color](practical_example_3D_color.png)"
   ]
  },
  {
   "cell_type": "markdown",
   "id": "suspected-ideal",
   "metadata": {},
   "source": [
    "### 4D Arrays"
   ]
  },
  {
   "cell_type": "markdown",
   "id": "naval-maryland",
   "metadata": {},
   "source": [
    "A colored book is an example of a 4D array."
   ]
  },
  {
   "cell_type": "code",
   "execution_count": 17,
   "id": "roman-camera",
   "metadata": {},
   "outputs": [],
   "source": [
    "frame0redrow0=[1.0,0.0,1.0]\n",
    "frame0redrow1=[1.0,1.0,1.0]\n",
    "frame0redrow2=[1.0,0.0,1.0]\n",
    "\n",
    "frame0redm=[frame0redrow0,frame0redrow1,frame0redrow2]\n",
    "\n",
    "frame0bluerow0=[0.0,0.0,0.0]\n",
    "frame0bluerow1=[0.0,0.0,0.0]\n",
    "frame0bluerow2=[0.0,0.0,0.0]\n",
    "\n",
    "frame0bluem=[frame0bluerow0,frame0bluerow1,frame0bluerow2]\n",
    "\n",
    "frame0greenrow0=[0.0,0.0,0.0]\n",
    "frame0greenrow1=[0.0,0.0,0.0]\n",
    "frame0greenrow2=[0.0,0.0,0.0]\n",
    "\n",
    "frame0greenm=[frame0greenrow0,frame0greenrow1,frame0greenrow2]\n",
    "\n",
    "frame0=[frame0redm,frame0greenm,frame0bluem]\n",
    "\n",
    "frame1redrow0=[0.0,0.0,0.0]\n",
    "frame1redrow1=[0.0,0.0,0.0]\n",
    "frame1redrow2=[0.0,0.0,0.0]\n",
    "\n",
    "frame1redm=[frame1redrow0,frame1redrow1,frame1redrow2]\n",
    "\n",
    "frame1bluerow0=[1.0,1.0,1.0]\n",
    "frame1bluerow1=[0.0,1.0,0.0]\n",
    "frame1bluerow2=[1.0,1.0,1.0]\n",
    "\n",
    "frame1bluem=[frame1bluerow0,frame1bluerow1,frame1bluerow2]\n",
    "\n",
    "frame1greenrow0=[0.0,0.0,0.0]\n",
    "frame1greenrow1=[0.0,0.0,0.0]\n",
    "frame1greenrow2=[0.0,0.0,0.0]\n",
    "\n",
    "frame1greenm=[frame1greenrow0,frame1greenrow1,frame1greenrow2]\n",
    "\n",
    "frame1=[frame1redm,frame1greenm,frame1bluem]\n",
    "\n",
    "frame2redrow0=[0.0,0.0,0.0]\n",
    "frame2redrow1=[0.0,0.0,0.0]\n",
    "frame2redrow2=[0.0,0.0,0.0]\n",
    "\n",
    "frame2redm=[frame2redrow0,frame2redrow1,frame2redrow2]\n",
    "\n",
    "frame2bluerow0=[0.0,0.0,0.0]\n",
    "frame2bluerow1=[0.0,0.0,0.0]\n",
    "frame2bluerow2=[0.0,0.0,0.0]\n",
    "\n",
    "frame2bluem=[frame2bluerow0,frame2bluerow1,frame2bluerow2]\n",
    "\n",
    "frame2greenrow0=[0.0,0.0,0.0]\n",
    "frame2greenrow1=[0.0,0.0,0.0]\n",
    "frame2greenrow2=[0.0,1.0,0.0]\n",
    "\n",
    "frame2greenm=[frame2greenrow0,frame2greenrow1,frame2greenrow2]\n",
    "\n",
    "frame2=[frame2redm,frame2greenm,frame2bluem]\n",
    "\n",
    "colorbook=[frame0,frame1,frame2]"
   ]
  },
  {
   "cell_type": "markdown",
   "id": "nearby-hotel",
   "metadata": {},
   "source": [
    "![hi_color](hi_color.png)"
   ]
  },
  {
   "cell_type": "markdown",
   "id": "portuguese-portugal",
   "metadata": {},
   "source": [
    "We can examine the output."
   ]
  },
  {
   "cell_type": "code",
   "execution_count": 18,
   "id": "combined-setting",
   "metadata": {},
   "outputs": [
    {
     "data": {
      "text/plain": [
       "[[[[1.0, 0.0, 1.0], [1.0, 1.0, 1.0], [1.0, 0.0, 1.0]],\n",
       "  [[0.0, 0.0, 0.0], [0.0, 0.0, 0.0], [0.0, 0.0, 0.0]],\n",
       "  [[0.0, 0.0, 0.0], [0.0, 0.0, 0.0], [0.0, 0.0, 0.0]]],\n",
       " [[[0.0, 0.0, 0.0], [0.0, 0.0, 0.0], [0.0, 0.0, 0.0]],\n",
       "  [[0.0, 0.0, 0.0], [0.0, 0.0, 0.0], [0.0, 0.0, 0.0]],\n",
       "  [[1.0, 1.0, 1.0], [0.0, 1.0, 0.0], [1.0, 1.0, 1.0]]],\n",
       " [[[0.0, 0.0, 0.0], [0.0, 0.0, 0.0], [0.0, 0.0, 0.0]],\n",
       "  [[0.0, 0.0, 0.0], [0.0, 0.0, 0.0], [0.0, 1.0, 0.0]],\n",
       "  [[0.0, 0.0, 0.0], [0.0, 0.0, 0.0], [0.0, 0.0, 0.0]]]]"
      ]
     },
     "execution_count": 18,
     "metadata": {},
     "output_type": "execute_result"
    }
   ],
   "source": [
    "colorbook"
   ]
  },
  {
   "cell_type": "markdown",
   "id": "unknown-lightweight",
   "metadata": {},
   "source": [
    "Or write it over multiple lines so it is easier to vissualize."
   ]
  },
  {
   "cell_type": "code",
   "execution_count": 19,
   "id": "brutal-holder",
   "metadata": {},
   "outputs": [
    {
     "data": {
      "text/plain": [
       "[[[[1.0, 0.0, 1.0], [1.0, 1.0, 1.0], [1.0, 0.0, 1.0]],\n",
       "  [[0.0, 0.0, 0.0], [0.0, 0.0, 0.0], [0.0, 0.0, 0.0]],\n",
       "  [[0.0, 0.0, 0.0], [0.0, 0.0, 0.0], [0.0, 0.0, 0.0]]],\n",
       " [[[0.0, 0.0, 0.0], [0.0, 0.0, 0.0], [0.0, 0.0, 0.0]],\n",
       "  [[0.0, 0.0, 0.0], [0.0, 0.0, 0.0], [0.0, 0.0, 0.0]],\n",
       "  [[1.0, 1.0, 1.0], [0.0, 1.0, 0.0], [1.0, 1.0, 1.0]]],\n",
       " [[[0.0, 0.0, 0.0], [0.0, 0.0, 0.0], [0.0, 0.0, 0.0]],\n",
       "  [[0.0, 0.0, 0.0], [0.0, 0.0, 0.0], [0.0, 1.0, 0.0]],\n",
       "  [[0.0, 0.0, 0.0], [0.0, 0.0, 0.0], [0.0, 0.0, 0.0]]]]"
      ]
     },
     "execution_count": 19,
     "metadata": {},
     "output_type": "execute_result"
    }
   ],
   "source": [
    "[[[[1.0, 0.0, 1.0],\n",
    "   [1.0, 1.0, 1.0],\n",
    "   [1.0, 0.0, 1.0]],\n",
    "  \n",
    "  [[0.0, 0.0, 0.0],\n",
    "   [0.0, 0.0, 0.0],\n",
    "   [0.0, 0.0, 0.0]],\n",
    "  \n",
    "  [[0.0, 0.0, 0.0],\n",
    "   [0.0, 0.0, 0.0],\n",
    "   [0.0, 0.0, 0.0]]],\n",
    " \n",
    " \n",
    " [[[0.0, 0.0, 0.0],\n",
    "   [0.0, 0.0, 0.0],\n",
    "   [0.0, 0.0, 0.0]],\n",
    "  \n",
    "  [[0.0, 0.0, 0.0],\n",
    "   [0.0, 0.0, 0.0],\n",
    "   [0.0, 0.0, 0.0]],\n",
    "  \n",
    "  [[1.0, 1.0, 1.0],\n",
    "   [0.0, 1.0, 0.0],\n",
    "   [1.0, 1.0, 1.0]]],\n",
    " \n",
    " \n",
    " [[[0.0, 0.0, 0.0],\n",
    "   [0.0, 0.0, 0.0],\n",
    "   [0.0, 0.0, 0.0]],\n",
    "  \n",
    "  [[0.0, 0.0, 0.0],\n",
    "   [0.0, 0.0, 0.0],\n",
    "   [0.0, 1.0, 0.0]],\n",
    "  \n",
    "  [[0.0, 0.0, 0.0],\n",
    "   [0.0, 0.0, 0.0], \n",
    "   [0.0, 0.0, 0.0]]]]"
   ]
  },
  {
   "cell_type": "markdown",
   "id": "answering-platform",
   "metadata": {},
   "source": [
    "When typing in such a long expression ensure you match the brackets. Examining the bottom right, the currently selected bracket will be highlighted in green. Its corresponding beginning half will also be highlighted in green. I have highlighted each set of brackets and emphasized it with red in the animated gif below."
   ]
  },
  {
   "cell_type": "markdown",
   "id": "relevant-cosmetic",
   "metadata": {},
   "source": [
    "![brackets](brackets.gif)"
   ]
  },
  {
   "cell_type": "markdown",
   "id": "double-oriental",
   "metadata": {},
   "source": [
    "A video is essentially a colored book with a fixed frame rate. We can view the above as an animated gif which has a 1 fps frame rate (each frame last 1 s)."
   ]
  },
  {
   "cell_type": "markdown",
   "id": "recreational-division",
   "metadata": {},
   "source": [
    "![hi](hi.gif)"
   ]
  },
  {
   "cell_type": "markdown",
   "id": "dutch-testament",
   "metadata": {},
   "source": [
    "A screen has multiple pixels and an image on a screen is an example of a 3D array. Screens are commonly seen in most electronic devices laptops, phones, cameras etc. Screen resolution is usually defined in terms of pixels, in the case of the Dell XPS 13 this is 3200×1600 pixels which means 1600 rows and 3200 columns. A common refresh rate in computers is 60 frames per second. This means our computer has flicked through 60 3D Arrays every second when watching a color video which is a 4D array."
   ]
  },
  {
   "cell_type": "markdown",
   "id": "present-america",
   "metadata": {},
   "source": [
    "![practical_example_3D_screens](practical_example_3D_screens.png)"
   ]
  },
  {
   "cell_type": "markdown",
   "id": "continuous-mother",
   "metadata": {},
   "source": [
    "## Python lists"
   ]
  },
  {
   "cell_type": "markdown",
   "id": "enhanced-island",
   "metadata": {},
   "source": [
    "Let's have a look at some of the common datatypes present within the Python programming language. First let's look at a str. A str is an abbreviation for a string of characters."
   ]
  },
  {
   "cell_type": "code",
   "execution_count": 20,
   "id": "proprietary-carry",
   "metadata": {},
   "outputs": [],
   "source": [
    "a='apple'"
   ]
  },
  {
   "cell_type": "code",
   "execution_count": 21,
   "id": "changed-origin",
   "metadata": {},
   "outputs": [
    {
     "data": {
      "text/plain": [
       "str"
      ]
     },
     "execution_count": 21,
     "metadata": {},
     "output_type": "execute_result"
    }
   ],
   "source": [
    "type(a)"
   ]
  },
  {
   "cell_type": "markdown",
   "id": "musical-trailer",
   "metadata": {},
   "source": [
    "The object has a number of attributes and methods which can be accessed by typing in the objects name follwoed by a dot . and tab ↹. Unsurprisingly for a str most of these are optimised towards text operations."
   ]
  },
  {
   "cell_type": "markdown",
   "id": "abstract-expansion",
   "metadata": {},
   "source": [
    "![str_methods_attributes](str_methods_attributes.png)"
   ]
  },
  {
   "cell_type": "markdown",
   "id": "light-wheat",
   "metadata": {},
   "source": [
    "We can more directly instantiate another str using the str init method of the str class."
   ]
  },
  {
   "cell_type": "code",
   "execution_count": 22,
   "id": "attached-replacement",
   "metadata": {},
   "outputs": [],
   "source": [
    "b=str('banana')"
   ]
  },
  {
   "cell_type": "markdown",
   "id": "voluntary-knock",
   "metadata": {},
   "source": [
    "Recall that operators are defined using classes special methods. For a str the + operator performs concatenation."
   ]
  },
  {
   "cell_type": "code",
   "execution_count": 23,
   "id": "detected-resource",
   "metadata": {},
   "outputs": [
    {
     "data": {
      "text/plain": [
       "'applebanana'"
      ]
     },
     "execution_count": 23,
     "metadata": {},
     "output_type": "execute_result"
    }
   ],
   "source": [
    "a+b"
   ]
  },
  {
   "cell_type": "markdown",
   "id": "technical-rugby",
   "metadata": {},
   "source": [
    "Now let's have a look at a float, an abbreviation for a floating point number."
   ]
  },
  {
   "cell_type": "code",
   "execution_count": 24,
   "id": "optimum-assignment",
   "metadata": {},
   "outputs": [],
   "source": [
    "c=0.4"
   ]
  },
  {
   "cell_type": "code",
   "execution_count": 25,
   "id": "fleet-documentary",
   "metadata": {},
   "outputs": [
    {
     "data": {
      "text/plain": [
       "float"
      ]
     },
     "execution_count": 25,
     "metadata": {},
     "output_type": "execute_result"
    }
   ],
   "source": [
    "type(c)"
   ]
  },
  {
   "cell_type": "markdown",
   "id": "extended-conditioning",
   "metadata": {},
   "source": [
    "The object has a number of attributes and methods which can be accessed by typing in the objects name follwoed by a dot . and tab ↹. Unsurprisingly for a float most of these are optimised towards numeric data."
   ]
  },
  {
   "cell_type": "markdown",
   "id": "literary-subscription",
   "metadata": {},
   "source": [
    "![float_methods_attributes](float_methods_attributes.png)"
   ]
  },
  {
   "cell_type": "markdown",
   "id": "involved-elements",
   "metadata": {},
   "source": [
    "We can more directly instantiate another float using the float init method of the float class."
   ]
  },
  {
   "cell_type": "code",
   "execution_count": 26,
   "id": "wrapped-sustainability",
   "metadata": {},
   "outputs": [],
   "source": [
    "d=float(0.1)"
   ]
  },
  {
   "cell_type": "markdown",
   "id": "understanding-camel",
   "metadata": {},
   "source": [
    "Recall that operators are defined using classes special methods. For a float the + operator performs addition."
   ]
  },
  {
   "cell_type": "code",
   "execution_count": 27,
   "id": "norwegian-departure",
   "metadata": {},
   "outputs": [
    {
     "data": {
      "text/plain": [
       "0.5"
      ]
     },
     "execution_count": 27,
     "metadata": {},
     "output_type": "execute_result"
    }
   ],
   "source": [
    "c+d"
   ]
  },
  {
   "cell_type": "markdown",
   "id": "sitting-priority",
   "metadata": {},
   "source": [
    "Now let's have a look at a list."
   ]
  },
  {
   "cell_type": "code",
   "execution_count": 28,
   "id": "immediate-lease",
   "metadata": {},
   "outputs": [],
   "source": [
    "e=[0.1,0.2,0.3,0.4]"
   ]
  },
  {
   "cell_type": "code",
   "execution_count": 29,
   "id": "appropriate-trading",
   "metadata": {},
   "outputs": [
    {
     "data": {
      "text/plain": [
       "list"
      ]
     },
     "execution_count": 29,
     "metadata": {},
     "output_type": "execute_result"
    }
   ],
   "source": [
    "type(e)"
   ]
  },
  {
   "cell_type": "markdown",
   "id": "premium-techno",
   "metadata": {},
   "source": [
    "It has a number of attributes and methods available to it and most of these are optimised towards list operations."
   ]
  },
  {
   "cell_type": "markdown",
   "id": "spiritual-preference",
   "metadata": {},
   "source": [
    "![list_methods_attributes](list_methods_attributes.png)"
   ]
  },
  {
   "cell_type": "markdown",
   "id": "thrown-yorkshire",
   "metadata": {},
   "source": [
    "We can more directly instantiate another list using the list init method of the list class."
   ]
  },
  {
   "cell_type": "code",
   "execution_count": 30,
   "id": "fourth-pasta",
   "metadata": {},
   "outputs": [],
   "source": [
    "f=list([0.3,0.3,0.3,0.3])"
   ]
  },
  {
   "cell_type": "markdown",
   "id": "exceptional-music",
   "metadata": {},
   "source": [
    "Recall that operators are defined using classes special methods. For a list the + operator performs concatenation."
   ]
  },
  {
   "cell_type": "code",
   "execution_count": 31,
   "id": "korean-border",
   "metadata": {},
   "outputs": [
    {
     "data": {
      "text/plain": [
       "[0.1, 0.2, 0.3, 0.4, 0.3, 0.3, 0.3, 0.3]"
      ]
     },
     "execution_count": 31,
     "metadata": {},
     "output_type": "execute_result"
    }
   ],
   "source": [
    "e+f"
   ]
  },
  {
   "cell_type": "markdown",
   "id": "existing-correspondence",
   "metadata": {},
   "source": [
    "To perform addition we would need to use the likes of a for loop which is possible but a bit convoluted."
   ]
  },
  {
   "cell_type": "code",
   "execution_count": 32,
   "id": "juvenile-republic",
   "metadata": {},
   "outputs": [],
   "source": [
    "def sumlists(list1,list2):\n",
    "    summed_list=[]\n",
    "    for idx,val in enumerate(list1):\n",
    "        summed_val=list1[idx]+list2[idx]\n",
    "        summed_list.append(summed_val)\n",
    "    return summed_list"
   ]
  },
  {
   "cell_type": "code",
   "execution_count": 33,
   "id": "built-latin",
   "metadata": {},
   "outputs": [
    {
     "data": {
      "text/plain": [
       "[0.4, 0.5, 0.6, 0.7]"
      ]
     },
     "execution_count": 33,
     "metadata": {},
     "output_type": "execute_result"
    }
   ],
   "source": [
    "sumlists(e,f)"
   ]
  },
  {
   "cell_type": "markdown",
   "id": "northern-taste",
   "metadata": {},
   "source": [
    "lists are a very flexible data structure and each index can store different datatypes. This flexibility is very useful in some applications but can be a hinderance when dealing with numeric data and can result in TypeErrors."
   ]
  },
  {
   "cell_type": "code",
   "execution_count": 34,
   "id": "close-algeria",
   "metadata": {},
   "outputs": [],
   "source": [
    "g=['a',0.1,0.1,0.1]"
   ]
  },
  {
   "cell_type": "markdown",
   "id": "seventh-census",
   "metadata": {},
   "source": [
    "```sumlists(e,g)```"
   ]
  },
  {
   "cell_type": "markdown",
   "id": "through-sierra",
   "metadata": {},
   "source": [
    "![sumists_TypeError](sumists_TypeError.png)"
   ]
  },
  {
   "cell_type": "markdown",
   "id": "falling-museum",
   "metadata": {},
   "source": [
    "## NumPy Arrays (ndarray)"
   ]
  },
  {
   "cell_type": "markdown",
   "id": "homeless-welsh",
   "metadata": {},
   "source": [
    "We therefore want a data structure that is similar to a list but optimized for numeric data i.e. a numeric array. The numeric Python library is based around such a datatype known as a numpy array."
   ]
  },
  {
   "cell_type": "markdown",
   "id": "necessary-whale",
   "metadata": {},
   "source": [
    "### Importing the NumPy Library"
   ]
  },
  {
   "cell_type": "markdown",
   "id": "conservative-merchant",
   "metadata": {},
   "source": [
    "To use the numpy library we need to import it. As numpy is the most commonly used standard library for python, it is usually imported using a 2 letter abbreviation np. Note everything is lower case in the import line."
   ]
  },
  {
   "cell_type": "code",
   "execution_count": 35,
   "id": "anticipated-possible",
   "metadata": {},
   "outputs": [],
   "source": [
    "import numpy as np"
   ]
  },
  {
   "cell_type": "markdown",
   "id": "ideal-furniture",
   "metadata": {},
   "source": [
    "Once the numpy library is imported a multitude of objects and functions can be accessed from the numpy lbrary. To view these type in np followed by a dot . and a tab ↹."
   ]
  },
  {
   "cell_type": "markdown",
   "id": "victorian-ministry",
   "metadata": {},
   "source": [
    "![np_module](np_module.png)"
   ]
  },
  {
   "cell_type": "markdown",
   "id": "furnished-threat",
   "metadata": {},
   "source": [
    "This is a large list and its contents can be viewed in a cell output using."
   ]
  },
  {
   "cell_type": "code",
   "execution_count": 36,
   "id": "unknown-plain",
   "metadata": {
    "scrolled": true
   },
   "outputs": [
    {
     "data": {
      "text/plain": [
       "['ALLOW_THREADS',\n",
       " 'AxisError',\n",
       " 'BUFSIZE',\n",
       " 'CLIP',\n",
       " 'ComplexWarning',\n",
       " 'DataSource',\n",
       " 'ERR_CALL',\n",
       " 'ERR_DEFAULT',\n",
       " 'ERR_IGNORE',\n",
       " 'ERR_LOG',\n",
       " 'ERR_PRINT',\n",
       " 'ERR_RAISE',\n",
       " 'ERR_WARN',\n",
       " 'FLOATING_POINT_SUPPORT',\n",
       " 'FPE_DIVIDEBYZERO',\n",
       " 'FPE_INVALID',\n",
       " 'FPE_OVERFLOW',\n",
       " 'FPE_UNDERFLOW',\n",
       " 'False_',\n",
       " 'Inf',\n",
       " 'Infinity',\n",
       " 'MAXDIMS',\n",
       " 'MAY_SHARE_BOUNDS',\n",
       " 'MAY_SHARE_EXACT',\n",
       " 'MachAr',\n",
       " 'ModuleDeprecationWarning',\n",
       " 'NAN',\n",
       " 'NINF',\n",
       " 'NZERO',\n",
       " 'NaN',\n",
       " 'PINF',\n",
       " 'PZERO',\n",
       " 'RAISE',\n",
       " 'RankWarning',\n",
       " 'SHIFT_DIVIDEBYZERO',\n",
       " 'SHIFT_INVALID',\n",
       " 'SHIFT_OVERFLOW',\n",
       " 'SHIFT_UNDERFLOW',\n",
       " 'ScalarType',\n",
       " 'Tester',\n",
       " 'TooHardError',\n",
       " 'True_',\n",
       " 'UFUNC_BUFSIZE_DEFAULT',\n",
       " 'UFUNC_PYVALS_NAME',\n",
       " 'VisibleDeprecationWarning',\n",
       " 'WRAP',\n",
       " '_NoValue',\n",
       " '_UFUNC_API',\n",
       " '__NUMPY_SETUP__',\n",
       " '__all__',\n",
       " '__builtins__',\n",
       " '__cached__',\n",
       " '__config__',\n",
       " '__dir__',\n",
       " '__doc__',\n",
       " '__file__',\n",
       " '__getattr__',\n",
       " '__git_revision__',\n",
       " '__loader__',\n",
       " '__mkl_version__',\n",
       " '__name__',\n",
       " '__package__',\n",
       " '__path__',\n",
       " '__spec__',\n",
       " '__version__',\n",
       " '_add_newdoc_ufunc',\n",
       " '_distributor_init',\n",
       " '_globals',\n",
       " '_mat',\n",
       " '_pytesttester',\n",
       " 'abs',\n",
       " 'absolute',\n",
       " 'add',\n",
       " 'add_docstring',\n",
       " 'add_newdoc',\n",
       " 'add_newdoc_ufunc',\n",
       " 'alen',\n",
       " 'all',\n",
       " 'allclose',\n",
       " 'alltrue',\n",
       " 'amax',\n",
       " 'amin',\n",
       " 'angle',\n",
       " 'any',\n",
       " 'append',\n",
       " 'apply_along_axis',\n",
       " 'apply_over_axes',\n",
       " 'arange',\n",
       " 'arccos',\n",
       " 'arccosh',\n",
       " 'arcsin',\n",
       " 'arcsinh',\n",
       " 'arctan',\n",
       " 'arctan2',\n",
       " 'arctanh',\n",
       " 'argmax',\n",
       " 'argmin',\n",
       " 'argpartition',\n",
       " 'argsort',\n",
       " 'argwhere',\n",
       " 'around',\n",
       " 'array',\n",
       " 'array2string',\n",
       " 'array_equal',\n",
       " 'array_equiv',\n",
       " 'array_repr',\n",
       " 'array_split',\n",
       " 'array_str',\n",
       " 'asanyarray',\n",
       " 'asarray',\n",
       " 'asarray_chkfinite',\n",
       " 'ascontiguousarray',\n",
       " 'asfarray',\n",
       " 'asfortranarray',\n",
       " 'asmatrix',\n",
       " 'asscalar',\n",
       " 'atleast_1d',\n",
       " 'atleast_2d',\n",
       " 'atleast_3d',\n",
       " 'average',\n",
       " 'bartlett',\n",
       " 'base_repr',\n",
       " 'binary_repr',\n",
       " 'bincount',\n",
       " 'bitwise_and',\n",
       " 'bitwise_not',\n",
       " 'bitwise_or',\n",
       " 'bitwise_xor',\n",
       " 'blackman',\n",
       " 'block',\n",
       " 'bmat',\n",
       " 'bool',\n",
       " 'bool8',\n",
       " 'bool_',\n",
       " 'broadcast',\n",
       " 'broadcast_arrays',\n",
       " 'broadcast_to',\n",
       " 'busday_count',\n",
       " 'busday_offset',\n",
       " 'busdaycalendar',\n",
       " 'byte',\n",
       " 'byte_bounds',\n",
       " 'bytes0',\n",
       " 'bytes_',\n",
       " 'c_',\n",
       " 'can_cast',\n",
       " 'cast',\n",
       " 'cbrt',\n",
       " 'cdouble',\n",
       " 'ceil',\n",
       " 'cfloat',\n",
       " 'char',\n",
       " 'character',\n",
       " 'chararray',\n",
       " 'choose',\n",
       " 'clip',\n",
       " 'clongdouble',\n",
       " 'clongfloat',\n",
       " 'column_stack',\n",
       " 'common_type',\n",
       " 'compare_chararrays',\n",
       " 'compat',\n",
       " 'complex',\n",
       " 'complex128',\n",
       " 'complex64',\n",
       " 'complex_',\n",
       " 'complexfloating',\n",
       " 'compress',\n",
       " 'concatenate',\n",
       " 'conj',\n",
       " 'conjugate',\n",
       " 'convolve',\n",
       " 'copy',\n",
       " 'copysign',\n",
       " 'copyto',\n",
       " 'core',\n",
       " 'corrcoef',\n",
       " 'correlate',\n",
       " 'cos',\n",
       " 'cosh',\n",
       " 'count_nonzero',\n",
       " 'cov',\n",
       " 'cross',\n",
       " 'csingle',\n",
       " 'ctypeslib',\n",
       " 'cumprod',\n",
       " 'cumproduct',\n",
       " 'cumsum',\n",
       " 'datetime64',\n",
       " 'datetime_as_string',\n",
       " 'datetime_data',\n",
       " 'deg2rad',\n",
       " 'degrees',\n",
       " 'delete',\n",
       " 'deprecate',\n",
       " 'deprecate_with_doc',\n",
       " 'diag',\n",
       " 'diag_indices',\n",
       " 'diag_indices_from',\n",
       " 'diagflat',\n",
       " 'diagonal',\n",
       " 'diff',\n",
       " 'digitize',\n",
       " 'disp',\n",
       " 'divide',\n",
       " 'divmod',\n",
       " 'dot',\n",
       " 'double',\n",
       " 'dsplit',\n",
       " 'dstack',\n",
       " 'dtype',\n",
       " 'e',\n",
       " 'ediff1d',\n",
       " 'einsum',\n",
       " 'einsum_path',\n",
       " 'emath',\n",
       " 'empty',\n",
       " 'empty_like',\n",
       " 'equal',\n",
       " 'errstate',\n",
       " 'euler_gamma',\n",
       " 'exp',\n",
       " 'exp2',\n",
       " 'expand_dims',\n",
       " 'expm1',\n",
       " 'extract',\n",
       " 'eye',\n",
       " 'fabs',\n",
       " 'fastCopyAndTranspose',\n",
       " 'fft',\n",
       " 'fill_diagonal',\n",
       " 'find_common_type',\n",
       " 'finfo',\n",
       " 'fix',\n",
       " 'flatiter',\n",
       " 'flatnonzero',\n",
       " 'flexible',\n",
       " 'flip',\n",
       " 'fliplr',\n",
       " 'flipud',\n",
       " 'float',\n",
       " 'float16',\n",
       " 'float32',\n",
       " 'float64',\n",
       " 'float_',\n",
       " 'float_power',\n",
       " 'floating',\n",
       " 'floor',\n",
       " 'floor_divide',\n",
       " 'fmax',\n",
       " 'fmin',\n",
       " 'fmod',\n",
       " 'format_float_positional',\n",
       " 'format_float_scientific',\n",
       " 'format_parser',\n",
       " 'frexp',\n",
       " 'frombuffer',\n",
       " 'fromfile',\n",
       " 'fromfunction',\n",
       " 'fromiter',\n",
       " 'frompyfunc',\n",
       " 'fromregex',\n",
       " 'fromstring',\n",
       " 'full',\n",
       " 'full_like',\n",
       " 'fv',\n",
       " 'gcd',\n",
       " 'generic',\n",
       " 'genfromtxt',\n",
       " 'geomspace',\n",
       " 'get_array_wrap',\n",
       " 'get_include',\n",
       " 'get_printoptions',\n",
       " 'getbufsize',\n",
       " 'geterr',\n",
       " 'geterrcall',\n",
       " 'geterrobj',\n",
       " 'gradient',\n",
       " 'greater',\n",
       " 'greater_equal',\n",
       " 'half',\n",
       " 'hamming',\n",
       " 'hanning',\n",
       " 'heaviside',\n",
       " 'histogram',\n",
       " 'histogram2d',\n",
       " 'histogram_bin_edges',\n",
       " 'histogramdd',\n",
       " 'hsplit',\n",
       " 'hstack',\n",
       " 'hypot',\n",
       " 'i0',\n",
       " 'identity',\n",
       " 'iinfo',\n",
       " 'imag',\n",
       " 'in1d',\n",
       " 'index_exp',\n",
       " 'indices',\n",
       " 'inexact',\n",
       " 'inf',\n",
       " 'info',\n",
       " 'infty',\n",
       " 'inner',\n",
       " 'insert',\n",
       " 'int',\n",
       " 'int0',\n",
       " 'int16',\n",
       " 'int32',\n",
       " 'int64',\n",
       " 'int8',\n",
       " 'int_',\n",
       " 'intc',\n",
       " 'integer',\n",
       " 'interp',\n",
       " 'intersect1d',\n",
       " 'intp',\n",
       " 'invert',\n",
       " 'ipmt',\n",
       " 'irr',\n",
       " 'is_busday',\n",
       " 'isclose',\n",
       " 'iscomplex',\n",
       " 'iscomplexobj',\n",
       " 'isfinite',\n",
       " 'isfortran',\n",
       " 'isin',\n",
       " 'isinf',\n",
       " 'isnan',\n",
       " 'isnat',\n",
       " 'isneginf',\n",
       " 'isposinf',\n",
       " 'isreal',\n",
       " 'isrealobj',\n",
       " 'isscalar',\n",
       " 'issctype',\n",
       " 'issubclass_',\n",
       " 'issubdtype',\n",
       " 'issubsctype',\n",
       " 'iterable',\n",
       " 'ix_',\n",
       " 'kaiser',\n",
       " 'kron',\n",
       " 'lcm',\n",
       " 'ldexp',\n",
       " 'left_shift',\n",
       " 'less',\n",
       " 'less_equal',\n",
       " 'lexsort',\n",
       " 'lib',\n",
       " 'linalg',\n",
       " 'linspace',\n",
       " 'little_endian',\n",
       " 'load',\n",
       " 'loads',\n",
       " 'loadtxt',\n",
       " 'log',\n",
       " 'log10',\n",
       " 'log1p',\n",
       " 'log2',\n",
       " 'logaddexp',\n",
       " 'logaddexp2',\n",
       " 'logical_and',\n",
       " 'logical_not',\n",
       " 'logical_or',\n",
       " 'logical_xor',\n",
       " 'logspace',\n",
       " 'long',\n",
       " 'longcomplex',\n",
       " 'longdouble',\n",
       " 'longfloat',\n",
       " 'longlong',\n",
       " 'lookfor',\n",
       " 'ma',\n",
       " 'mafromtxt',\n",
       " 'mask_indices',\n",
       " 'mat',\n",
       " 'math',\n",
       " 'matmul',\n",
       " 'matrix',\n",
       " 'matrixlib',\n",
       " 'max',\n",
       " 'maximum',\n",
       " 'maximum_sctype',\n",
       " 'may_share_memory',\n",
       " 'mean',\n",
       " 'median',\n",
       " 'memmap',\n",
       " 'meshgrid',\n",
       " 'mgrid',\n",
       " 'min',\n",
       " 'min_scalar_type',\n",
       " 'minimum',\n",
       " 'mintypecode',\n",
       " 'mirr',\n",
       " 'mkl',\n",
       " 'mod',\n",
       " 'modf',\n",
       " 'moveaxis',\n",
       " 'msort',\n",
       " 'multiply',\n",
       " 'nan',\n",
       " 'nan_to_num',\n",
       " 'nanargmax',\n",
       " 'nanargmin',\n",
       " 'nancumprod',\n",
       " 'nancumsum',\n",
       " 'nanmax',\n",
       " 'nanmean',\n",
       " 'nanmedian',\n",
       " 'nanmin',\n",
       " 'nanpercentile',\n",
       " 'nanprod',\n",
       " 'nanquantile',\n",
       " 'nanstd',\n",
       " 'nansum',\n",
       " 'nanvar',\n",
       " 'nbytes',\n",
       " 'ndarray',\n",
       " 'ndenumerate',\n",
       " 'ndfromtxt',\n",
       " 'ndim',\n",
       " 'ndindex',\n",
       " 'nditer',\n",
       " 'negative',\n",
       " 'nested_iters',\n",
       " 'newaxis',\n",
       " 'nextafter',\n",
       " 'nonzero',\n",
       " 'not_equal',\n",
       " 'nper',\n",
       " 'npv',\n",
       " 'numarray',\n",
       " 'number',\n",
       " 'obj2sctype',\n",
       " 'object',\n",
       " 'object0',\n",
       " 'object_',\n",
       " 'ogrid',\n",
       " 'oldnumeric',\n",
       " 'ones',\n",
       " 'ones_like',\n",
       " 'os',\n",
       " 'outer',\n",
       " 'packbits',\n",
       " 'pad',\n",
       " 'partition',\n",
       " 'percentile',\n",
       " 'pi',\n",
       " 'piecewise',\n",
       " 'place',\n",
       " 'pmt',\n",
       " 'poly',\n",
       " 'poly1d',\n",
       " 'polyadd',\n",
       " 'polyder',\n",
       " 'polydiv',\n",
       " 'polyfit',\n",
       " 'polyint',\n",
       " 'polymul',\n",
       " 'polynomial',\n",
       " 'polysub',\n",
       " 'polyval',\n",
       " 'positive',\n",
       " 'power',\n",
       " 'ppmt',\n",
       " 'printoptions',\n",
       " 'prod',\n",
       " 'product',\n",
       " 'promote_types',\n",
       " 'ptp',\n",
       " 'put',\n",
       " 'put_along_axis',\n",
       " 'putmask',\n",
       " 'pv',\n",
       " 'quantile',\n",
       " 'r_',\n",
       " 'rad2deg',\n",
       " 'radians',\n",
       " 'random',\n",
       " 'rate',\n",
       " 'ravel',\n",
       " 'ravel_multi_index',\n",
       " 'real',\n",
       " 'real_if_close',\n",
       " 'rec',\n",
       " 'recarray',\n",
       " 'recfromcsv',\n",
       " 'recfromtxt',\n",
       " 'reciprocal',\n",
       " 'record',\n",
       " 'remainder',\n",
       " 'repeat',\n",
       " 'require',\n",
       " 'reshape',\n",
       " 'resize',\n",
       " 'result_type',\n",
       " 'right_shift',\n",
       " 'rint',\n",
       " 'roll',\n",
       " 'rollaxis',\n",
       " 'roots',\n",
       " 'rot90',\n",
       " 'round',\n",
       " 'round_',\n",
       " 'row_stack',\n",
       " 's_',\n",
       " 'safe_eval',\n",
       " 'save',\n",
       " 'savetxt',\n",
       " 'savez',\n",
       " 'savez_compressed',\n",
       " 'sctype2char',\n",
       " 'sctypeDict',\n",
       " 'sctypeNA',\n",
       " 'sctypes',\n",
       " 'searchsorted',\n",
       " 'select',\n",
       " 'set_numeric_ops',\n",
       " 'set_printoptions',\n",
       " 'set_string_function',\n",
       " 'setbufsize',\n",
       " 'setdiff1d',\n",
       " 'seterr',\n",
       " 'seterrcall',\n",
       " 'seterrobj',\n",
       " 'setxor1d',\n",
       " 'shape',\n",
       " 'shares_memory',\n",
       " 'short',\n",
       " 'show_config',\n",
       " 'sign',\n",
       " 'signbit',\n",
       " 'signedinteger',\n",
       " 'sin',\n",
       " 'sinc',\n",
       " 'single',\n",
       " 'singlecomplex',\n",
       " 'sinh',\n",
       " 'size',\n",
       " 'sometrue',\n",
       " 'sort',\n",
       " 'sort_complex',\n",
       " 'source',\n",
       " 'spacing',\n",
       " 'split',\n",
       " 'sqrt',\n",
       " 'square',\n",
       " 'squeeze',\n",
       " 'stack',\n",
       " 'std',\n",
       " 'str',\n",
       " 'str0',\n",
       " 'str_',\n",
       " 'string_',\n",
       " 'subtract',\n",
       " 'sum',\n",
       " 'swapaxes',\n",
       " 'sys',\n",
       " 'take',\n",
       " 'take_along_axis',\n",
       " 'tan',\n",
       " 'tanh',\n",
       " 'tensordot',\n",
       " 'test',\n",
       " 'testing',\n",
       " 'tile',\n",
       " 'timedelta64',\n",
       " 'trace',\n",
       " 'tracemalloc_domain',\n",
       " 'transpose',\n",
       " 'trapz',\n",
       " 'tri',\n",
       " 'tril',\n",
       " 'tril_indices',\n",
       " 'tril_indices_from',\n",
       " 'trim_zeros',\n",
       " 'triu',\n",
       " 'triu_indices',\n",
       " 'triu_indices_from',\n",
       " 'true_divide',\n",
       " 'trunc',\n",
       " 'typeDict',\n",
       " 'typeNA',\n",
       " 'typecodes',\n",
       " 'typename',\n",
       " 'ubyte',\n",
       " 'ufunc',\n",
       " 'uint',\n",
       " 'uint0',\n",
       " 'uint16',\n",
       " 'uint32',\n",
       " 'uint64',\n",
       " 'uint8',\n",
       " 'uintc',\n",
       " 'uintp',\n",
       " 'ulonglong',\n",
       " 'unicode',\n",
       " 'unicode_',\n",
       " 'union1d',\n",
       " 'unique',\n",
       " 'unpackbits',\n",
       " 'unravel_index',\n",
       " 'unsignedinteger',\n",
       " 'unwrap',\n",
       " 'use_hugepage',\n",
       " 'ushort',\n",
       " 'vander',\n",
       " 'var',\n",
       " 'vdot',\n",
       " 'vectorize',\n",
       " 'version',\n",
       " 'void',\n",
       " 'void0',\n",
       " 'vsplit',\n",
       " 'vstack',\n",
       " 'warnings',\n",
       " 'where',\n",
       " 'who',\n",
       " 'zeros',\n",
       " 'zeros_like']"
      ]
     },
     "execution_count": 36,
     "metadata": {},
     "output_type": "execute_result"
    }
   ],
   "source": [
    "dir(np)"
   ]
  },
  {
   "cell_type": "code",
   "execution_count": 37,
   "id": "protective-optimum",
   "metadata": {
    "scrolled": true
   },
   "outputs": [
    {
     "data": {
      "text/plain": [
       "\u001b[1;31mType:\u001b[0m        module\n",
       "\u001b[1;31mString form:\u001b[0m <module 'numpy' from 'C:\\\\Users\\\\Phili\\\\anaconda3\\\\lib\\\\site-packages\\\\numpy\\\\__init__.py'>\n",
       "\u001b[1;31mFile:\u001b[0m        c:\\users\\phili\\anaconda3\\lib\\site-packages\\numpy\\__init__.py\n",
       "\u001b[1;31mDocstring:\u001b[0m  \n",
       "NumPy\n",
       "=====\n",
       "\n",
       "Provides\n",
       "  1. An array object of arbitrary homogeneous items\n",
       "  2. Fast mathematical operations over arrays\n",
       "  3. Linear Algebra, Fourier Transforms, Random Number Generation\n",
       "\n",
       "How to use the documentation\n",
       "----------------------------\n",
       "Documentation is available in two forms: docstrings provided\n",
       "with the code, and a loose standing reference guide, available from\n",
       "`the NumPy homepage <https://www.scipy.org>`_.\n",
       "\n",
       "We recommend exploring the docstrings using\n",
       "`IPython <https://ipython.org>`_, an advanced Python shell with\n",
       "TAB-completion and introspection capabilities.  See below for further\n",
       "instructions.\n",
       "\n",
       "The docstring examples assume that `numpy` has been imported as `np`::\n",
       "\n",
       "  >>> import numpy as np\n",
       "\n",
       "Code snippets are indicated by three greater-than signs::\n",
       "\n",
       "  >>> x = 42\n",
       "  >>> x = x + 1\n",
       "\n",
       "Use the built-in ``help`` function to view a function's docstring::\n",
       "\n",
       "  >>> help(np.sort)\n",
       "  ... # doctest: +SKIP\n",
       "\n",
       "For some objects, ``np.info(obj)`` may provide additional help.  This is\n",
       "particularly true if you see the line \"Help on ufunc object:\" at the top\n",
       "of the help() page.  Ufuncs are implemented in C, not Python, for speed.\n",
       "The native Python help() does not know how to view their help, but our\n",
       "np.info() function does.\n",
       "\n",
       "To search for documents containing a keyword, do::\n",
       "\n",
       "  >>> np.lookfor('keyword')\n",
       "  ... # doctest: +SKIP\n",
       "\n",
       "General-purpose documents like a glossary and help on the basic concepts\n",
       "of numpy are available under the ``doc`` sub-module::\n",
       "\n",
       "  >>> from numpy import doc\n",
       "  >>> help(doc)\n",
       "  ... # doctest: +SKIP\n",
       "\n",
       "Available subpackages\n",
       "---------------------\n",
       "doc\n",
       "    Topical documentation on broadcasting, indexing, etc.\n",
       "lib\n",
       "    Basic functions used by several sub-packages.\n",
       "random\n",
       "    Core Random Tools\n",
       "linalg\n",
       "    Core Linear Algebra Tools\n",
       "fft\n",
       "    Core FFT routines\n",
       "polynomial\n",
       "    Polynomial tools\n",
       "testing\n",
       "    NumPy testing tools\n",
       "f2py\n",
       "    Fortran to Python Interface Generator.\n",
       "distutils\n",
       "    Enhancements to distutils with support for\n",
       "    Fortran compilers support and more.\n",
       "\n",
       "Utilities\n",
       "---------\n",
       "test\n",
       "    Run numpy unittests\n",
       "show_config\n",
       "    Show numpy build configuration\n",
       "dual\n",
       "    Overwrite certain functions with high-performance Scipy tools\n",
       "matlib\n",
       "    Make everything matrices.\n",
       "__version__\n",
       "    NumPy version string\n",
       "\n",
       "Viewing documentation using IPython\n",
       "-----------------------------------\n",
       "Start IPython with the NumPy profile (``ipython -p numpy``), which will\n",
       "import `numpy` under the alias `np`.  Then, use the ``cpaste`` command to\n",
       "paste examples into the shell.  To see which functions are available in\n",
       "`numpy`, type ``np.<TAB>`` (where ``<TAB>`` refers to the TAB key), or use\n",
       "``np.*cos*?<ENTER>`` (where ``<ENTER>`` refers to the ENTER key) to narrow\n",
       "down the list.  To view the docstring for a function, use\n",
       "``np.cos?<ENTER>`` (to view the docstring) and ``np.cos??<ENTER>`` (to view\n",
       "the source code).\n",
       "\n",
       "Copies vs. in-place operation\n",
       "-----------------------------\n",
       "Most of the functions in `numpy` return a copy of the array argument\n",
       "(e.g., `np.sort`).  In-place versions of these functions are often\n",
       "available as array methods, i.e. ``x = np.array([1,2,3]); x.sort()``.\n",
       "Exceptions to this rule are documented.\n"
      ]
     },
     "metadata": {},
     "output_type": "display_data"
    }
   ],
   "source": [
    "? np"
   ]
  },
  {
   "cell_type": "markdown",
   "id": "funded-grove",
   "metadata": {},
   "source": [
    "The numpy library contains a number of useful mathematical constants as attributes such as pi and e. There is also a representation for infinity and not a number."
   ]
  },
  {
   "cell_type": "code",
   "execution_count": 38,
   "id": "flexible-point",
   "metadata": {},
   "outputs": [
    {
     "data": {
      "text/plain": [
       "3.141592653589793"
      ]
     },
     "execution_count": 38,
     "metadata": {},
     "output_type": "execute_result"
    }
   ],
   "source": [
    "np.pi"
   ]
  },
  {
   "cell_type": "code",
   "execution_count": 39,
   "id": "pretty-grain",
   "metadata": {},
   "outputs": [
    {
     "data": {
      "text/plain": [
       "2.718281828459045"
      ]
     },
     "execution_count": 39,
     "metadata": {},
     "output_type": "execute_result"
    }
   ],
   "source": [
    "np.e"
   ]
  },
  {
   "cell_type": "code",
   "execution_count": 40,
   "id": "smaller-association",
   "metadata": {},
   "outputs": [
    {
     "data": {
      "text/plain": [
       "inf"
      ]
     },
     "execution_count": 40,
     "metadata": {},
     "output_type": "execute_result"
    }
   ],
   "source": [
    "np.inf"
   ]
  },
  {
   "cell_type": "code",
   "execution_count": 41,
   "id": "annoying-shareware",
   "metadata": {},
   "outputs": [
    {
     "data": {
      "text/plain": [
       "nan"
      ]
     },
     "execution_count": 41,
     "metadata": {},
     "output_type": "execute_result"
    }
   ],
   "source": [
    "np.nan"
   ]
  },
  {
   "cell_type": "markdown",
   "id": "extraordinary-economics",
   "metadata": {},
   "source": [
    "We can create an numpy array from an existing data structure object such as an int, float, list or tuple by use of the numpy function array. To get details about the function we can type it in followed by a shift ⇧ and tab ↹. We see that the positional input argument is object corresponding to the original data structure. There is an additional keyword input arguments such as dtype which has a default value of None meaning the dtype is inferred from the input data. The other keyword input arguments are for advanced applications such as data imports from Fortran and can be left as default."
   ]
  },
  {
   "cell_type": "markdown",
   "id": "third-spectrum",
   "metadata": {},
   "source": [
    "![array_docstring](array_docstring.png)"
   ]
  },
  {
   "cell_type": "code",
   "execution_count": 42,
   "id": "figured-magazine",
   "metadata": {
    "scrolled": true
   },
   "outputs": [
    {
     "data": {
      "text/plain": [
       "\u001b[1;31mDocstring:\u001b[0m\n",
       "array(object, dtype=None, *, copy=True, order='K', subok=False, ndmin=0)\n",
       "\n",
       "Create an array.\n",
       "\n",
       "Parameters\n",
       "----------\n",
       "object : array_like\n",
       "    An array, any object exposing the array interface, an object whose\n",
       "    __array__ method returns an array, or any (nested) sequence.\n",
       "dtype : data-type, optional\n",
       "    The desired data-type for the array.  If not given, then the type will\n",
       "    be determined as the minimum type required to hold the objects in the\n",
       "    sequence.\n",
       "copy : bool, optional\n",
       "    If true (default), then the object is copied.  Otherwise, a copy will\n",
       "    only be made if __array__ returns a copy, if obj is a nested sequence,\n",
       "    or if a copy is needed to satisfy any of the other requirements\n",
       "    (`dtype`, `order`, etc.).\n",
       "order : {'K', 'A', 'C', 'F'}, optional\n",
       "    Specify the memory layout of the array. If object is not an array, the\n",
       "    newly created array will be in C order (row major) unless 'F' is\n",
       "    specified, in which case it will be in Fortran order (column major).\n",
       "    If object is an array the following holds.\n",
       "\n",
       "    ===== ========= ===================================================\n",
       "    order  no copy                     copy=True\n",
       "    ===== ========= ===================================================\n",
       "    'K'   unchanged F & C order preserved, otherwise most similar order\n",
       "    'A'   unchanged F order if input is F and not C, otherwise C order\n",
       "    'C'   C order   C order\n",
       "    'F'   F order   F order\n",
       "    ===== ========= ===================================================\n",
       "\n",
       "    When ``copy=False`` and a copy is made for other reasons, the result is\n",
       "    the same as if ``copy=True``, with some exceptions for `A`, see the\n",
       "    Notes section. The default order is 'K'.\n",
       "subok : bool, optional\n",
       "    If True, then sub-classes will be passed-through, otherwise\n",
       "    the returned array will be forced to be a base-class array (default).\n",
       "ndmin : int, optional\n",
       "    Specifies the minimum number of dimensions that the resulting\n",
       "    array should have.  Ones will be pre-pended to the shape as\n",
       "    needed to meet this requirement.\n",
       "\n",
       "Returns\n",
       "-------\n",
       "out : ndarray\n",
       "    An array object satisfying the specified requirements.\n",
       "\n",
       "See Also\n",
       "--------\n",
       "empty_like : Return an empty array with shape and type of input.\n",
       "ones_like : Return an array of ones with shape and type of input.\n",
       "zeros_like : Return an array of zeros with shape and type of input.\n",
       "full_like : Return a new array with shape of input filled with value.\n",
       "empty : Return a new uninitialized array.\n",
       "ones : Return a new array setting values to one.\n",
       "zeros : Return a new array setting values to zero.\n",
       "full : Return a new array of given shape filled with value.\n",
       "\n",
       "\n",
       "Notes\n",
       "-----\n",
       "When order is 'A' and `object` is an array in neither 'C' nor 'F' order,\n",
       "and a copy is forced by a change in dtype, then the order of the result is\n",
       "not necessarily 'C' as expected. This is likely a bug.\n",
       "\n",
       "Examples\n",
       "--------\n",
       ">>> np.array([1, 2, 3])\n",
       "array([1, 2, 3])\n",
       "\n",
       "Upcasting:\n",
       "\n",
       ">>> np.array([1, 2, 3.0])\n",
       "array([ 1.,  2.,  3.])\n",
       "\n",
       "More than one dimension:\n",
       "\n",
       ">>> np.array([[1, 2], [3, 4]])\n",
       "array([[1, 2],\n",
       "       [3, 4]])\n",
       "\n",
       "Minimum dimensions 2:\n",
       "\n",
       ">>> np.array([1, 2, 3], ndmin=2)\n",
       "array([[1, 2, 3]])\n",
       "\n",
       "Type provided:\n",
       "\n",
       ">>> np.array([1, 2, 3], dtype=complex)\n",
       "array([ 1.+0.j,  2.+0.j,  3.+0.j])\n",
       "\n",
       "Data-type consisting of more than one element:\n",
       "\n",
       ">>> x = np.array([(1,2),(3,4)],dtype=[('a','<i4'),('b','<i4')])\n",
       ">>> x['a']\n",
       "array([1, 3])\n",
       "\n",
       "Creating an array from sub-classes:\n",
       "\n",
       ">>> np.array(np.mat('1 2; 3 4'))\n",
       "array([[1, 2],\n",
       "       [3, 4]])\n",
       "\n",
       ">>> np.array(np.mat('1 2; 3 4'), subok=True)\n",
       "matrix([[1, 2],\n",
       "        [3, 4]])\n",
       "\u001b[1;31mType:\u001b[0m      builtin_function_or_method\n"
      ]
     },
     "metadata": {},
     "output_type": "display_data"
    }
   ],
   "source": [
    "? np.array"
   ]
  },
  {
   "cell_type": "markdown",
   "id": "colonial-angola",
   "metadata": {},
   "source": [
    "Let's create a list l1."
   ]
  },
  {
   "cell_type": "code",
   "execution_count": 43,
   "id": "appropriate-canberra",
   "metadata": {},
   "outputs": [],
   "source": [
    "l1=[1,2,3,4]"
   ]
  },
  {
   "cell_type": "markdown",
   "id": "cardiac-projection",
   "metadata": {},
   "source": [
    "If we attempt to add the value 1 to the list we will get a TypeError because the + operator performs concatenation in a list and it cannot concatennate an int to a list."
   ]
  },
  {
   "cell_type": "markdown",
   "id": "signal-conjunction",
   "metadata": {},
   "source": [
    "```l1+1```"
   ]
  },
  {
   "cell_type": "markdown",
   "id": "analyzed-bulletin",
   "metadata": {},
   "source": [
    "![TypeError2](TypeError2.png)"
   ]
  },
  {
   "cell_type": "markdown",
   "id": "separated-locking",
   "metadata": {},
   "source": [
    "If however we convert the list l1 to a numeric array a1."
   ]
  },
  {
   "cell_type": "code",
   "execution_count": 44,
   "id": "lesser-packet",
   "metadata": {},
   "outputs": [],
   "source": [
    "a1=np.array(l1)"
   ]
  },
  {
   "cell_type": "code",
   "execution_count": 45,
   "id": "humanitarian-active",
   "metadata": {},
   "outputs": [
    {
     "data": {
      "text/plain": [
       "array([1, 2, 3, 4])"
      ]
     },
     "execution_count": 45,
     "metadata": {},
     "output_type": "execute_result"
    }
   ],
   "source": [
    "a1"
   ]
  },
  {
   "cell_type": "markdown",
   "id": "surprised-friday",
   "metadata": {},
   "source": [
    "The + operator in a numeric array is settup for numeric addition and the value 1 is added to the original value of each element in the list."
   ]
  },
  {
   "cell_type": "code",
   "execution_count": 46,
   "id": "artistic-clark",
   "metadata": {},
   "outputs": [
    {
     "data": {
      "text/plain": [
       "array([2, 3, 4, 5])"
      ]
     },
     "execution_count": 46,
     "metadata": {},
     "output_type": "execute_result"
    }
   ],
   "source": [
    "a1+1"
   ]
  },
  {
   "cell_type": "markdown",
   "id": "sized-rebate",
   "metadata": {},
   "source": [
    "The numpy array is an instance of the ndarray class and has a number of attributes and methods which can be accessed by typing the objects name and then pressing dot . and tab ↹."
   ]
  },
  {
   "cell_type": "code",
   "execution_count": 47,
   "id": "retired-consent",
   "metadata": {},
   "outputs": [
    {
     "data": {
      "text/plain": [
       "numpy.ndarray"
      ]
     },
     "execution_count": 47,
     "metadata": {},
     "output_type": "execute_result"
    }
   ],
   "source": [
    "type(a1)"
   ]
  },
  {
   "cell_type": "markdown",
   "id": "japanese-disco",
   "metadata": {},
   "source": [
    "![array_docstring](array_docstring.png)"
   ]
  },
  {
   "cell_type": "markdown",
   "id": "artificial-ground",
   "metadata": {},
   "source": [
    "To view the output of this list in a cell we can type."
   ]
  },
  {
   "cell_type": "code",
   "execution_count": 48,
   "id": "molecular-relations",
   "metadata": {
    "scrolled": true
   },
   "outputs": [
    {
     "data": {
      "text/plain": [
       "['T',\n",
       " '__abs__',\n",
       " '__add__',\n",
       " '__and__',\n",
       " '__array__',\n",
       " '__array_finalize__',\n",
       " '__array_function__',\n",
       " '__array_interface__',\n",
       " '__array_prepare__',\n",
       " '__array_priority__',\n",
       " '__array_struct__',\n",
       " '__array_ufunc__',\n",
       " '__array_wrap__',\n",
       " '__bool__',\n",
       " '__class__',\n",
       " '__complex__',\n",
       " '__contains__',\n",
       " '__copy__',\n",
       " '__deepcopy__',\n",
       " '__delattr__',\n",
       " '__delitem__',\n",
       " '__dir__',\n",
       " '__divmod__',\n",
       " '__doc__',\n",
       " '__eq__',\n",
       " '__float__',\n",
       " '__floordiv__',\n",
       " '__format__',\n",
       " '__ge__',\n",
       " '__getattribute__',\n",
       " '__getitem__',\n",
       " '__gt__',\n",
       " '__hash__',\n",
       " '__iadd__',\n",
       " '__iand__',\n",
       " '__ifloordiv__',\n",
       " '__ilshift__',\n",
       " '__imatmul__',\n",
       " '__imod__',\n",
       " '__imul__',\n",
       " '__index__',\n",
       " '__init__',\n",
       " '__init_subclass__',\n",
       " '__int__',\n",
       " '__invert__',\n",
       " '__ior__',\n",
       " '__ipow__',\n",
       " '__irshift__',\n",
       " '__isub__',\n",
       " '__iter__',\n",
       " '__itruediv__',\n",
       " '__ixor__',\n",
       " '__le__',\n",
       " '__len__',\n",
       " '__lshift__',\n",
       " '__lt__',\n",
       " '__matmul__',\n",
       " '__mod__',\n",
       " '__mul__',\n",
       " '__ne__',\n",
       " '__neg__',\n",
       " '__new__',\n",
       " '__or__',\n",
       " '__pos__',\n",
       " '__pow__',\n",
       " '__radd__',\n",
       " '__rand__',\n",
       " '__rdivmod__',\n",
       " '__reduce__',\n",
       " '__reduce_ex__',\n",
       " '__repr__',\n",
       " '__rfloordiv__',\n",
       " '__rlshift__',\n",
       " '__rmatmul__',\n",
       " '__rmod__',\n",
       " '__rmul__',\n",
       " '__ror__',\n",
       " '__rpow__',\n",
       " '__rrshift__',\n",
       " '__rshift__',\n",
       " '__rsub__',\n",
       " '__rtruediv__',\n",
       " '__rxor__',\n",
       " '__setattr__',\n",
       " '__setitem__',\n",
       " '__setstate__',\n",
       " '__sizeof__',\n",
       " '__str__',\n",
       " '__sub__',\n",
       " '__subclasshook__',\n",
       " '__truediv__',\n",
       " '__xor__',\n",
       " 'all',\n",
       " 'any',\n",
       " 'argmax',\n",
       " 'argmin',\n",
       " 'argpartition',\n",
       " 'argsort',\n",
       " 'astype',\n",
       " 'base',\n",
       " 'byteswap',\n",
       " 'choose',\n",
       " 'clip',\n",
       " 'compress',\n",
       " 'conj',\n",
       " 'conjugate',\n",
       " 'copy',\n",
       " 'ctypes',\n",
       " 'cumprod',\n",
       " 'cumsum',\n",
       " 'data',\n",
       " 'diagonal',\n",
       " 'dot',\n",
       " 'dtype',\n",
       " 'dump',\n",
       " 'dumps',\n",
       " 'fill',\n",
       " 'flags',\n",
       " 'flat',\n",
       " 'flatten',\n",
       " 'getfield',\n",
       " 'imag',\n",
       " 'item',\n",
       " 'itemset',\n",
       " 'itemsize',\n",
       " 'max',\n",
       " 'mean',\n",
       " 'min',\n",
       " 'nbytes',\n",
       " 'ndim',\n",
       " 'newbyteorder',\n",
       " 'nonzero',\n",
       " 'partition',\n",
       " 'prod',\n",
       " 'ptp',\n",
       " 'put',\n",
       " 'ravel',\n",
       " 'real',\n",
       " 'repeat',\n",
       " 'reshape',\n",
       " 'resize',\n",
       " 'round',\n",
       " 'searchsorted',\n",
       " 'setfield',\n",
       " 'setflags',\n",
       " 'shape',\n",
       " 'size',\n",
       " 'sort',\n",
       " 'squeeze',\n",
       " 'std',\n",
       " 'strides',\n",
       " 'sum',\n",
       " 'swapaxes',\n",
       " 'take',\n",
       " 'tobytes',\n",
       " 'tofile',\n",
       " 'tolist',\n",
       " 'tostring',\n",
       " 'trace',\n",
       " 'transpose',\n",
       " 'var',\n",
       " 'view']"
      ]
     },
     "execution_count": 48,
     "metadata": {},
     "output_type": "execute_result"
    }
   ],
   "source": [
    "dir(a1)"
   ]
  },
  {
   "cell_type": "code",
   "execution_count": 49,
   "id": "successful-healing",
   "metadata": {
    "scrolled": true
   },
   "outputs": [
    {
     "data": {
      "text/plain": [
       "\u001b[1;31mType:\u001b[0m            ndarray\n",
       "\u001b[1;31mString form:\u001b[0m     [1 2 3 4]\n",
       "\u001b[1;31mLength:\u001b[0m          4\n",
       "\u001b[1;31mFile:\u001b[0m            c:\\users\\phili\\anaconda3\\lib\\site-packages\\numpy\\__init__.py\n",
       "\u001b[1;31mDocstring:\u001b[0m       <no docstring>\n",
       "\u001b[1;31mClass docstring:\u001b[0m\n",
       "ndarray(shape, dtype=float, buffer=None, offset=0,\n",
       "        strides=None, order=None)\n",
       "\n",
       "An array object represents a multidimensional, homogeneous array\n",
       "of fixed-size items.  An associated data-type object describes the\n",
       "format of each element in the array (its byte-order, how many bytes it\n",
       "occupies in memory, whether it is an integer, a floating point number,\n",
       "or something else, etc.)\n",
       "\n",
       "Arrays should be constructed using `array`, `zeros` or `empty` (refer\n",
       "to the See Also section below).  The parameters given here refer to\n",
       "a low-level method (`ndarray(...)`) for instantiating an array.\n",
       "\n",
       "For more information, refer to the `numpy` module and examine the\n",
       "methods and attributes of an array.\n",
       "\n",
       "Parameters\n",
       "----------\n",
       "(for the __new__ method; see Notes below)\n",
       "\n",
       "shape : tuple of ints\n",
       "    Shape of created array.\n",
       "dtype : data-type, optional\n",
       "    Any object that can be interpreted as a numpy data type.\n",
       "buffer : object exposing buffer interface, optional\n",
       "    Used to fill the array with data.\n",
       "offset : int, optional\n",
       "    Offset of array data in buffer.\n",
       "strides : tuple of ints, optional\n",
       "    Strides of data in memory.\n",
       "order : {'C', 'F'}, optional\n",
       "    Row-major (C-style) or column-major (Fortran-style) order.\n",
       "\n",
       "Attributes\n",
       "----------\n",
       "T : ndarray\n",
       "    Transpose of the array.\n",
       "data : buffer\n",
       "    The array's elements, in memory.\n",
       "dtype : dtype object\n",
       "    Describes the format of the elements in the array.\n",
       "flags : dict\n",
       "    Dictionary containing information related to memory use, e.g.,\n",
       "    'C_CONTIGUOUS', 'OWNDATA', 'WRITEABLE', etc.\n",
       "flat : numpy.flatiter object\n",
       "    Flattened version of the array as an iterator.  The iterator\n",
       "    allows assignments, e.g., ``x.flat = 3`` (See `ndarray.flat` for\n",
       "    assignment examples; TODO).\n",
       "imag : ndarray\n",
       "    Imaginary part of the array.\n",
       "real : ndarray\n",
       "    Real part of the array.\n",
       "size : int\n",
       "    Number of elements in the array.\n",
       "itemsize : int\n",
       "    The memory use of each array element in bytes.\n",
       "nbytes : int\n",
       "    The total number of bytes required to store the array data,\n",
       "    i.e., ``itemsize * size``.\n",
       "ndim : int\n",
       "    The array's number of dimensions.\n",
       "shape : tuple of ints\n",
       "    Shape of the array.\n",
       "strides : tuple of ints\n",
       "    The step-size required to move from one element to the next in\n",
       "    memory. For example, a contiguous ``(3, 4)`` array of type\n",
       "    ``int16`` in C-order has strides ``(8, 2)``.  This implies that\n",
       "    to move from element to element in memory requires jumps of 2 bytes.\n",
       "    To move from row-to-row, one needs to jump 8 bytes at a time\n",
       "    (``2 * 4``).\n",
       "ctypes : ctypes object\n",
       "    Class containing properties of the array needed for interaction\n",
       "    with ctypes.\n",
       "base : ndarray\n",
       "    If the array is a view into another array, that array is its `base`\n",
       "    (unless that array is also a view).  The `base` array is where the\n",
       "    array data is actually stored.\n",
       "\n",
       "See Also\n",
       "--------\n",
       "array : Construct an array.\n",
       "zeros : Create an array, each element of which is zero.\n",
       "empty : Create an array, but leave its allocated memory unchanged (i.e.,\n",
       "        it contains \"garbage\").\n",
       "dtype : Create a data-type.\n",
       "\n",
       "Notes\n",
       "-----\n",
       "There are two modes of creating an array using ``__new__``:\n",
       "\n",
       "1. If `buffer` is None, then only `shape`, `dtype`, and `order`\n",
       "   are used.\n",
       "2. If `buffer` is an object exposing the buffer interface, then\n",
       "   all keywords are interpreted.\n",
       "\n",
       "No ``__init__`` method is needed because the array is fully initialized\n",
       "after the ``__new__`` method.\n",
       "\n",
       "Examples\n",
       "--------\n",
       "These examples illustrate the low-level `ndarray` constructor.  Refer\n",
       "to the `See Also` section above for easier ways of constructing an\n",
       "ndarray.\n",
       "\n",
       "First mode, `buffer` is None:\n",
       "\n",
       ">>> np.ndarray(shape=(2,2), dtype=float, order='F')\n",
       "array([[0.0e+000, 0.0e+000], # random\n",
       "       [     nan, 2.5e-323]])\n",
       "\n",
       "Second mode:\n",
       "\n",
       ">>> np.ndarray((2,), buffer=np.array([1,2,3]),\n",
       "...            offset=np.int_().itemsize,\n",
       "...            dtype=int) # offset = 1*itemsize, i.e. skip first element\n",
       "array([2, 3])\n"
      ]
     },
     "metadata": {},
     "output_type": "display_data"
    }
   ],
   "source": [
    "? a1"
   ]
  },
  {
   "cell_type": "markdown",
   "id": "abroad-shift",
   "metadata": {},
   "source": [
    "### ndarray dtype"
   ]
  },
  {
   "cell_type": "markdown",
   "id": "invalid-richards",
   "metadata": {},
   "source": [
    "Recall that attributes are objects or instances of a class and are called without input arguments. We can use the dtype attribute to examine the datatype of each element in the numpy array."
   ]
  },
  {
   "cell_type": "code",
   "execution_count": 50,
   "id": "public-extraction",
   "metadata": {},
   "outputs": [
    {
     "data": {
      "text/plain": [
       "array([1, 2, 3, 4])"
      ]
     },
     "execution_count": 50,
     "metadata": {},
     "output_type": "execute_result"
    }
   ],
   "source": [
    "a1"
   ]
  },
  {
   "cell_type": "code",
   "execution_count": 51,
   "id": "specialized-activation",
   "metadata": {},
   "outputs": [
    {
     "data": {
      "text/plain": [
       "dtype('int32')"
      ]
     },
     "execution_count": 51,
     "metadata": {},
     "output_type": "execute_result"
    }
   ],
   "source": [
    "a1.dtype"
   ]
  },
  {
   "cell_type": "markdown",
   "id": "shared-prize",
   "metadata": {},
   "source": [
    "This differs from the function type which tells us the object a1 is a numpy array."
   ]
  },
  {
   "cell_type": "code",
   "execution_count": 52,
   "id": "international-phone",
   "metadata": {},
   "outputs": [
    {
     "data": {
      "text/plain": [
       "numpy.ndarray"
      ]
     },
     "execution_count": 52,
     "metadata": {},
     "output_type": "execute_result"
    }
   ],
   "source": [
    "type(a1)"
   ]
  },
  {
   "cell_type": "markdown",
   "id": "unauthorized-stockholm",
   "metadata": {},
   "source": [
    "We can specify the datatype while creating the array. To do se we can change the keyword input argument dtype. In this example we will override the default behaviour from None (inferred) and set it to float."
   ]
  },
  {
   "cell_type": "code",
   "execution_count": 53,
   "id": "technical-assembly",
   "metadata": {},
   "outputs": [],
   "source": [
    "a2=np.array(a1,dtype=float)"
   ]
  },
  {
   "cell_type": "markdown",
   "id": "postal-basics",
   "metadata": {},
   "source": [
    "We can see the decimal point after each value in the numpy array."
   ]
  },
  {
   "cell_type": "code",
   "execution_count": 54,
   "id": "moving-angola",
   "metadata": {},
   "outputs": [
    {
     "data": {
      "text/plain": [
       "array([1., 2., 3., 4.])"
      ]
     },
     "execution_count": 54,
     "metadata": {},
     "output_type": "execute_result"
    }
   ],
   "source": [
    "a2"
   ]
  },
  {
   "cell_type": "code",
   "execution_count": 55,
   "id": "improving-environment",
   "metadata": {},
   "outputs": [
    {
     "data": {
      "text/plain": [
       "dtype('float64')"
      ]
     },
     "execution_count": 55,
     "metadata": {},
     "output_type": "execute_result"
    }
   ],
   "source": [
    "a2.dtype"
   ]
  },
  {
   "cell_type": "code",
   "execution_count": 56,
   "id": "backed-minimum",
   "metadata": {},
   "outputs": [
    {
     "data": {
      "text/plain": [
       "numpy.ndarray"
      ]
     },
     "execution_count": 56,
     "metadata": {},
     "output_type": "execute_result"
    }
   ],
   "source": [
    "type(a2)"
   ]
  },
  {
   "cell_type": "markdown",
   "id": "exotic-question",
   "metadata": {},
   "source": [
    "Another imporant attribute is the shape of an array."
   ]
  },
  {
   "cell_type": "markdown",
   "id": "through-cable",
   "metadata": {},
   "source": [
    "### ndarray shape, reshape, ndim and size"
   ]
  },
  {
   "cell_type": "markdown",
   "id": "duplicate-stress",
   "metadata": {},
   "source": [
    "We can use the attribut shape to get the dimensions of the array."
   ]
  },
  {
   "cell_type": "code",
   "execution_count": 57,
   "id": "alpine-acrylic",
   "metadata": {},
   "outputs": [
    {
     "data": {
      "text/plain": [
       "(4,)"
      ]
     },
     "execution_count": 57,
     "metadata": {},
     "output_type": "execute_result"
    }
   ],
   "source": [
    "a1.shape"
   ]
  },
  {
   "cell_type": "markdown",
   "id": "expensive-trade",
   "metadata": {},
   "source": [
    "Many of the attributes have an analagous function which can be called directly from the np library. To get details about the input arguments type in the function name followed by shift ⇧ and tab ↹. We see that the array a needs to referenced as an input argument."
   ]
  },
  {
   "cell_type": "code",
   "execution_count": 58,
   "id": "likely-concern",
   "metadata": {},
   "outputs": [
    {
     "data": {
      "text/plain": [
       "(4,)"
      ]
     },
     "execution_count": 58,
     "metadata": {},
     "output_type": "execute_result"
    }
   ],
   "source": [
    "np.shape(a1)"
   ]
  },
  {
   "cell_type": "markdown",
   "id": "rational-benchmark",
   "metadata": {},
   "source": [
    "![shape_docstring](shape_docstring.png)"
   ]
  },
  {
   "cell_type": "markdown",
   "id": "optimum-abortion",
   "metadata": {},
   "source": [
    "Notice that the output above is (4,) which means the array has only a single dimension. It is neither a column or a row. We can use the attribute ndim or the numpy fnction ndim to check the number of dimensions."
   ]
  },
  {
   "cell_type": "code",
   "execution_count": 59,
   "id": "vanilla-daughter",
   "metadata": {},
   "outputs": [
    {
     "data": {
      "text/plain": [
       "1"
      ]
     },
     "execution_count": 59,
     "metadata": {},
     "output_type": "execute_result"
    }
   ],
   "source": [
    "a1.ndim"
   ]
  },
  {
   "cell_type": "code",
   "execution_count": 60,
   "id": "planned-blood",
   "metadata": {},
   "outputs": [
    {
     "data": {
      "text/plain": [
       "1"
      ]
     },
     "execution_count": 60,
     "metadata": {},
     "output_type": "execute_result"
    }
   ],
   "source": [
    "np.ndim(a1)"
   ]
  },
  {
   "cell_type": "markdown",
   "id": "dramatic-synthesis",
   "metadata": {},
   "source": [
    "The method size or numpy function size will give the number of elements in the array."
   ]
  },
  {
   "cell_type": "code",
   "execution_count": 61,
   "id": "solid-tennessee",
   "metadata": {},
   "outputs": [
    {
     "data": {
      "text/plain": [
       "4"
      ]
     },
     "execution_count": 61,
     "metadata": {},
     "output_type": "execute_result"
    }
   ],
   "source": [
    "a1.size"
   ]
  },
  {
   "cell_type": "code",
   "execution_count": 62,
   "id": "light-marble",
   "metadata": {},
   "outputs": [
    {
     "data": {
      "text/plain": [
       "4"
      ]
     },
     "execution_count": 62,
     "metadata": {},
     "output_type": "execute_result"
    }
   ],
   "source": [
    "np.size(a1)"
   ]
  },
  {
   "cell_type": "markdown",
   "id": "developed-investor",
   "metadata": {},
   "source": [
    "Let's create a matrix using a list of equally spaced lists."
   ]
  },
  {
   "cell_type": "code",
   "execution_count": 63,
   "id": "hungry-strengthening",
   "metadata": {},
   "outputs": [],
   "source": [
    "m1=[[1,2,3,4],\n",
    "    [1,0,3,4],\n",
    "    [2,3,1,1]]"
   ]
  },
  {
   "cell_type": "markdown",
   "id": "silver-booth",
   "metadata": {},
   "source": [
    "Now let's convert it to a numpy array."
   ]
  },
  {
   "cell_type": "code",
   "execution_count": 64,
   "id": "ultimate-title",
   "metadata": {},
   "outputs": [],
   "source": [
    "m1=np.array(m1)"
   ]
  },
  {
   "cell_type": "code",
   "execution_count": 65,
   "id": "unnecessary-wrong",
   "metadata": {},
   "outputs": [
    {
     "data": {
      "text/plain": [
       "array([[1, 2, 3, 4],\n",
       "       [1, 0, 3, 4],\n",
       "       [2, 3, 1, 1]])"
      ]
     },
     "execution_count": 65,
     "metadata": {},
     "output_type": "execute_result"
    }
   ],
   "source": [
    "m1"
   ]
  },
  {
   "cell_type": "markdown",
   "id": "straight-complex",
   "metadata": {},
   "source": [
    "Now let's look at the number of dimensions. This is 2 as expected (rows and columns)."
   ]
  },
  {
   "cell_type": "code",
   "execution_count": 66,
   "id": "norman-isaac",
   "metadata": {},
   "outputs": [
    {
     "data": {
      "text/plain": [
       "2"
      ]
     },
     "execution_count": 66,
     "metadata": {},
     "output_type": "execute_result"
    }
   ],
   "source": [
    "m1.ndim"
   ]
  },
  {
   "cell_type": "markdown",
   "id": "endless-development",
   "metadata": {},
   "source": [
    "Now shape returns a tuple corresponding to the number of rows and number of columsn respectively."
   ]
  },
  {
   "cell_type": "code",
   "execution_count": 67,
   "id": "moving-chance",
   "metadata": {},
   "outputs": [
    {
     "data": {
      "text/plain": [
       "(3, 4)"
      ]
     },
     "execution_count": 67,
     "metadata": {},
     "output_type": "execute_result"
    }
   ],
   "source": [
    "m1.shape"
   ]
  },
  {
   "cell_type": "markdown",
   "id": "uniform-malawi",
   "metadata": {},
   "source": [
    "In some cases we may want to use tuple unpacking to get the dimensions as variables."
   ]
  },
  {
   "cell_type": "code",
   "execution_count": 68,
   "id": "frozen-spank",
   "metadata": {},
   "outputs": [],
   "source": [
    "(nrows,ncols)=m1.shape"
   ]
  },
  {
   "cell_type": "code",
   "execution_count": 69,
   "id": "excessive-syndrome",
   "metadata": {},
   "outputs": [
    {
     "data": {
      "text/plain": [
       "3"
      ]
     },
     "execution_count": 69,
     "metadata": {},
     "output_type": "execute_result"
    }
   ],
   "source": [
    "nrows"
   ]
  },
  {
   "cell_type": "code",
   "execution_count": 70,
   "id": "unique-oracle",
   "metadata": {},
   "outputs": [
    {
     "data": {
      "text/plain": [
       "4"
      ]
     },
     "execution_count": 70,
     "metadata": {},
     "output_type": "execute_result"
    }
   ],
   "source": [
    "ncols"
   ]
  },
  {
   "cell_type": "markdown",
   "id": "humanitarian-sapphire",
   "metadata": {},
   "source": [
    "We can now look at the size. This is 12 as expected 3 rows × 4 columns = 12 elements."
   ]
  },
  {
   "cell_type": "code",
   "execution_count": 71,
   "id": "destroyed-surprise",
   "metadata": {},
   "outputs": [
    {
     "data": {
      "text/plain": [
       "12"
      ]
     },
     "execution_count": 71,
     "metadata": {},
     "output_type": "execute_result"
    }
   ],
   "source": [
    "m1.size"
   ]
  },
  {
   "cell_type": "code",
   "execution_count": 72,
   "id": "optimum-worry",
   "metadata": {},
   "outputs": [
    {
     "data": {
      "text/plain": [
       "array([[1, 2, 3, 4],\n",
       "       [1, 0, 3, 4],\n",
       "       [2, 3, 1, 1]])"
      ]
     },
     "execution_count": 72,
     "metadata": {},
     "output_type": "execute_result"
    }
   ],
   "source": [
    "m1"
   ]
  },
  {
   "cell_type": "markdown",
   "id": "interior-wichita",
   "metadata": {},
   "source": [
    "We can use the method flatten to flatten a 2d ndarray matrix into a 1d ndarray. If we type in the method followed by shift ⇧ and tab ↹ we see that it has a keyword input argument order which has default value of 'C' which stands for the C programming language and will flatten the matrix using row-major order. N.B. 'C' in this context shouldn't be confused with columns."
   ]
  },
  {
   "cell_type": "markdown",
   "id": "alive-cattle",
   "metadata": {},
   "source": [
    "![array_method_flatten](array_method_flatten.png)"
   ]
  },
  {
   "cell_type": "code",
   "execution_count": 73,
   "id": "opened-burst",
   "metadata": {},
   "outputs": [
    {
     "data": {
      "text/plain": [
       "array([1, 2, 3, 4, 1, 0, 3, 4, 2, 3, 1, 1])"
      ]
     },
     "execution_count": 73,
     "metadata": {},
     "output_type": "execute_result"
    }
   ],
   "source": [
    "m1.flatten()"
   ]
  },
  {
   "cell_type": "markdown",
   "id": "united-imaging",
   "metadata": {},
   "source": [
    "We can use the reshape method to reshape an array to new dimensions. Once again to get the input arguments we can type in the method name followed by a shift ⇧ and tab ↹. We have the positional input argument shape. Note the size of the new shape must match the size of the old shape. We can reshape the original 3 rows by 4 columns matrix (3×4=12) to a 2 rows by 6 columns matrix (2×6=12). The shape is input as a tuple."
   ]
  },
  {
   "cell_type": "markdown",
   "id": "dietary-junction",
   "metadata": {},
   "source": [
    "![ndarray_method_reshape](ndarray_method_reshape.png)"
   ]
  },
  {
   "cell_type": "code",
   "execution_count": 74,
   "id": "foreign-injury",
   "metadata": {},
   "outputs": [
    {
     "data": {
      "text/plain": [
       "array([[1, 2, 3, 4, 1, 0],\n",
       "       [3, 4, 2, 3, 1, 1]])"
      ]
     },
     "execution_count": 74,
     "metadata": {},
     "output_type": "execute_result"
    }
   ],
   "source": [
    "m1.reshape((2,6))"
   ]
  },
  {
   "cell_type": "markdown",
   "id": "faced-fellow",
   "metadata": {},
   "source": [
    "The numpy function reshape works in a similar manner."
   ]
  },
  {
   "cell_type": "markdown",
   "id": "thermal-excitement",
   "metadata": {},
   "source": [
    "![np_reshape](np_reshape.png)"
   ]
  },
  {
   "cell_type": "code",
   "execution_count": 75,
   "id": "intimate-swiss",
   "metadata": {},
   "outputs": [
    {
     "data": {
      "text/plain": [
       "array([[1, 2, 3, 4, 1, 0],\n",
       "       [3, 4, 2, 3, 1, 1]])"
      ]
     },
     "execution_count": 75,
     "metadata": {},
     "output_type": "execute_result"
    }
   ],
   "source": [
    "np.reshape(m1,(2,6))"
   ]
  },
  {
   "cell_type": "markdown",
   "id": "distributed-salon",
   "metadata": {},
   "source": [
    "Note in either case the output has not be assigned to an object name and displays in a cell. We can reassign the value to the object name m1."
   ]
  },
  {
   "cell_type": "code",
   "execution_count": 76,
   "id": "olive-contents",
   "metadata": {},
   "outputs": [],
   "source": [
    "m1=np.reshape(m1,(2,6))"
   ]
  },
  {
   "cell_type": "markdown",
   "id": "rural-plastic",
   "metadata": {},
   "source": [
    "The value is not shown as it has been reassigned to the object name m1."
   ]
  },
  {
   "cell_type": "code",
   "execution_count": 77,
   "id": "meaning-scout",
   "metadata": {},
   "outputs": [
    {
     "data": {
      "text/plain": [
       "array([[1, 2, 3, 4, 1, 0],\n",
       "       [3, 4, 2, 3, 1, 1]])"
      ]
     },
     "execution_count": 77,
     "metadata": {},
     "output_type": "execute_result"
    }
   ],
   "source": [
    "m1"
   ]
  },
  {
   "cell_type": "markdown",
   "id": "guided-dryer",
   "metadata": {},
   "source": [
    "Let's look again at the 1D array a1."
   ]
  },
  {
   "cell_type": "code",
   "execution_count": 78,
   "id": "ceramic-restoration",
   "metadata": {},
   "outputs": [
    {
     "data": {
      "text/plain": [
       "array([1, 2, 3, 4])"
      ]
     },
     "execution_count": 78,
     "metadata": {},
     "output_type": "execute_result"
    }
   ],
   "source": [
    "a1"
   ]
  },
  {
   "cell_type": "code",
   "execution_count": 79,
   "id": "attractive-excerpt",
   "metadata": {},
   "outputs": [
    {
     "data": {
      "text/plain": [
       "(4,)"
      ]
     },
     "execution_count": 79,
     "metadata": {},
     "output_type": "execute_result"
    }
   ],
   "source": [
    "a1.shape"
   ]
  },
  {
   "cell_type": "code",
   "execution_count": 80,
   "id": "amazing-parent",
   "metadata": {},
   "outputs": [
    {
     "data": {
      "text/plain": [
       "1"
      ]
     },
     "execution_count": 80,
     "metadata": {},
     "output_type": "execute_result"
    }
   ],
   "source": [
    "a1.ndim"
   ]
  },
  {
   "cell_type": "code",
   "execution_count": 81,
   "id": "integrated-picture",
   "metadata": {},
   "outputs": [
    {
     "data": {
      "text/plain": [
       "4"
      ]
     },
     "execution_count": 81,
     "metadata": {},
     "output_type": "execute_result"
    }
   ],
   "source": [
    "a1.size"
   ]
  },
  {
   "cell_type": "markdown",
   "id": "close-courage",
   "metadata": {},
   "source": [
    "We see that it has a single dimension. In some cases we want to explictly reshape it as a row or a column. Recall that the input tuple used in the method reshape has the form (nrows,ncols). To get a row vector by definition we have 1 row and multiple columns. All the elements will be in a seperate column and we can use a1.size to specify this."
   ]
  },
  {
   "cell_type": "code",
   "execution_count": 82,
   "id": "illegal-juvenile",
   "metadata": {},
   "outputs": [],
   "source": [
    "a1_row=a1.reshape((1,a1.size))"
   ]
  },
  {
   "cell_type": "markdown",
   "id": "worthy-eating",
   "metadata": {},
   "source": [
    "Now we see that a1_row is explicitly a row vector ndarray. With a shape of 1 row and 4 columns, 2 dimensions and maintaining a size of 4."
   ]
  },
  {
   "cell_type": "code",
   "execution_count": 83,
   "id": "essential-championship",
   "metadata": {},
   "outputs": [
    {
     "data": {
      "text/plain": [
       "array([[1, 2, 3, 4]])"
      ]
     },
     "execution_count": 83,
     "metadata": {},
     "output_type": "execute_result"
    }
   ],
   "source": [
    "a1_row"
   ]
  },
  {
   "cell_type": "code",
   "execution_count": 84,
   "id": "lyric-phenomenon",
   "metadata": {},
   "outputs": [
    {
     "data": {
      "text/plain": [
       "(1, 4)"
      ]
     },
     "execution_count": 84,
     "metadata": {},
     "output_type": "execute_result"
    }
   ],
   "source": [
    "a1_row.shape"
   ]
  },
  {
   "cell_type": "code",
   "execution_count": 85,
   "id": "cheap-transformation",
   "metadata": {},
   "outputs": [
    {
     "data": {
      "text/plain": [
       "2"
      ]
     },
     "execution_count": 85,
     "metadata": {},
     "output_type": "execute_result"
    }
   ],
   "source": [
    "a1_row.ndim"
   ]
  },
  {
   "cell_type": "code",
   "execution_count": 86,
   "id": "fallen-firewall",
   "metadata": {},
   "outputs": [
    {
     "data": {
      "text/plain": [
       "4"
      ]
     },
     "execution_count": 86,
     "metadata": {},
     "output_type": "execute_result"
    }
   ],
   "source": [
    "a1_row.size"
   ]
  },
  {
   "cell_type": "markdown",
   "id": "prescribed-employer",
   "metadata": {},
   "source": [
    "We can also use the tuple (1,-1). The -1 will reflect that we want want all elements in the tuple."
   ]
  },
  {
   "cell_type": "code",
   "execution_count": 87,
   "id": "sacred-speaker",
   "metadata": {},
   "outputs": [],
   "source": [
    "a1_row=a1.reshape((1,-1))"
   ]
  },
  {
   "cell_type": "code",
   "execution_count": 88,
   "id": "comparable-uncertainty",
   "metadata": {},
   "outputs": [
    {
     "data": {
      "text/plain": [
       "array([[1, 2, 3, 4]])"
      ]
     },
     "execution_count": 88,
     "metadata": {},
     "output_type": "execute_result"
    }
   ],
   "source": [
    "a1_row"
   ]
  },
  {
   "cell_type": "markdown",
   "id": "overhead-davis",
   "metadata": {},
   "source": [
    "To get a column vector by definition we have multiple rows and 1 column. We can set the tuple shape to be (-1,1)."
   ]
  },
  {
   "cell_type": "code",
   "execution_count": 89,
   "id": "historical-return",
   "metadata": {},
   "outputs": [],
   "source": [
    "a1_col=a1.reshape((-1,1))"
   ]
  },
  {
   "cell_type": "code",
   "execution_count": 90,
   "id": "green-mercy",
   "metadata": {},
   "outputs": [
    {
     "data": {
      "text/plain": [
       "array([[1],\n",
       "       [2],\n",
       "       [3],\n",
       "       [4]])"
      ]
     },
     "execution_count": 90,
     "metadata": {},
     "output_type": "execute_result"
    }
   ],
   "source": [
    "a1_col"
   ]
  },
  {
   "cell_type": "code",
   "execution_count": 91,
   "id": "mobile-involvement",
   "metadata": {},
   "outputs": [
    {
     "data": {
      "text/plain": [
       "(4, 1)"
      ]
     },
     "execution_count": 91,
     "metadata": {},
     "output_type": "execute_result"
    }
   ],
   "source": [
    "a1_col.shape"
   ]
  },
  {
   "cell_type": "code",
   "execution_count": 92,
   "id": "miniature-brook",
   "metadata": {},
   "outputs": [
    {
     "data": {
      "text/plain": [
       "2"
      ]
     },
     "execution_count": 92,
     "metadata": {},
     "output_type": "execute_result"
    }
   ],
   "source": [
    "a1_col.ndim"
   ]
  },
  {
   "cell_type": "code",
   "execution_count": 93,
   "id": "norman-disclaimer",
   "metadata": {},
   "outputs": [
    {
     "data": {
      "text/plain": [
       "4"
      ]
     },
     "execution_count": 93,
     "metadata": {},
     "output_type": "execute_result"
    }
   ],
   "source": [
    "a1_col.size"
   ]
  },
  {
   "cell_type": "markdown",
   "id": "hazardous-camel",
   "metadata": {},
   "source": [
    "### Indexing ndarrays"
   ]
  },
  {
   "cell_type": "markdown",
   "id": "expanded-democracy",
   "metadata": {},
   "source": [
    "Let's have a look at the list."
   ]
  },
  {
   "cell_type": "code",
   "execution_count": 94,
   "id": "hawaiian-captain",
   "metadata": {},
   "outputs": [],
   "source": [
    "l2=[2,4,6,8]"
   ]
  },
  {
   "cell_type": "code",
   "execution_count": 95,
   "id": "accepting-experiment",
   "metadata": {},
   "outputs": [
    {
     "data": {
      "text/plain": [
       "[2, 4, 6, 8]"
      ]
     },
     "execution_count": 95,
     "metadata": {},
     "output_type": "execute_result"
    }
   ],
   "source": [
    "l2"
   ]
  },
  {
   "cell_type": "markdown",
   "id": "forward-mexico",
   "metadata": {},
   "source": [
    "Recall we can index into a list using square brackets. For example to retrieve the value at index 2 we can use."
   ]
  },
  {
   "cell_type": "code",
   "execution_count": 96,
   "id": "photographic-affect",
   "metadata": {},
   "outputs": [
    {
     "data": {
      "text/plain": [
       "6"
      ]
     },
     "execution_count": 96,
     "metadata": {},
     "output_type": "execute_result"
    }
   ],
   "source": [
    "l2[2]"
   ]
  },
  {
   "cell_type": "markdown",
   "id": "norman-dream",
   "metadata": {},
   "source": [
    "Recall we use zero-order indexing so we start from 0 and therefore the value at index 0 is."
   ]
  },
  {
   "cell_type": "code",
   "execution_count": 97,
   "id": "military-current",
   "metadata": {},
   "outputs": [
    {
     "data": {
      "text/plain": [
       "2"
      ]
     },
     "execution_count": 97,
     "metadata": {},
     "output_type": "execute_result"
    }
   ],
   "source": [
    "l2[0]"
   ]
  },
  {
   "cell_type": "markdown",
   "id": "oriental-generic",
   "metadata": {},
   "source": [
    "We can see how this works in more detail by using a for loop."
   ]
  },
  {
   "cell_type": "code",
   "execution_count": 98,
   "id": "informal-tutorial",
   "metadata": {},
   "outputs": [
    {
     "name": "stdout",
     "output_type": "stream",
     "text": [
      "0 2\n",
      "1 4\n",
      "2 6\n",
      "3 8\n"
     ]
    }
   ],
   "source": [
    "for idx,val in enumerate(l2):\n",
    "    print(idx,val)"
   ]
  },
  {
   "cell_type": "markdown",
   "id": "artificial-warrant",
   "metadata": {},
   "source": [
    "The number before 0 is -1 and retrives the value at the last index. This idea is also why -1 is used in the ndarray method reshape."
   ]
  },
  {
   "cell_type": "code",
   "execution_count": 99,
   "id": "lucky-clear",
   "metadata": {},
   "outputs": [
    {
     "data": {
      "text/plain": [
       "8"
      ]
     },
     "execution_count": 99,
     "metadata": {},
     "output_type": "execute_result"
    }
   ],
   "source": [
    "l2[-1]"
   ]
  },
  {
   "cell_type": "markdown",
   "id": "meaningful-dating",
   "metadata": {},
   "source": [
    "We can see how negative indexing works using the for loop."
   ]
  },
  {
   "cell_type": "code",
   "execution_count": 100,
   "id": "olympic-earthquake",
   "metadata": {},
   "outputs": [
    {
     "name": "stdout",
     "output_type": "stream",
     "text": [
      "-4 2\n",
      "-3 4\n",
      "-2 6\n",
      "-1 8\n"
     ]
    }
   ],
   "source": [
    "for idx,val in enumerate(l2):\n",
    "    print(idx-len(l2),val)"
   ]
  },
  {
   "cell_type": "markdown",
   "id": "connected-occupation",
   "metadata": {},
   "source": [
    "Let's now create a numpy array. "
   ]
  },
  {
   "cell_type": "code",
   "execution_count": 101,
   "id": "responsible-nashville",
   "metadata": {},
   "outputs": [],
   "source": [
    "a2=np.array(l2)"
   ]
  },
  {
   "cell_type": "code",
   "execution_count": 102,
   "id": "prime-rider",
   "metadata": {},
   "outputs": [
    {
     "data": {
      "text/plain": [
       "array([2, 4, 6, 8])"
      ]
     },
     "execution_count": 102,
     "metadata": {},
     "output_type": "execute_result"
    }
   ],
   "source": [
    "a2"
   ]
  },
  {
   "cell_type": "markdown",
   "id": "tutorial-expansion",
   "metadata": {},
   "source": [
    "We see that indexing works in a similar manner."
   ]
  },
  {
   "cell_type": "markdown",
   "id": "willing-contributor",
   "metadata": {},
   "source": [
    "![Index2](Index2.png)"
   ]
  },
  {
   "cell_type": "code",
   "execution_count": 103,
   "id": "superior-fiction",
   "metadata": {},
   "outputs": [
    {
     "data": {
      "text/plain": [
       "6"
      ]
     },
     "execution_count": 103,
     "metadata": {},
     "output_type": "execute_result"
    }
   ],
   "source": [
    "a2[2]"
   ]
  },
  {
   "cell_type": "code",
   "execution_count": 104,
   "id": "difficult-railway",
   "metadata": {},
   "outputs": [
    {
     "data": {
      "text/plain": [
       "2"
      ]
     },
     "execution_count": 104,
     "metadata": {},
     "output_type": "execute_result"
    }
   ],
   "source": [
    "a2[0]"
   ]
  },
  {
   "cell_type": "code",
   "execution_count": 105,
   "id": "portuguese-calgary",
   "metadata": {},
   "outputs": [
    {
     "name": "stdout",
     "output_type": "stream",
     "text": [
      "0 2\n",
      "1 4\n",
      "2 6\n",
      "3 8\n"
     ]
    }
   ],
   "source": [
    "for idx,val in enumerate(a2):\n",
    "    print(idx,val)"
   ]
  },
  {
   "cell_type": "code",
   "execution_count": 106,
   "id": "heavy-yorkshire",
   "metadata": {},
   "outputs": [
    {
     "name": "stdout",
     "output_type": "stream",
     "text": [
      "-4 2\n",
      "-3 4\n",
      "-2 6\n",
      "-1 8\n"
     ]
    }
   ],
   "source": [
    "for idx,val in enumerate(a2):\n",
    "    print(idx-len(l2),val)"
   ]
  },
  {
   "cell_type": "markdown",
   "id": "opposite-filling",
   "metadata": {},
   "source": [
    "Let's now have a look at a 2D ndarray known as a matrix. We can make a list of lists."
   ]
  },
  {
   "cell_type": "code",
   "execution_count": 107,
   "id": "supported-measurement",
   "metadata": {},
   "outputs": [],
   "source": [
    "m2=[[2,4,6,8],\n",
    "    [1,3,5,7]]"
   ]
  },
  {
   "cell_type": "code",
   "execution_count": 108,
   "id": "still-pacific",
   "metadata": {},
   "outputs": [
    {
     "data": {
      "text/plain": [
       "[[2, 4, 6, 8], [1, 3, 5, 7]]"
      ]
     },
     "execution_count": 108,
     "metadata": {},
     "output_type": "execute_result"
    }
   ],
   "source": [
    "m2"
   ]
  },
  {
   "cell_type": "markdown",
   "id": "remarkable-hungarian",
   "metadata": {},
   "source": [
    "Indexing using square brackets will index into the outer list. If we select the 1st index we get the nested list."
   ]
  },
  {
   "cell_type": "code",
   "execution_count": 109,
   "id": "violent-solomon",
   "metadata": {},
   "outputs": [
    {
     "data": {
      "text/plain": [
       "[1, 3, 5, 7]"
      ]
     },
     "execution_count": 109,
     "metadata": {},
     "output_type": "execute_result"
    }
   ],
   "source": [
    "m2[1]"
   ]
  },
  {
   "cell_type": "markdown",
   "id": "continued-secretariat",
   "metadata": {},
   "source": [
    "We can then index into this, for example to get the 2nd element within this nested list."
   ]
  },
  {
   "cell_type": "code",
   "execution_count": 110,
   "id": "swedish-atlas",
   "metadata": {},
   "outputs": [
    {
     "data": {
      "text/plain": [
       "5"
      ]
     },
     "execution_count": 110,
     "metadata": {},
     "output_type": "execute_result"
    }
   ],
   "source": [
    "m2[1][2]"
   ]
  },
  {
   "cell_type": "markdown",
   "id": "forced-display",
   "metadata": {},
   "source": [
    "Notice the square brackets are seperate as we perform two seperate index operations i.e. indexing into the outer list and then indexing into the nested inner list.)"
   ]
  },
  {
   "cell_type": "code",
   "execution_count": 111,
   "id": "brave-couple",
   "metadata": {},
   "outputs": [
    {
     "data": {
      "text/plain": [
       "[[2, 4, 6, 8], [1, 3, 5, 7]]"
      ]
     },
     "execution_count": 111,
     "metadata": {},
     "output_type": "execute_result"
    }
   ],
   "source": [
    "m2"
   ]
  },
  {
   "cell_type": "markdown",
   "id": "adopted-advice",
   "metadata": {},
   "source": [
    "Let's now create an array from this matrix."
   ]
  },
  {
   "cell_type": "code",
   "execution_count": 112,
   "id": "least-august",
   "metadata": {},
   "outputs": [],
   "source": [
    "m2=np.array(m2)"
   ]
  },
  {
   "cell_type": "code",
   "execution_count": 113,
   "id": "hearing-washington",
   "metadata": {},
   "outputs": [
    {
     "data": {
      "text/plain": [
       "array([[2, 4, 6, 8],\n",
       "       [1, 3, 5, 7]])"
      ]
     },
     "execution_count": 113,
     "metadata": {},
     "output_type": "execute_result"
    }
   ],
   "source": [
    "m2"
   ]
  },
  {
   "cell_type": "markdown",
   "id": "cooked-georgia",
   "metadata": {},
   "source": [
    "Compare the output of m2 as a list of lists and a ndarray. The ndarray looks more like a matrix. We use a single indexing operation to select the desired row and column in a ndarray. We can specify a tuple as the input argument (analogous to the form of the shape when using the shape and reshape methods)."
   ]
  },
  {
   "cell_type": "markdown",
   "id": "environmental-highlight",
   "metadata": {},
   "source": [
    "![row2_col1](row2_col1.png)"
   ]
  },
  {
   "cell_type": "code",
   "execution_count": 114,
   "id": "infinite-paraguay",
   "metadata": {},
   "outputs": [
    {
     "data": {
      "text/plain": [
       "5"
      ]
     },
     "execution_count": 114,
     "metadata": {},
     "output_type": "execute_result"
    }
   ],
   "source": [
    "m2[(1,2)]"
   ]
  },
  {
   "cell_type": "markdown",
   "id": "center-efficiency",
   "metadata": {},
   "source": [
    "Alternatively tuple unpacking works so the outer parenthesis do not need to be specified."
   ]
  },
  {
   "cell_type": "code",
   "execution_count": 115,
   "id": "together-pendant",
   "metadata": {},
   "outputs": [
    {
     "data": {
      "text/plain": [
       "5"
      ]
     },
     "execution_count": 115,
     "metadata": {},
     "output_type": "execute_result"
    }
   ],
   "source": [
    "m2[1,2]"
   ]
  },
  {
   "cell_type": "markdown",
   "id": "enabling-seeking",
   "metadata": {},
   "source": [
    "Let's return to our color image. For convenice we will add 1 additional row and 2 additional columsn so all the dimensions are of differing sizes."
   ]
  },
  {
   "cell_type": "code",
   "execution_count": 116,
   "id": "complete-valuation",
   "metadata": {},
   "outputs": [],
   "source": [
    "color_image=[[[1.0,0.0,0.0,0.0,0.0],\n",
    "              [1.0,0.0,1.0,0.0,0.0],\n",
    "              [0.0,0.5,1.0,0.0,0.0],\n",
    "              [0.0,0.0,0.0,0.0,0.0]],\n",
    "             \n",
    "             [[0.0,1.0,0.0,0.0,0.0],\n",
    "              [1.0,1.0,0.0,0.0,0.0],\n",
    "              [0.0,0.5,1.0,0.0,0.0],\n",
    "              [0.0,0.0,0.0,0.0,0.0]],\n",
    "             \n",
    "             [[0.0,0.0,1.0,0.0,0.0],\n",
    "              [0.0,1.0,1.0,0.0,0.0],\n",
    "              [0.0,0.5,1.0,0.0,0.0],\n",
    "              [0.0,0.0,0.0,0.0,0.0]]]"
   ]
  },
  {
   "cell_type": "markdown",
   "id": "simplified-keyboard",
   "metadata": {},
   "source": [
    "Now let's convert this to a ndarray. "
   ]
  },
  {
   "cell_type": "code",
   "execution_count": 117,
   "id": "vulnerable-science",
   "metadata": {},
   "outputs": [],
   "source": [
    "color_image=np.array(color_image)"
   ]
  },
  {
   "cell_type": "markdown",
   "id": "banner-liechtenstein",
   "metadata": {},
   "source": [
    "We see the nd array displays this higher dimensional array as seperate matrices similar to the manner we laid out above."
   ]
  },
  {
   "cell_type": "code",
   "execution_count": 118,
   "id": "standard-bracket",
   "metadata": {},
   "outputs": [
    {
     "data": {
      "text/plain": [
       "array([[[1. , 0. , 0. , 0. , 0. ],\n",
       "        [1. , 0. , 1. , 0. , 0. ],\n",
       "        [0. , 0.5, 1. , 0. , 0. ],\n",
       "        [0. , 0. , 0. , 0. , 0. ]],\n",
       "\n",
       "       [[0. , 1. , 0. , 0. , 0. ],\n",
       "        [1. , 1. , 0. , 0. , 0. ],\n",
       "        [0. , 0.5, 1. , 0. , 0. ],\n",
       "        [0. , 0. , 0. , 0. , 0. ]],\n",
       "\n",
       "       [[0. , 0. , 1. , 0. , 0. ],\n",
       "        [0. , 1. , 1. , 0. , 0. ],\n",
       "        [0. , 0.5, 1. , 0. , 0. ],\n",
       "        [0. , 0. , 0. , 0. , 0. ]]])"
      ]
     },
     "execution_count": 118,
     "metadata": {},
     "output_type": "execute_result"
    }
   ],
   "source": [
    "color_image"
   ]
  },
  {
   "cell_type": "markdown",
   "id": "organized-bicycle",
   "metadata": {},
   "source": [
    "The number of dimensions is now 3."
   ]
  },
  {
   "cell_type": "code",
   "execution_count": 119,
   "id": "homeless-mustang",
   "metadata": {},
   "outputs": [
    {
     "data": {
      "text/plain": [
       "3"
      ]
     },
     "execution_count": 119,
     "metadata": {},
     "output_type": "execute_result"
    }
   ],
   "source": [
    "color_image.ndim"
   ]
  },
  {
   "cell_type": "markdown",
   "id": "disturbed-elder",
   "metadata": {},
   "source": [
    "If we have a look at the shape we see three elements which represent the number of pages, number of rows and then number of columns."
   ]
  },
  {
   "cell_type": "code",
   "execution_count": 120,
   "id": "diverse-orlando",
   "metadata": {},
   "outputs": [
    {
     "data": {
      "text/plain": [
       "(3, 4, 5)"
      ]
     },
     "execution_count": 120,
     "metadata": {},
     "output_type": "execute_result"
    }
   ],
   "source": [
    "color_image.shape"
   ]
  },
  {
   "cell_type": "code",
   "execution_count": 121,
   "id": "federal-honduras",
   "metadata": {},
   "outputs": [],
   "source": [
    "(npags,nrows,ncols)=color_image.shape"
   ]
  },
  {
   "cell_type": "code",
   "execution_count": 122,
   "id": "resistant-wesley",
   "metadata": {},
   "outputs": [
    {
     "data": {
      "text/plain": [
       "3"
      ]
     },
     "execution_count": 122,
     "metadata": {},
     "output_type": "execute_result"
    }
   ],
   "source": [
    "npags"
   ]
  },
  {
   "cell_type": "code",
   "execution_count": 123,
   "id": "academic-desert",
   "metadata": {},
   "outputs": [
    {
     "data": {
      "text/plain": [
       "4"
      ]
     },
     "execution_count": 123,
     "metadata": {},
     "output_type": "execute_result"
    }
   ],
   "source": [
    "nrows"
   ]
  },
  {
   "cell_type": "code",
   "execution_count": 124,
   "id": "natural-suspect",
   "metadata": {},
   "outputs": [
    {
     "data": {
      "text/plain": [
       "5"
      ]
     },
     "execution_count": 124,
     "metadata": {},
     "output_type": "execute_result"
    }
   ],
   "source": [
    "ncols"
   ]
  },
  {
   "cell_type": "markdown",
   "id": "beginning-harvard",
   "metadata": {},
   "source": [
    "We can once again index using a tuple of the form above."
   ]
  },
  {
   "cell_type": "markdown",
   "id": "increasing-scene",
   "metadata": {},
   "source": [
    "![page2_row1_col0](page2_row1_col0.png)"
   ]
  },
  {
   "cell_type": "code",
   "execution_count": 125,
   "id": "caroline-split",
   "metadata": {},
   "outputs": [
    {
     "data": {
      "text/plain": [
       "0.0"
      ]
     },
     "execution_count": 125,
     "metadata": {},
     "output_type": "execute_result"
    }
   ],
   "source": [
    "color_image[(2,1,0)]"
   ]
  },
  {
   "cell_type": "markdown",
   "id": "scheduled-graduate",
   "metadata": {},
   "source": [
    "Let's assign this to a new value."
   ]
  },
  {
   "cell_type": "code",
   "execution_count": 126,
   "id": "subjective-victim",
   "metadata": {},
   "outputs": [],
   "source": [
    "color_image[(2,1,0)]=99"
   ]
  },
  {
   "cell_type": "markdown",
   "id": "important-vintage",
   "metadata": {},
   "source": [
    "We see the value previously highlighted is now 99."
   ]
  },
  {
   "cell_type": "code",
   "execution_count": 127,
   "id": "solar-teach",
   "metadata": {},
   "outputs": [
    {
     "data": {
      "text/plain": [
       "array([[[ 1. ,  0. ,  0. ,  0. ,  0. ],\n",
       "        [ 1. ,  0. ,  1. ,  0. ,  0. ],\n",
       "        [ 0. ,  0.5,  1. ,  0. ,  0. ],\n",
       "        [ 0. ,  0. ,  0. ,  0. ,  0. ]],\n",
       "\n",
       "       [[ 0. ,  1. ,  0. ,  0. ,  0. ],\n",
       "        [ 1. ,  1. ,  0. ,  0. ,  0. ],\n",
       "        [ 0. ,  0.5,  1. ,  0. ,  0. ],\n",
       "        [ 0. ,  0. ,  0. ,  0. ,  0. ]],\n",
       "\n",
       "       [[ 0. ,  0. ,  1. ,  0. ,  0. ],\n",
       "        [99. ,  1. ,  1. ,  0. ,  0. ],\n",
       "        [ 0. ,  0.5,  1. ,  0. ,  0. ],\n",
       "        [ 0. ,  0. ,  0. ,  0. ,  0. ]]])"
      ]
     },
     "execution_count": 127,
     "metadata": {},
     "output_type": "execute_result"
    }
   ],
   "source": [
    "color_image"
   ]
  },
  {
   "cell_type": "markdown",
   "id": "serious-documentation",
   "metadata": {},
   "source": [
    "This can once again be accessed by use of tuple unpacking."
   ]
  },
  {
   "cell_type": "code",
   "execution_count": 128,
   "id": "seventh-dakota",
   "metadata": {},
   "outputs": [
    {
     "data": {
      "text/plain": [
       "99.0"
      ]
     },
     "execution_count": 128,
     "metadata": {},
     "output_type": "execute_result"
    }
   ],
   "source": [
    "color_image[2,1,0]"
   ]
  },
  {
   "cell_type": "markdown",
   "id": "mighty-tourist",
   "metadata": {},
   "source": [
    "We can have a look at a higher dimension object, the colorbook from earlier and convert it into a numpy array."
   ]
  },
  {
   "cell_type": "code",
   "execution_count": 129,
   "id": "corporate-humor",
   "metadata": {},
   "outputs": [
    {
     "data": {
      "text/plain": [
       "[[[[1.0, 0.0, 1.0], [1.0, 1.0, 1.0], [1.0, 0.0, 1.0]],\n",
       "  [[0.0, 0.0, 0.0], [0.0, 0.0, 0.0], [0.0, 0.0, 0.0]],\n",
       "  [[0.0, 0.0, 0.0], [0.0, 0.0, 0.0], [0.0, 0.0, 0.0]]],\n",
       " [[[0.0, 0.0, 0.0], [0.0, 0.0, 0.0], [0.0, 0.0, 0.0]],\n",
       "  [[0.0, 0.0, 0.0], [0.0, 0.0, 0.0], [0.0, 0.0, 0.0]],\n",
       "  [[1.0, 1.0, 1.0], [0.0, 1.0, 0.0], [1.0, 1.0, 1.0]]],\n",
       " [[[0.0, 0.0, 0.0], [0.0, 0.0, 0.0], [0.0, 0.0, 0.0]],\n",
       "  [[0.0, 0.0, 0.0], [0.0, 0.0, 0.0], [0.0, 1.0, 0.0]],\n",
       "  [[0.0, 0.0, 0.0], [0.0, 0.0, 0.0], [0.0, 0.0, 0.0]]]]"
      ]
     },
     "execution_count": 129,
     "metadata": {},
     "output_type": "execute_result"
    }
   ],
   "source": [
    "colorbook"
   ]
  },
  {
   "cell_type": "code",
   "execution_count": 130,
   "id": "necessary-samba",
   "metadata": {},
   "outputs": [],
   "source": [
    "colorbook=np.array(colorbook)"
   ]
  },
  {
   "cell_type": "code",
   "execution_count": 131,
   "id": "occupied-investigation",
   "metadata": {},
   "outputs": [
    {
     "data": {
      "text/plain": [
       "array([[[[1., 0., 1.],\n",
       "         [1., 1., 1.],\n",
       "         [1., 0., 1.]],\n",
       "\n",
       "        [[0., 0., 0.],\n",
       "         [0., 0., 0.],\n",
       "         [0., 0., 0.]],\n",
       "\n",
       "        [[0., 0., 0.],\n",
       "         [0., 0., 0.],\n",
       "         [0., 0., 0.]]],\n",
       "\n",
       "\n",
       "       [[[0., 0., 0.],\n",
       "         [0., 0., 0.],\n",
       "         [0., 0., 0.]],\n",
       "\n",
       "        [[0., 0., 0.],\n",
       "         [0., 0., 0.],\n",
       "         [0., 0., 0.]],\n",
       "\n",
       "        [[1., 1., 1.],\n",
       "         [0., 1., 0.],\n",
       "         [1., 1., 1.]]],\n",
       "\n",
       "\n",
       "       [[[0., 0., 0.],\n",
       "         [0., 0., 0.],\n",
       "         [0., 0., 0.]],\n",
       "\n",
       "        [[0., 0., 0.],\n",
       "         [0., 0., 0.],\n",
       "         [0., 1., 0.]],\n",
       "\n",
       "        [[0., 0., 0.],\n",
       "         [0., 0., 0.],\n",
       "         [0., 0., 0.]]]])"
      ]
     },
     "execution_count": 131,
     "metadata": {},
     "output_type": "execute_result"
    }
   ],
   "source": [
    "colorbook"
   ]
  },
  {
   "cell_type": "markdown",
   "id": "compact-vitamin",
   "metadata": {},
   "source": [
    "If we have a look at the shape we see four elements which represent the number of frames, number of pages, number of rows and then number of columns. note as we go up in dimensionality the index for the new dimension is added to the left."
   ]
  },
  {
   "cell_type": "code",
   "execution_count": 132,
   "id": "athletic-porter",
   "metadata": {},
   "outputs": [
    {
     "data": {
      "text/plain": [
       "(3, 3, 3, 3)"
      ]
     },
     "execution_count": 132,
     "metadata": {},
     "output_type": "execute_result"
    }
   ],
   "source": [
    "colorbook.shape"
   ]
  },
  {
   "cell_type": "code",
   "execution_count": 133,
   "id": "favorite-parish",
   "metadata": {},
   "outputs": [],
   "source": [
    "(nframe,npags,nrows,ncols)=colorbook.shape"
   ]
  },
  {
   "cell_type": "code",
   "execution_count": 134,
   "id": "enabling-caribbean",
   "metadata": {},
   "outputs": [
    {
     "data": {
      "text/plain": [
       "3"
      ]
     },
     "execution_count": 134,
     "metadata": {},
     "output_type": "execute_result"
    }
   ],
   "source": [
    "nframe"
   ]
  },
  {
   "cell_type": "code",
   "execution_count": 135,
   "id": "optional-absolute",
   "metadata": {},
   "outputs": [
    {
     "data": {
      "text/plain": [
       "3"
      ]
     },
     "execution_count": 135,
     "metadata": {},
     "output_type": "execute_result"
    }
   ],
   "source": [
    "npags"
   ]
  },
  {
   "cell_type": "code",
   "execution_count": 136,
   "id": "later-thomson",
   "metadata": {},
   "outputs": [
    {
     "data": {
      "text/plain": [
       "3"
      ]
     },
     "execution_count": 136,
     "metadata": {},
     "output_type": "execute_result"
    }
   ],
   "source": [
    "ncols"
   ]
  },
  {
   "cell_type": "markdown",
   "id": "appreciated-flooring",
   "metadata": {},
   "source": [
    "We can index using a tuple of the form above."
   ]
  },
  {
   "cell_type": "markdown",
   "id": "random-million",
   "metadata": {},
   "source": [
    "![frame0_page1_row2_col1](frame0_page1_row2_col1.png)"
   ]
  },
  {
   "cell_type": "code",
   "execution_count": 137,
   "id": "understanding-software",
   "metadata": {},
   "outputs": [
    {
     "data": {
      "text/plain": [
       "0.0"
      ]
     },
     "execution_count": 137,
     "metadata": {},
     "output_type": "execute_result"
    }
   ],
   "source": [
    "colorbook[(0,1,2,1)]"
   ]
  },
  {
   "cell_type": "markdown",
   "id": "mental-delaware",
   "metadata": {},
   "source": [
    "Once again we can use tuple unpacking, so don't need to specify the parenthesis. Let's reassign the value to 99."
   ]
  },
  {
   "cell_type": "code",
   "execution_count": 138,
   "id": "manufactured-council",
   "metadata": {},
   "outputs": [],
   "source": [
    "colorbook[0,1,2,1]=99"
   ]
  },
  {
   "cell_type": "markdown",
   "id": "induced-brake",
   "metadata": {},
   "source": [
    "We see the value previously highlighted is now updated."
   ]
  },
  {
   "cell_type": "code",
   "execution_count": 139,
   "id": "hollow-complexity",
   "metadata": {},
   "outputs": [
    {
     "data": {
      "text/plain": [
       "array([[[[ 1.,  0.,  1.],\n",
       "         [ 1.,  1.,  1.],\n",
       "         [ 1.,  0.,  1.]],\n",
       "\n",
       "        [[ 0.,  0.,  0.],\n",
       "         [ 0.,  0.,  0.],\n",
       "         [ 0., 99.,  0.]],\n",
       "\n",
       "        [[ 0.,  0.,  0.],\n",
       "         [ 0.,  0.,  0.],\n",
       "         [ 0.,  0.,  0.]]],\n",
       "\n",
       "\n",
       "       [[[ 0.,  0.,  0.],\n",
       "         [ 0.,  0.,  0.],\n",
       "         [ 0.,  0.,  0.]],\n",
       "\n",
       "        [[ 0.,  0.,  0.],\n",
       "         [ 0.,  0.,  0.],\n",
       "         [ 0.,  0.,  0.]],\n",
       "\n",
       "        [[ 1.,  1.,  1.],\n",
       "         [ 0.,  1.,  0.],\n",
       "         [ 1.,  1.,  1.]]],\n",
       "\n",
       "\n",
       "       [[[ 0.,  0.,  0.],\n",
       "         [ 0.,  0.,  0.],\n",
       "         [ 0.,  0.,  0.]],\n",
       "\n",
       "        [[ 0.,  0.,  0.],\n",
       "         [ 0.,  0.,  0.],\n",
       "         [ 0.,  1.,  0.]],\n",
       "\n",
       "        [[ 0.,  0.,  0.],\n",
       "         [ 0.,  0.,  0.],\n",
       "         [ 0.,  0.,  0.]]]])"
      ]
     },
     "execution_count": 139,
     "metadata": {},
     "output_type": "execute_result"
    }
   ],
   "source": [
    "colorbook"
   ]
  },
  {
   "cell_type": "markdown",
   "id": "intensive-simpson",
   "metadata": {},
   "source": [
    "### concatenate and axis of ndarrays"
   ]
  },
  {
   "cell_type": "markdown",
   "id": "appreciated-duration",
   "metadata": {},
   "source": [
    "Recall that for two lists."
   ]
  },
  {
   "cell_type": "code",
   "execution_count": 140,
   "id": "wicked-zealand",
   "metadata": {},
   "outputs": [],
   "source": [
    "l1=[2,4,6,8]"
   ]
  },
  {
   "cell_type": "code",
   "execution_count": 141,
   "id": "amateur-prince",
   "metadata": {},
   "outputs": [],
   "source": [
    "l2=[1,3,5,7]"
   ]
  },
  {
   "cell_type": "markdown",
   "id": "sexual-sentence",
   "metadata": {},
   "source": [
    "The + operator performs concatenation."
   ]
  },
  {
   "cell_type": "code",
   "execution_count": 142,
   "id": "gorgeous-algebra",
   "metadata": {},
   "outputs": [
    {
     "data": {
      "text/plain": [
       "[2, 4, 6, 8, 1, 3, 5, 7]"
      ]
     },
     "execution_count": 142,
     "metadata": {},
     "output_type": "execute_result"
    }
   ],
   "source": [
    "l1+l2"
   ]
  },
  {
   "cell_type": "markdown",
   "id": "original-somewhere",
   "metadata": {},
   "source": [
    "Let's now look at two numpy arrays."
   ]
  },
  {
   "cell_type": "code",
   "execution_count": 143,
   "id": "global-cabin",
   "metadata": {},
   "outputs": [],
   "source": [
    "a1=np.array([2,4,6,8])"
   ]
  },
  {
   "cell_type": "code",
   "execution_count": 144,
   "id": "artificial-darkness",
   "metadata": {},
   "outputs": [],
   "source": [
    "a2=np.array([1,3,5,7])"
   ]
  },
  {
   "cell_type": "markdown",
   "id": "engaging-explorer",
   "metadata": {},
   "source": [
    "To perform concatenation we can use the function concatenate. To view the docstring we can type in the function followed by a shift ⇧ and tab ↹. We see the positional input argument is a tuple of all the arrays to be concatenated."
   ]
  },
  {
   "cell_type": "markdown",
   "id": "usual-dispatch",
   "metadata": {},
   "source": [
    "![concatenate_docstring](concatenate_docstring.png)"
   ]
  },
  {
   "cell_type": "markdown",
   "id": "sharing-hardware",
   "metadata": {},
   "source": [
    "We can perform concatenation analogous to the list above using."
   ]
  },
  {
   "cell_type": "code",
   "execution_count": 145,
   "id": "electrical-swedish",
   "metadata": {},
   "outputs": [
    {
     "data": {
      "text/plain": [
       "array([2, 4, 6, 8, 1, 3, 5, 7])"
      ]
     },
     "execution_count": 145,
     "metadata": {},
     "output_type": "execute_result"
    }
   ],
   "source": [
    "np.concatenate((a1,a2))"
   ]
  },
  {
   "cell_type": "markdown",
   "id": "digital-exception",
   "metadata": {},
   "source": [
    "If we also specify both arrays as rows."
   ]
  },
  {
   "cell_type": "code",
   "execution_count": 146,
   "id": "anonymous-score",
   "metadata": {},
   "outputs": [],
   "source": [
    "a1=a1.reshape((1,-1))"
   ]
  },
  {
   "cell_type": "code",
   "execution_count": 147,
   "id": "partial-picking",
   "metadata": {},
   "outputs": [
    {
     "data": {
      "text/plain": [
       "array([[2, 4, 6, 8]])"
      ]
     },
     "execution_count": 147,
     "metadata": {},
     "output_type": "execute_result"
    }
   ],
   "source": [
    "a1"
   ]
  },
  {
   "cell_type": "code",
   "execution_count": 148,
   "id": "sporting-girlfriend",
   "metadata": {},
   "outputs": [],
   "source": [
    "a2=a2.reshape((1,-1))"
   ]
  },
  {
   "cell_type": "code",
   "execution_count": 149,
   "id": "electronic-greece",
   "metadata": {},
   "outputs": [
    {
     "data": {
      "text/plain": [
       "array([[1, 3, 5, 7]])"
      ]
     },
     "execution_count": 149,
     "metadata": {},
     "output_type": "execute_result"
    }
   ],
   "source": [
    "a2"
   ]
  },
  {
   "cell_type": "markdown",
   "id": "unlike-tactics",
   "metadata": {},
   "source": [
    "We can also perform concatenation to obtain a matrix. \n",
    "\n",
    "Recall that the shape for a 2D array, the 0th index corresponds to the number of rows and 1st index corresponds to the number of columns. For a 2D array the axis keyword argument in concatenate behaves in a corresponding manner. axis=0 means we are carrying out a row operation (concatenating along axis 0 i.e. increasing the number of rows). axis=1 means we are carrying out a column operation (concatenating along axis 1 i.e. increasing the number of columns)."
   ]
  },
  {
   "cell_type": "code",
   "execution_count": 150,
   "id": "prime-traffic",
   "metadata": {},
   "outputs": [
    {
     "data": {
      "text/plain": [
       "(1, 4)"
      ]
     },
     "execution_count": 150,
     "metadata": {},
     "output_type": "execute_result"
    }
   ],
   "source": [
    "a1.shape"
   ]
  },
  {
   "cell_type": "code",
   "execution_count": 151,
   "id": "correct-electricity",
   "metadata": {},
   "outputs": [
    {
     "data": {
      "text/plain": [
       "(1, 4)"
      ]
     },
     "execution_count": 151,
     "metadata": {},
     "output_type": "execute_result"
    }
   ],
   "source": [
    "a2.shape"
   ]
  },
  {
   "cell_type": "markdown",
   "id": "historic-halloween",
   "metadata": {},
   "source": [
    "For 2D arrays, axis=0 concatenates the rows:"
   ]
  },
  {
   "cell_type": "code",
   "execution_count": 152,
   "id": "cordless-sunday",
   "metadata": {},
   "outputs": [
    {
     "data": {
      "text/plain": [
       "array([[2, 4, 6, 8],\n",
       "       [1, 3, 5, 7]])"
      ]
     },
     "execution_count": 152,
     "metadata": {},
     "output_type": "execute_result"
    }
   ],
   "source": [
    "np.concatenate((a1,a2),axis=0)"
   ]
  },
  {
   "cell_type": "markdown",
   "id": "technical-timothy",
   "metadata": {},
   "source": [
    "For 2D arrays, axis=1 concatenates the columns:"
   ]
  },
  {
   "cell_type": "code",
   "execution_count": 153,
   "id": "prostate-privacy",
   "metadata": {},
   "outputs": [
    {
     "data": {
      "text/plain": [
       "array([[2, 4, 6, 8, 1, 3, 5, 7]])"
      ]
     },
     "execution_count": 153,
     "metadata": {},
     "output_type": "execute_result"
    }
   ],
   "source": [
    "np.concatenate((a1,a2),axis=1)"
   ]
  },
  {
   "cell_type": "markdown",
   "id": "weird-number",
   "metadata": {},
   "source": [
    "It is worth examining higher order dimensions briefly. As we increase the number of dimensions, the higher order dimension is found at the beginning of the tuple (and not at the end of the tuple) when we look up the attribute shape. We can see this explicitly if we use tuple unpacking.\n",
    "\n",
    "```(ncol)=array1d.shape```\n",
    "\n",
    "```(nrow,ncol)=array2d.shape```\n",
    "\n",
    "```(npage,nrow,ncol)=array3d.shape```\n",
    "\n",
    "```(nframe,npage,nrow,ncol)=array4d.shape```\n",
    "\n",
    "```...```"
   ]
  },
  {
   "cell_type": "markdown",
   "id": "alpha-sleeping",
   "metadata": {},
   "source": [
    "This can cause quite some confusion when first using numpy as axis=0 is the ncol in a 1D array, nrow in a 2D array, npage in a 3D array and nframe in a 4D array..."
   ]
  },
  {
   "cell_type": "markdown",
   "id": "diverse-still",
   "metadata": {},
   "source": [
    "If we instead look at negative indexing we see that axis=-1 will always perform concatenation along ncols. axis=-2 (when present) will always perform concatenation along rows and so on..."
   ]
  },
  {
   "cell_type": "code",
   "execution_count": 154,
   "id": "serious-consistency",
   "metadata": {},
   "outputs": [
    {
     "data": {
      "text/plain": [
       "array([[2, 4, 6, 8, 1, 3, 5, 7]])"
      ]
     },
     "execution_count": 154,
     "metadata": {},
     "output_type": "execute_result"
    }
   ],
   "source": [
    "np.concatenate((a1,a2),axis=-1)"
   ]
  },
  {
   "cell_type": "code",
   "execution_count": 155,
   "id": "honey-karen",
   "metadata": {},
   "outputs": [
    {
     "data": {
      "text/plain": [
       "array([[2, 4, 6, 8],\n",
       "       [1, 3, 5, 7]])"
      ]
     },
     "execution_count": 155,
     "metadata": {},
     "output_type": "execute_result"
    }
   ],
   "source": [
    "np.concatenate((a1,a2),axis=-2)"
   ]
  },
  {
   "cell_type": "markdown",
   "id": "warming-apollo",
   "metadata": {},
   "source": [
    "Suppose for example we create the following book."
   ]
  },
  {
   "cell_type": "code",
   "execution_count": 156,
   "id": "fewer-southeast",
   "metadata": {},
   "outputs": [],
   "source": [
    "book=np.array([[[1,2,3,4],\n",
    "                [1,2,3,4],\n",
    "                [1,2,3,4]],\n",
    "               \n",
    "               [[5,6,7,8],\n",
    "                [5,6,7,8],\n",
    "                [5,6,7,8]]])"
   ]
  },
  {
   "cell_type": "code",
   "execution_count": 157,
   "id": "capital-causing",
   "metadata": {},
   "outputs": [
    {
     "data": {
      "text/plain": [
       "array([[[1, 2, 3, 4],\n",
       "        [1, 2, 3, 4],\n",
       "        [1, 2, 3, 4]],\n",
       "\n",
       "       [[5, 6, 7, 8],\n",
       "        [5, 6, 7, 8],\n",
       "        [5, 6, 7, 8]]])"
      ]
     },
     "execution_count": 157,
     "metadata": {},
     "output_type": "execute_result"
    }
   ],
   "source": [
    "book"
   ]
  },
  {
   "cell_type": "code",
   "execution_count": 158,
   "id": "liked-baker",
   "metadata": {},
   "outputs": [
    {
     "data": {
      "text/plain": [
       "(2, 3, 4)"
      ]
     },
     "execution_count": 158,
     "metadata": {},
     "output_type": "execute_result"
    }
   ],
   "source": [
    "book.shape"
   ]
  },
  {
   "cell_type": "markdown",
   "id": "terminal-reducing",
   "metadata": {},
   "source": [
    "If we create the following matrix and want to concatenate it to book as an additional column (on each page)."
   ]
  },
  {
   "cell_type": "code",
   "execution_count": 159,
   "id": "dressed-general",
   "metadata": {},
   "outputs": [],
   "source": [
    "col=np.array([[9,9,9],\n",
    "              [10,10,10]])"
   ]
  },
  {
   "cell_type": "code",
   "execution_count": 160,
   "id": "preliminary-contribution",
   "metadata": {},
   "outputs": [
    {
     "data": {
      "text/plain": [
       "array([[ 9,  9,  9],\n",
       "       [10, 10, 10]])"
      ]
     },
     "execution_count": 160,
     "metadata": {},
     "output_type": "execute_result"
    }
   ],
   "source": [
    "col"
   ]
  },
  {
   "cell_type": "code",
   "execution_count": 161,
   "id": "compressed-roller",
   "metadata": {},
   "outputs": [
    {
     "data": {
      "text/plain": [
       "(2, 3)"
      ]
     },
     "execution_count": 161,
     "metadata": {},
     "output_type": "execute_result"
    }
   ],
   "source": [
    "col.shape"
   ]
  },
  {
   "cell_type": "markdown",
   "id": "literary-seeker",
   "metadata": {},
   "source": [
    "We will need to explicitly reshape it as a 3D array. Note the number of pages (axis=0) and number of rows (axis=1) now match that of the book allowing for concatenation (along axis=2)."
   ]
  },
  {
   "cell_type": "code",
   "execution_count": 162,
   "id": "nuclear-variation",
   "metadata": {},
   "outputs": [],
   "source": [
    "col=col.reshape((2,3,1))"
   ]
  },
  {
   "cell_type": "code",
   "execution_count": 163,
   "id": "functional-bargain",
   "metadata": {},
   "outputs": [
    {
     "data": {
      "text/plain": [
       "array([[[ 9],\n",
       "        [ 9],\n",
       "        [ 9]],\n",
       "\n",
       "       [[10],\n",
       "        [10],\n",
       "        [10]]])"
      ]
     },
     "execution_count": 163,
     "metadata": {},
     "output_type": "execute_result"
    }
   ],
   "source": [
    "col"
   ]
  },
  {
   "cell_type": "code",
   "execution_count": 164,
   "id": "million-architecture",
   "metadata": {},
   "outputs": [
    {
     "data": {
      "text/plain": [
       "array([[[ 1,  2,  3,  4,  9],\n",
       "        [ 1,  2,  3,  4,  9],\n",
       "        [ 1,  2,  3,  4,  9]],\n",
       "\n",
       "       [[ 5,  6,  7,  8, 10],\n",
       "        [ 5,  6,  7,  8, 10],\n",
       "        [ 5,  6,  7,  8, 10]]])"
      ]
     },
     "execution_count": 164,
     "metadata": {},
     "output_type": "execute_result"
    }
   ],
   "source": [
    "np.concatenate((book,col),axis=2)"
   ]
  },
  {
   "cell_type": "markdown",
   "id": "suitable-junction",
   "metadata": {},
   "source": [
    "This is the last axis i.e. axis=-1 which as mentioned will always perform concatenation along ncols."
   ]
  },
  {
   "cell_type": "code",
   "execution_count": 165,
   "id": "confidential-shield",
   "metadata": {},
   "outputs": [
    {
     "data": {
      "text/plain": [
       "array([[[ 1,  2,  3,  4,  9],\n",
       "        [ 1,  2,  3,  4,  9],\n",
       "        [ 1,  2,  3,  4,  9]],\n",
       "\n",
       "       [[ 5,  6,  7,  8, 10],\n",
       "        [ 5,  6,  7,  8, 10],\n",
       "        [ 5,  6,  7,  8, 10]]])"
      ]
     },
     "execution_count": 165,
     "metadata": {},
     "output_type": "execute_result"
    }
   ],
   "source": [
    "np.concatenate((book,col),axis=-1)"
   ]
  },
  {
   "cell_type": "markdown",
   "id": "academic-indonesia",
   "metadata": {},
   "source": [
    "We will mainly be sticking to 2D arrays, in which case axis=0 will work on rows and axis=1 will work on columns."
   ]
  },
  {
   "cell_type": "markdown",
   "id": "bridal-desktop",
   "metadata": {},
   "source": [
    "### Indexing ndarrays and concatenation continued"
   ]
  },
  {
   "cell_type": "markdown",
   "id": "worse-aside",
   "metadata": {},
   "source": [
    "Suppose we have the following matrix."
   ]
  },
  {
   "cell_type": "code",
   "execution_count": 166,
   "id": "cloudy-remains",
   "metadata": {},
   "outputs": [],
   "source": [
    "m=np.array([[1,2,3,4],\n",
    "            [5,6,7,8],\n",
    "            [9,10,11,12],\n",
    "            [13,14,15,16]])"
   ]
  },
  {
   "cell_type": "markdown",
   "id": "universal-constraint",
   "metadata": {},
   "source": [
    "Now suppose we want to make the following selections from it explictly as a row or column as highlighted."
   ]
  },
  {
   "cell_type": "markdown",
   "id": "hollow-railway",
   "metadata": {},
   "source": [
    "$$m=\\left[\\begin{matrix}\\color{#7030A0}{1}&\\color{#FF0000}{2}&\\color{#FF0000}{3}&\\color{#FF0000}{4}\\\\\\color{#7030A0}{5}&\\color{#FF00FF}{6}&\\color{#FF00FF}{7}&\\color{#FF00FF}{8}\\\\\\color{#7030A0}{9}&\\color{#00B050}{10}&\\color{#00B050}{11}&\\color{#00FFFF}{12}\\\\\\color{#7030A0}{13}&\\color{#00B050}{14}&\\color{#00B050}{15}&\\color{#00FFFF}{16}\\\\\\end{matrix}\\right]$$"
   ]
  },
  {
   "cell_type": "markdown",
   "id": "accompanied-peter",
   "metadata": {},
   "source": [
    "Let's start with the purple selection. We see we want rows 0,1,2 and 3 and only column 0. We can index using a tuple the 0th index contains the rows we want to select, in this case the tuple (0,1,2,3). The second index contains the columns we want to select in this case column 0."
   ]
  },
  {
   "cell_type": "code",
   "execution_count": 167,
   "id": "negative-gamma",
   "metadata": {},
   "outputs": [],
   "source": [
    "purple=m[((0,1,2,3),0)]"
   ]
  },
  {
   "cell_type": "code",
   "execution_count": 168,
   "id": "municipal-thinking",
   "metadata": {},
   "outputs": [
    {
     "data": {
      "text/plain": [
       "array([ 1,  5,  9, 13])"
      ]
     },
     "execution_count": 168,
     "metadata": {},
     "output_type": "execute_result"
    }
   ],
   "source": [
    "purple"
   ]
  },
  {
   "cell_type": "markdown",
   "id": "catholic-chair",
   "metadata": {},
   "source": [
    "Once again we can use tuple unpacking to remove the outer parenthesis."
   ]
  },
  {
   "cell_type": "code",
   "execution_count": 169,
   "id": "above-indian",
   "metadata": {},
   "outputs": [],
   "source": [
    "purple=m[(0,1,2,3),0]"
   ]
  },
  {
   "cell_type": "code",
   "execution_count": 170,
   "id": "spread-hamburg",
   "metadata": {},
   "outputs": [
    {
     "data": {
      "text/plain": [
       "array([ 1,  5,  9, 13])"
      ]
     },
     "execution_count": 170,
     "metadata": {},
     "output_type": "execute_result"
    }
   ],
   "source": [
    "purple"
   ]
  },
  {
   "cell_type": "markdown",
   "id": "still-belarus",
   "metadata": {},
   "source": [
    "We can alternatively select the rows using a list."
   ]
  },
  {
   "cell_type": "code",
   "execution_count": 171,
   "id": "regulation-attitude",
   "metadata": {},
   "outputs": [],
   "source": [
    "purple=m[[0,1,2,3],0]"
   ]
  },
  {
   "cell_type": "code",
   "execution_count": 172,
   "id": "incredible-kingdom",
   "metadata": {},
   "outputs": [
    {
     "data": {
      "text/plain": [
       "array([ 1,  5,  9, 13])"
      ]
     },
     "execution_count": 172,
     "metadata": {},
     "output_type": "execute_result"
    }
   ],
   "source": [
    "purple"
   ]
  },
  {
   "cell_type": "markdown",
   "id": "weekly-anatomy",
   "metadata": {},
   "source": [
    "We can index this more efficiently using a colon :. Let's create a basic list and refresh how colon indexing works."
   ]
  },
  {
   "cell_type": "code",
   "execution_count": 173,
   "id": "secondary-digest",
   "metadata": {},
   "outputs": [],
   "source": [
    "l1=[2,4,6,8,10,12,14,16,18]"
   ]
  },
  {
   "cell_type": "code",
   "execution_count": 174,
   "id": "hispanic-territory",
   "metadata": {},
   "outputs": [
    {
     "name": "stdout",
     "output_type": "stream",
     "text": [
      "0 2\n",
      "1 4\n",
      "2 6\n",
      "3 8\n",
      "4 10\n",
      "5 12\n",
      "6 14\n",
      "7 16\n",
      "8 18\n"
     ]
    }
   ],
   "source": [
    "for idx, val in enumerate(l1):\n",
    "    print(idx,val)"
   ]
  },
  {
   "cell_type": "markdown",
   "id": "photographic-heater",
   "metadata": {},
   "source": [
    "When we use a colon to index we use zero order indexing. This means that we index from the lower bound up to but not including the upper bound. i.e. we are inclusive of the lower bound and exclusive of the top bound."
   ]
  },
  {
   "cell_type": "markdown",
   "id": "prime-bailey",
   "metadata": {},
   "source": [
    "```l1[lower:upper]```"
   ]
  },
  {
   "cell_type": "code",
   "execution_count": 175,
   "id": "possible-effectiveness",
   "metadata": {},
   "outputs": [
    {
     "data": {
      "text/plain": [
       "[6, 8, 10]"
      ]
     },
     "execution_count": 175,
     "metadata": {},
     "output_type": "execute_result"
    }
   ],
   "source": [
    "l1[2:5]"
   ]
  },
  {
   "cell_type": "markdown",
   "id": "excellent-effects",
   "metadata": {},
   "source": [
    "If the lower bound is not specified it is assumed to be 0."
   ]
  },
  {
   "cell_type": "markdown",
   "id": "satisfactory-accounting",
   "metadata": {},
   "source": [
    "```l1[0:upper]```\n",
    "\n",
    "```l1[:upper]```"
   ]
  },
  {
   "cell_type": "code",
   "execution_count": 176,
   "id": "surprising-sperm",
   "metadata": {},
   "outputs": [
    {
     "data": {
      "text/plain": [
       "[2, 4, 6, 8, 10]"
      ]
     },
     "execution_count": 176,
     "metadata": {},
     "output_type": "execute_result"
    }
   ],
   "source": [
    "l1[0:5]"
   ]
  },
  {
   "cell_type": "code",
   "execution_count": 177,
   "id": "alternative-recovery",
   "metadata": {},
   "outputs": [
    {
     "data": {
      "text/plain": [
       "[2, 4, 6, 8, 10]"
      ]
     },
     "execution_count": 177,
     "metadata": {},
     "output_type": "execute_result"
    }
   ],
   "source": [
    "l1[:5]"
   ]
  },
  {
   "cell_type": "markdown",
   "id": "executive-siemens",
   "metadata": {},
   "source": [
    "If the lower bound is not specified it is assumed to be the length of the dimension."
   ]
  },
  {
   "cell_type": "markdown",
   "id": "muslim-success",
   "metadata": {},
   "source": [
    "```l1[lower:len(l1)]```\n",
    "\n",
    "```l1[lower:]```"
   ]
  },
  {
   "cell_type": "code",
   "execution_count": 178,
   "id": "herbal-arthritis",
   "metadata": {},
   "outputs": [
    {
     "data": {
      "text/plain": [
       "[6, 8, 10, 12, 14, 16, 18]"
      ]
     },
     "execution_count": 178,
     "metadata": {},
     "output_type": "execute_result"
    }
   ],
   "source": [
    "l1[2:len(l1)]"
   ]
  },
  {
   "cell_type": "code",
   "execution_count": 179,
   "id": "desperate-auction",
   "metadata": {},
   "outputs": [
    {
     "data": {
      "text/plain": [
       "[6, 8, 10, 12, 14, 16, 18]"
      ]
     },
     "execution_count": 179,
     "metadata": {},
     "output_type": "execute_result"
    }
   ],
   "source": [
    "l1[2:]"
   ]
  },
  {
   "cell_type": "markdown",
   "id": "english-score",
   "metadata": {},
   "source": [
    "If neither the lower bound or upper bound is specified the entire list is selected."
   ]
  },
  {
   "cell_type": "markdown",
   "id": "polar-prize",
   "metadata": {},
   "source": [
    "```l1[0:len(l1)]```\n",
    "\n",
    "```l1[:]```"
   ]
  },
  {
   "cell_type": "code",
   "execution_count": 180,
   "id": "german-physics",
   "metadata": {},
   "outputs": [
    {
     "data": {
      "text/plain": [
       "[2, 4, 6, 8, 10, 12, 14, 16, 18]"
      ]
     },
     "execution_count": 180,
     "metadata": {},
     "output_type": "execute_result"
    }
   ],
   "source": [
    "l1[0:len(l1)]"
   ]
  },
  {
   "cell_type": "code",
   "execution_count": 181,
   "id": "center-finish",
   "metadata": {},
   "outputs": [
    {
     "data": {
      "text/plain": [
       "[2, 4, 6, 8, 10, 12, 14, 16, 18]"
      ]
     },
     "execution_count": 181,
     "metadata": {},
     "output_type": "execute_result"
    }
   ],
   "source": [
    "l1[:]"
   ]
  },
  {
   "cell_type": "markdown",
   "id": "middle-drilling",
   "metadata": {},
   "source": [
    "A second colon can be used to indicate a step (if it is not specified the step is by default set to 1)."
   ]
  },
  {
   "cell_type": "markdown",
   "id": "mighty-flash",
   "metadata": {},
   "source": [
    "```l1[lower:upper:step]```"
   ]
  },
  {
   "cell_type": "markdown",
   "id": "victorian-clearing",
   "metadata": {},
   "source": [
    "Let's use a step of 2 and -1 for example."
   ]
  },
  {
   "cell_type": "code",
   "execution_count": 182,
   "id": "dedicated-courage",
   "metadata": {},
   "outputs": [
    {
     "data": {
      "text/plain": [
       "[2, 6, 10, 14, 18]"
      ]
     },
     "execution_count": 182,
     "metadata": {},
     "output_type": "execute_result"
    }
   ],
   "source": [
    "l1[::2]"
   ]
  },
  {
   "cell_type": "code",
   "execution_count": 183,
   "id": "leading-better",
   "metadata": {},
   "outputs": [
    {
     "data": {
      "text/plain": [
       "[18, 16, 14, 12, 10, 8, 6, 4, 2]"
      ]
     },
     "execution_count": 183,
     "metadata": {},
     "output_type": "execute_result"
    }
   ],
   "source": [
    "l1[::-1]"
   ]
  },
  {
   "cell_type": "markdown",
   "id": "german-springer",
   "metadata": {},
   "source": [
    "Returning to our array."
   ]
  },
  {
   "cell_type": "markdown",
   "id": "gentle-alcohol",
   "metadata": {},
   "source": [
    "$$m=\\left[\\begin{matrix}\\color{#7030A0}{1}&\\color{#FF0000}{2}&\\color{#FF0000}{3}&\\color{#FF0000}{4}\\\\\\color{#7030A0}{5}&\\color{#FF00FF}{6}&\\color{#FF00FF}{7}&\\color{#FF00FF}{8}\\\\\\color{#7030A0}{9}&\\color{#00B050}{10}&\\color{#00B050}{11}&\\color{#00FFFF}{12}\\\\\\color{#7030A0}{13}&\\color{#00B050}{14}&\\color{#00B050}{15}&\\color{#00FFFF}{16}\\\\\\end{matrix}\\right]$$"
   ]
  },
  {
   "cell_type": "markdown",
   "id": "stuck-patrick",
   "metadata": {},
   "source": [
    "The purple selection is all rows, which can be represented using a colon."
   ]
  },
  {
   "cell_type": "code",
   "execution_count": 184,
   "id": "alive-trainer",
   "metadata": {},
   "outputs": [],
   "source": [
    "purple=m[:,0]"
   ]
  },
  {
   "cell_type": "code",
   "execution_count": 185,
   "id": "heavy-tuner",
   "metadata": {},
   "outputs": [
    {
     "data": {
      "text/plain": [
       "array([ 1,  5,  9, 13])"
      ]
     },
     "execution_count": 185,
     "metadata": {},
     "output_type": "execute_result"
    }
   ],
   "source": [
    "purple"
   ]
  },
  {
   "cell_type": "markdown",
   "id": "needed-october",
   "metadata": {},
   "source": [
    "We need to explicitly reshape it to a column."
   ]
  },
  {
   "cell_type": "code",
   "execution_count": 186,
   "id": "tribal-nutrition",
   "metadata": {},
   "outputs": [],
   "source": [
    "purple=purple.reshape((-1,1))"
   ]
  },
  {
   "cell_type": "code",
   "execution_count": 187,
   "id": "becoming-saturn",
   "metadata": {},
   "outputs": [
    {
     "data": {
      "text/plain": [
       "array([[ 1],\n",
       "       [ 5],\n",
       "       [ 9],\n",
       "       [13]])"
      ]
     },
     "execution_count": 187,
     "metadata": {},
     "output_type": "execute_result"
    }
   ],
   "source": [
    "purple"
   ]
  },
  {
   "cell_type": "markdown",
   "id": "lesser-jungle",
   "metadata": {},
   "source": [
    "$$m=\\left[\\begin{matrix}\\color{#7030A0}{1}&\\color{#FF0000}{2}&\\color{#FF0000}{3}&\\color{#FF0000}{4}\\\\\\color{#7030A0}{5}&\\color{#FF00FF}{6}&\\color{#FF00FF}{7}&\\color{#FF00FF}{8}\\\\\\color{#7030A0}{9}&\\color{#00B050}{10}&\\color{#00B050}{11}&\\color{#00FFFF}{12}\\\\\\color{#7030A0}{13}&\\color{#00B050}{14}&\\color{#00B050}{15}&\\color{#00FFFF}{16}\\\\\\end{matrix}\\right]$$"
   ]
  },
  {
   "cell_type": "markdown",
   "id": "becoming-inclusion",
   "metadata": {},
   "source": [
    "The red selection is the the oth row and all columns except the 0th column."
   ]
  },
  {
   "cell_type": "code",
   "execution_count": 188,
   "id": "collectible-worst",
   "metadata": {},
   "outputs": [],
   "source": [
    "red=m[0,1:]"
   ]
  },
  {
   "cell_type": "code",
   "execution_count": 189,
   "id": "ceramic-opposition",
   "metadata": {},
   "outputs": [
    {
     "data": {
      "text/plain": [
       "array([2, 3, 4])"
      ]
     },
     "execution_count": 189,
     "metadata": {},
     "output_type": "execute_result"
    }
   ],
   "source": [
    "red"
   ]
  },
  {
   "cell_type": "markdown",
   "id": "floppy-suite",
   "metadata": {},
   "source": [
    "We need to explicitly reshape it to a row."
   ]
  },
  {
   "cell_type": "code",
   "execution_count": 190,
   "id": "surprised-alexandria",
   "metadata": {},
   "outputs": [],
   "source": [
    "red=red.reshape((1,-1))"
   ]
  },
  {
   "cell_type": "code",
   "execution_count": 191,
   "id": "crazy-height",
   "metadata": {},
   "outputs": [
    {
     "data": {
      "text/plain": [
       "array([[2, 3, 4]])"
      ]
     },
     "execution_count": 191,
     "metadata": {},
     "output_type": "execute_result"
    }
   ],
   "source": [
    "red"
   ]
  },
  {
   "cell_type": "markdown",
   "id": "buried-blade",
   "metadata": {},
   "source": [
    "The magenta selection is similar except for being the 1st row opposed to the 0th row."
   ]
  },
  {
   "cell_type": "code",
   "execution_count": 192,
   "id": "entertaining-cause",
   "metadata": {},
   "outputs": [
    {
     "data": {
      "text/plain": [
       "array([[6, 7, 8]])"
      ]
     },
     "execution_count": 192,
     "metadata": {},
     "output_type": "execute_result"
    }
   ],
   "source": [
    "magenta=m[1,1:]\n",
    "magenta=magenta.reshape((1,-1))\n",
    "magenta"
   ]
  },
  {
   "cell_type": "markdown",
   "id": "hollywood-education",
   "metadata": {},
   "source": [
    "$$m=\\left[\\begin{matrix}\\color{#7030A0}{1}&\\color{#FF0000}{2}&\\color{#FF0000}{3}&\\color{#FF0000}{4}\\\\\\color{#7030A0}{5}&\\color{#FF00FF}{6}&\\color{#FF00FF}{7}&\\color{#FF00FF}{8}\\\\\\color{#7030A0}{9}&\\color{#00B050}{10}&\\color{#00B050}{11}&\\color{#00FFFF}{12}\\\\\\color{#7030A0}{13}&\\color{#00B050}{14}&\\color{#00B050}{15}&\\color{#00FFFF}{16}\\\\\\end{matrix}\\right]$$"
   ]
  },
  {
   "cell_type": "markdown",
   "id": "animal-andrews",
   "metadata": {},
   "source": [
    "The cyan selection is the 2nd to last row and last column."
   ]
  },
  {
   "cell_type": "code",
   "execution_count": 193,
   "id": "young-hypothetical",
   "metadata": {},
   "outputs": [],
   "source": [
    "cyan=m[2:,-1]"
   ]
  },
  {
   "cell_type": "code",
   "execution_count": 194,
   "id": "destroyed-relationship",
   "metadata": {},
   "outputs": [
    {
     "data": {
      "text/plain": [
       "array([12, 16])"
      ]
     },
     "execution_count": 194,
     "metadata": {},
     "output_type": "execute_result"
    }
   ],
   "source": [
    "cyan"
   ]
  },
  {
   "cell_type": "markdown",
   "id": "extensive-desperate",
   "metadata": {},
   "source": [
    "We need to explicitly reshape it to a column."
   ]
  },
  {
   "cell_type": "code",
   "execution_count": 195,
   "id": "determined-lithuania",
   "metadata": {},
   "outputs": [],
   "source": [
    "cyan=cyan.reshape((-1,1))"
   ]
  },
  {
   "cell_type": "code",
   "execution_count": 196,
   "id": "quantitative-welding",
   "metadata": {},
   "outputs": [
    {
     "data": {
      "text/plain": [
       "array([[12],\n",
       "       [16]])"
      ]
     },
     "execution_count": 196,
     "metadata": {},
     "output_type": "execute_result"
    }
   ],
   "source": [
    "cyan"
   ]
  },
  {
   "cell_type": "markdown",
   "id": "resistant-forty",
   "metadata": {},
   "source": [
    "$$m=\\left[\\begin{matrix}\\color{#7030A0}{1}&\\color{#FF0000}{2}&\\color{#FF0000}{3}&\\color{#FF0000}{4}\\\\\\color{#7030A0}{5}&\\color{#FF00FF}{6}&\\color{#FF00FF}{7}&\\color{#FF00FF}{8}\\\\\\color{#7030A0}{9}&\\color{#00B050}{10}&\\color{#00B050}{11}&\\color{#00FFFF}{12}\\\\\\color{#7030A0}{13}&\\color{#00B050}{14}&\\color{#00B050}{15}&\\color{#00FFFF}{16}\\\\\\end{matrix}\\right]$$"
   ]
  },
  {
   "cell_type": "markdown",
   "id": "affected-ocean",
   "metadata": {},
   "source": [
    "Finally the green selection is a matrix. It has the 2nd to last rows and 1st and 2nd columns (1:3 inclusive of the lower bound and exclusive of the top bound)."
   ]
  },
  {
   "cell_type": "code",
   "execution_count": 197,
   "id": "accessible-warren",
   "metadata": {},
   "outputs": [],
   "source": [
    "green=m[2:,1:3]"
   ]
  },
  {
   "cell_type": "code",
   "execution_count": 198,
   "id": "regulation-ordinary",
   "metadata": {},
   "outputs": [
    {
     "data": {
      "text/plain": [
       "array([[10, 11],\n",
       "       [14, 15]])"
      ]
     },
     "execution_count": 198,
     "metadata": {},
     "output_type": "execute_result"
    }
   ],
   "source": [
    "green"
   ]
  },
  {
   "cell_type": "markdown",
   "id": "early-obligation",
   "metadata": {},
   "source": [
    "As this is already a 2D array it doesn't need to be reshaped."
   ]
  },
  {
   "cell_type": "markdown",
   "id": "future-junior",
   "metadata": {},
   "source": [
    "Now that we have the fragments we can attempt to make this reconstructed matrix m2."
   ]
  },
  {
   "cell_type": "markdown",
   "id": "martial-corrections",
   "metadata": {},
   "source": [
    "$$m2=\\left[\\begin{matrix}\\color{#FF0000}{2}&\\color{#FF0000}{3}&\\color{#FF0000}{4}&\\color{#7030A0}{1}\\\\\\color{#00FFFF}{12}&\\color{#00B050}{10}&\\color{#00B050}{11}&\\color{#7030A0}{5}\\\\\\color{#00FFFF}{16}&\\color{#00B050}{14}&\\color{#00B050}{15}&\\color{#7030A0}{9}\\\\\\color{#FF00FF}{6}&\\color{#FF00FF}{7}&\\color{#FF00FF}{8}&\\color{#7030A0}{13}\\\\\\end{matrix}\\right]$$"
   ]
  },
  {
   "cell_type": "markdown",
   "id": "numerical-israel",
   "metadata": {},
   "source": [
    "We see that the cyan and green fragments share the same number of rows and therefore can be concatenated along the columns axis=-1 (or 1 in the case of a 2D matrix)."
   ]
  },
  {
   "cell_type": "code",
   "execution_count": 199,
   "id": "center-agriculture",
   "metadata": {},
   "outputs": [],
   "source": [
    "cyangreen=np.concatenate((cyan,green),axis=-1)"
   ]
  },
  {
   "cell_type": "code",
   "execution_count": 200,
   "id": "relevant-custody",
   "metadata": {},
   "outputs": [
    {
     "data": {
      "text/plain": [
       "array([[12, 10, 11],\n",
       "       [16, 14, 15]])"
      ]
     },
     "execution_count": 200,
     "metadata": {},
     "output_type": "execute_result"
    }
   ],
   "source": [
    "cyangreen"
   ]
  },
  {
   "cell_type": "markdown",
   "id": "ranging-bradley",
   "metadata": {},
   "source": [
    "We see that red, cyangreen and magenta fragments share the same number of columns and can therefore be concatenated along the rows axis=-2 (or 0 in the case of a 2D matrix)."
   ]
  },
  {
   "cell_type": "code",
   "execution_count": 201,
   "id": "oriented-staff",
   "metadata": {},
   "outputs": [],
   "source": [
    "redcyangreenmagenta=np.concatenate((red,cyangreen,magenta),axis=-2)"
   ]
  },
  {
   "cell_type": "code",
   "execution_count": 202,
   "id": "parallel-tracy",
   "metadata": {},
   "outputs": [
    {
     "data": {
      "text/plain": [
       "array([[ 2,  3,  4],\n",
       "       [12, 10, 11],\n",
       "       [16, 14, 15],\n",
       "       [ 6,  7,  8]])"
      ]
     },
     "execution_count": 202,
     "metadata": {},
     "output_type": "execute_result"
    }
   ],
   "source": [
    "redcyangreenmagenta"
   ]
  },
  {
   "cell_type": "markdown",
   "id": "veterinary-chain",
   "metadata": {},
   "source": [
    "Finally we see that the redcyangreenmagenta and the purple fragments share the same number of rows and can therefore be concatentated along the columns axis=-1 (or 1 in the case of a 2D matrix)"
   ]
  },
  {
   "cell_type": "code",
   "execution_count": 203,
   "id": "funny-number",
   "metadata": {},
   "outputs": [],
   "source": [
    "m2=np.concatenate((redcyangreenmagenta,purple),axis=-1)"
   ]
  },
  {
   "cell_type": "code",
   "execution_count": 204,
   "id": "resident-croatia",
   "metadata": {},
   "outputs": [
    {
     "data": {
      "text/plain": [
       "array([[ 2,  3,  4,  1],\n",
       "       [12, 10, 11,  5],\n",
       "       [16, 14, 15,  9],\n",
       "       [ 6,  7,  8, 13]])"
      ]
     },
     "execution_count": 204,
     "metadata": {},
     "output_type": "execute_result"
    }
   ],
   "source": [
    "m2"
   ]
  },
  {
   "cell_type": "markdown",
   "id": "convertible-despite",
   "metadata": {},
   "source": [
    "### numpy functions for rapid array generation"
   ]
  },
  {
   "cell_type": "markdown",
   "id": "assisted-concord",
   "metadata": {},
   "source": [
    "So far we have created all our arrays manually. numpy has a number fo functions to quickly generate arrays. The functions zeros and ones can be used to generate matrices of constant values. To get details about the input arguments type the function name followed by a shift ⇧ and tab ↹."
   ]
  },
  {
   "cell_type": "markdown",
   "id": "indian-watts",
   "metadata": {},
   "source": [
    "![zeros_docstring](zeros_docstring.png)"
   ]
  },
  {
   "cell_type": "markdown",
   "id": "retired-chicago",
   "metadata": {},
   "source": [
    "We see the positional input argument shape (which is a tuple of dimensions analogous to the same positional input argument in the reshape function or method) and the keyword input argument dtype which is analogous to the same keyword input argument found in the array function."
   ]
  },
  {
   "cell_type": "code",
   "execution_count": 205,
   "id": "published-brooklyn",
   "metadata": {},
   "outputs": [
    {
     "data": {
      "text/plain": [
       "array([[0., 0.],\n",
       "       [0., 0.],\n",
       "       [0., 0.]])"
      ]
     },
     "execution_count": 205,
     "metadata": {},
     "output_type": "execute_result"
    }
   ],
   "source": [
    "np.zeros((3,2))"
   ]
  },
  {
   "cell_type": "code",
   "execution_count": 206,
   "id": "instrumental-possible",
   "metadata": {},
   "outputs": [
    {
     "data": {
      "text/plain": [
       "array([0., 0., 0., 0.])"
      ]
     },
     "execution_count": 206,
     "metadata": {},
     "output_type": "execute_result"
    }
   ],
   "source": [
    "np.zeros(4)"
   ]
  },
  {
   "cell_type": "markdown",
   "id": "pediatric-longitude",
   "metadata": {},
   "source": [
    "ones has the same form as zeros."
   ]
  },
  {
   "cell_type": "markdown",
   "id": "colonial-passenger",
   "metadata": {},
   "source": [
    "![ones_docstring](ones_docstring.png)"
   ]
  },
  {
   "cell_type": "code",
   "execution_count": 207,
   "id": "bored-egypt",
   "metadata": {},
   "outputs": [
    {
     "data": {
      "text/plain": [
       "array([[1., 1.],\n",
       "       [1., 1.],\n",
       "       [1., 1.]])"
      ]
     },
     "execution_count": 207,
     "metadata": {},
     "output_type": "execute_result"
    }
   ],
   "source": [
    "np.ones((3,2))"
   ]
  },
  {
   "cell_type": "code",
   "execution_count": 208,
   "id": "plastic-apollo",
   "metadata": {},
   "outputs": [
    {
     "data": {
      "text/plain": [
       "array([1., 1., 1., 1.])"
      ]
     },
     "execution_count": 208,
     "metadata": {},
     "output_type": "execute_result"
    }
   ],
   "source": [
    "np.ones(4)"
   ]
  },
  {
   "cell_type": "markdown",
   "id": "received-trouble",
   "metadata": {},
   "source": [
    "Any other number can be made by multiplication of a scalar, for example."
   ]
  },
  {
   "cell_type": "code",
   "execution_count": 209,
   "id": "intense-perth",
   "metadata": {},
   "outputs": [
    {
     "data": {
      "text/plain": [
       "array([[2., 2.],\n",
       "       [2., 2.],\n",
       "       [2., 2.]])"
      ]
     },
     "execution_count": 209,
     "metadata": {},
     "output_type": "execute_result"
    }
   ],
   "source": [
    "2*np.ones((3,2))"
   ]
  },
  {
   "cell_type": "markdown",
   "id": "adopted-topic",
   "metadata": {},
   "source": [
    "This can also be done using a custom function which incorporates ones."
   ]
  },
  {
   "cell_type": "code",
   "execution_count": 210,
   "id": "interior-operation",
   "metadata": {},
   "outputs": [],
   "source": [
    "def twos(*args):\n",
    "    return(2*np.ones(*args))"
   ]
  },
  {
   "cell_type": "code",
   "execution_count": 211,
   "id": "grand-tennessee",
   "metadata": {},
   "outputs": [
    {
     "data": {
      "text/plain": [
       "array([[2., 2.],\n",
       "       [2., 2.],\n",
       "       [2., 2.]])"
      ]
     },
     "execution_count": 211,
     "metadata": {},
     "output_type": "execute_result"
    }
   ],
   "source": [
    "twos((3,2))"
   ]
  },
  {
   "cell_type": "markdown",
   "id": "hungarian-yeast",
   "metadata": {},
   "source": [
    "The method diagonal can be used to obtain the diagnoal from a matrix. It has the keyword offset with a default value of 0 which means it looks for the main diagonal by default."
   ]
  },
  {
   "cell_type": "code",
   "execution_count": 212,
   "id": "available-robinson",
   "metadata": {},
   "outputs": [
    {
     "data": {
      "text/plain": [
       "array([[ 1,  2,  3,  4],\n",
       "       [ 5,  6,  7,  8],\n",
       "       [ 9, 10, 11, 12],\n",
       "       [13, 14, 15, 16]])"
      ]
     },
     "execution_count": 212,
     "metadata": {},
     "output_type": "execute_result"
    }
   ],
   "source": [
    "m"
   ]
  },
  {
   "cell_type": "markdown",
   "id": "sized-pottery",
   "metadata": {},
   "source": [
    "![diagonal_method](diagonal_method.png)"
   ]
  },
  {
   "cell_type": "code",
   "execution_count": 213,
   "id": "descending-movie",
   "metadata": {},
   "outputs": [
    {
     "data": {
      "text/plain": [
       "array([ 1,  6, 11, 16])"
      ]
     },
     "execution_count": 213,
     "metadata": {},
     "output_type": "execute_result"
    }
   ],
   "source": [
    "m.diagonal()"
   ]
  },
  {
   "cell_type": "code",
   "execution_count": 214,
   "id": "leading-adobe",
   "metadata": {},
   "outputs": [
    {
     "data": {
      "text/plain": [
       "array([ 2,  7, 12])"
      ]
     },
     "execution_count": 214,
     "metadata": {},
     "output_type": "execute_result"
    }
   ],
   "source": [
    "m.diagonal(offset=1)"
   ]
  },
  {
   "cell_type": "code",
   "execution_count": 215,
   "id": "unable-denver",
   "metadata": {},
   "outputs": [
    {
     "data": {
      "text/plain": [
       "array([ 5, 10, 15])"
      ]
     },
     "execution_count": 215,
     "metadata": {},
     "output_type": "execute_result"
    }
   ],
   "source": [
    "m.diagonal(offset=-1)"
   ]
  },
  {
   "cell_type": "markdown",
   "id": "bored-married",
   "metadata": {},
   "source": [
    "The function diag also behaves in a similar manner when used on matrices however if we type it in followed by shift ⇧ and tab ↹ we get details about its input arguments and see that it also works on a 1D array to create a matrix using the diagonal."
   ]
  },
  {
   "cell_type": "markdown",
   "id": "dried-sherman",
   "metadata": {},
   "source": [
    "![diag_docstring](diag_docstring.png)"
   ]
  },
  {
   "cell_type": "code",
   "execution_count": 216,
   "id": "collective-proposal",
   "metadata": {},
   "outputs": [
    {
     "data": {
      "text/plain": [
       "array([ 1,  6, 11, 16])"
      ]
     },
     "execution_count": 216,
     "metadata": {},
     "output_type": "execute_result"
    }
   ],
   "source": [
    "np.diag(m)"
   ]
  },
  {
   "cell_type": "markdown",
   "id": "otherwise-module",
   "metadata": {},
   "source": [
    "All values not at the specified diagonal are 0."
   ]
  },
  {
   "cell_type": "code",
   "execution_count": 217,
   "id": "recorded-preserve",
   "metadata": {},
   "outputs": [
    {
     "data": {
      "text/plain": [
       "array([[1, 0, 0, 0],\n",
       "       [0, 2, 0, 0],\n",
       "       [0, 0, 3, 0],\n",
       "       [0, 0, 0, 4]])"
      ]
     },
     "execution_count": 217,
     "metadata": {},
     "output_type": "execute_result"
    }
   ],
   "source": [
    "np.diag(np.array([1,2,3,4]))"
   ]
  },
  {
   "cell_type": "code",
   "execution_count": 218,
   "id": "arranged-tradition",
   "metadata": {},
   "outputs": [
    {
     "data": {
      "text/plain": [
       "array([[0, 1, 0, 0, 0],\n",
       "       [0, 0, 2, 0, 0],\n",
       "       [0, 0, 0, 3, 0],\n",
       "       [0, 0, 0, 0, 4],\n",
       "       [0, 0, 0, 0, 0]])"
      ]
     },
     "execution_count": 218,
     "metadata": {},
     "output_type": "execute_result"
    }
   ],
   "source": [
    "np.diag(np.array([1,2,3,4]),k=1)"
   ]
  },
  {
   "cell_type": "markdown",
   "id": "legitimate-belarus",
   "metadata": {},
   "source": [
    "To get the antidiagonal instead we can use the function fliplr, an abbreviation for flip in the left right direction. We can view the docstring for the function by typing in the function name followed by shift ⇧ and tab ↹."
   ]
  },
  {
   "cell_type": "markdown",
   "id": "competitive-packaging",
   "metadata": {},
   "source": [
    "![fliplr_docstring](fliplr_docstring.png)"
   ]
  },
  {
   "cell_type": "code",
   "execution_count": 219,
   "id": "joint-border",
   "metadata": {},
   "outputs": [],
   "source": [
    "m3=np.diag(np.array([1,2,3,4]))"
   ]
  },
  {
   "cell_type": "code",
   "execution_count": 220,
   "id": "dominican-winning",
   "metadata": {},
   "outputs": [
    {
     "data": {
      "text/plain": [
       "array([[1, 0, 0, 0],\n",
       "       [0, 2, 0, 0],\n",
       "       [0, 0, 3, 0],\n",
       "       [0, 0, 0, 4]])"
      ]
     },
     "execution_count": 220,
     "metadata": {},
     "output_type": "execute_result"
    }
   ],
   "source": [
    "m3"
   ]
  },
  {
   "cell_type": "code",
   "execution_count": 221,
   "id": "reflected-texas",
   "metadata": {},
   "outputs": [
    {
     "data": {
      "text/plain": [
       "array([[0, 0, 0, 1],\n",
       "       [0, 0, 2, 0],\n",
       "       [0, 3, 0, 0],\n",
       "       [4, 0, 0, 0]])"
      ]
     },
     "execution_count": 221,
     "metadata": {},
     "output_type": "execute_result"
    }
   ],
   "source": [
    "np.fliplr(m3)"
   ]
  },
  {
   "cell_type": "markdown",
   "id": "positive-venice",
   "metadata": {},
   "source": [
    "We can also use flipud, an abbreviation for flip in the up down direction. We can view the docstring for the function by typing in the function name followed by shift ⇧ and tab ↹."
   ]
  },
  {
   "cell_type": "markdown",
   "id": "valid-northwest",
   "metadata": {},
   "source": [
    "![flipud_docstring](flipud_docstring.png)"
   ]
  },
  {
   "cell_type": "code",
   "execution_count": 222,
   "id": "small-tract",
   "metadata": {},
   "outputs": [
    {
     "data": {
      "text/plain": [
       "array([[0, 0, 0, 4],\n",
       "       [0, 0, 3, 0],\n",
       "       [0, 2, 0, 0],\n",
       "       [1, 0, 0, 0]])"
      ]
     },
     "execution_count": 222,
     "metadata": {},
     "output_type": "execute_result"
    }
   ],
   "source": [
    "np.flipud(m3)"
   ]
  },
  {
   "cell_type": "markdown",
   "id": "divine-intranet",
   "metadata": {},
   "source": [
    "The identity matrix is often referred to in mathematics as I and has values of 1 across the diagonal and 0 elsewhere. It is important for matrix multiplication, particularly square matrices (we will examine its use later when we look at interpolation). \n",
    "\n",
    "In Python, case is important with upper cases being typically reserved for classes. In mathematics however the lower case i is used for imaginary numbers, although j is used in engineering (and by default in Python). To prevent confusion the numpy function eye is used to create the identity matrix (because I and eye sound the same in the English language).\n",
    "\n",
    "The eye function input has one positional input argument which will be the integer dimensions of the square matrix. In the cases where the user wants a non-square matrix both m and n can be specified."
   ]
  },
  {
   "cell_type": "markdown",
   "id": "ordinary-lawrence",
   "metadata": {},
   "source": [
    "![eye_docstring](eye_docstring.png)"
   ]
  },
  {
   "cell_type": "code",
   "execution_count": 223,
   "id": "ranking-viewer",
   "metadata": {},
   "outputs": [
    {
     "data": {
      "text/plain": [
       "array([[1., 0., 0., 0.],\n",
       "       [0., 1., 0., 0.],\n",
       "       [0., 0., 1., 0.],\n",
       "       [0., 0., 0., 1.]])"
      ]
     },
     "execution_count": 223,
     "metadata": {},
     "output_type": "execute_result"
    }
   ],
   "source": [
    "np.eye(4)"
   ]
  },
  {
   "cell_type": "code",
   "execution_count": 224,
   "id": "spanish-stations",
   "metadata": {},
   "outputs": [
    {
     "data": {
      "text/plain": [
       "array([[1., 0., 0.],\n",
       "       [0., 1., 0.],\n",
       "       [0., 0., 1.],\n",
       "       [0., 0., 0.]])"
      ]
     },
     "execution_count": 224,
     "metadata": {},
     "output_type": "execute_result"
    }
   ],
   "source": [
    "np.eye(4,3)"
   ]
  },
  {
   "cell_type": "markdown",
   "id": "brutal-singles",
   "metadata": {},
   "source": [
    "The numpy function arange can be used to create an array of instantly spaced values. This function has 1-3 positional input arguments start, stop and input (which also work as keyword input arguments). "
   ]
  },
  {
   "cell_type": "markdown",
   "id": "essential-device",
   "metadata": {},
   "source": [
    "![arange_docstring](arange_docstring.png)"
   ]
  },
  {
   "cell_type": "markdown",
   "id": "brave-blogger",
   "metadata": {},
   "source": [
    "All three positional arguments can be specified."
   ]
  },
  {
   "cell_type": "code",
   "execution_count": 225,
   "id": "interracial-somalia",
   "metadata": {},
   "outputs": [
    {
     "data": {
      "text/plain": [
       "array([0, 1, 2, 3, 4, 5, 6, 7, 8, 9])"
      ]
     },
     "execution_count": 225,
     "metadata": {},
     "output_type": "execute_result"
    }
   ],
   "source": [
    "np.arange(start=0,stop=10,step=1)"
   ]
  },
  {
   "cell_type": "code",
   "execution_count": 226,
   "id": "universal-gospel",
   "metadata": {},
   "outputs": [
    {
     "data": {
      "text/plain": [
       "array([0, 1, 2, 3, 4, 5, 6, 7, 8, 9])"
      ]
     },
     "execution_count": 226,
     "metadata": {},
     "output_type": "execute_result"
    }
   ],
   "source": [
    "np.arange(0,10,1)"
   ]
  },
  {
   "cell_type": "markdown",
   "id": "fifty-topic",
   "metadata": {},
   "source": [
    "Note that the function arange uses zero-order indexing. This means we are inclusive of the start bound but exclusive to the stop bound. i.e. in this case go up to 10 in steps of 1 without reaching 10."
   ]
  },
  {
   "cell_type": "markdown",
   "id": "younger-chosen",
   "metadata": {},
   "source": [
    "If only two input arguments are specified, step is automatically assumed to be 1."
   ]
  },
  {
   "cell_type": "code",
   "execution_count": 227,
   "id": "multiple-privilege",
   "metadata": {},
   "outputs": [
    {
     "data": {
      "text/plain": [
       "array([0, 1, 2, 3, 4, 5, 6, 7, 8, 9])"
      ]
     },
     "execution_count": 227,
     "metadata": {},
     "output_type": "execute_result"
    }
   ],
   "source": [
    "np.arange(start=0,stop=10)"
   ]
  },
  {
   "cell_type": "code",
   "execution_count": 228,
   "id": "considered-prairie",
   "metadata": {},
   "outputs": [
    {
     "data": {
      "text/plain": [
       "array([0, 1, 2, 3, 4, 5, 6, 7, 8, 9])"
      ]
     },
     "execution_count": 228,
     "metadata": {},
     "output_type": "execute_result"
    }
   ],
   "source": [
    "np.arange(0,10)"
   ]
  },
  {
   "cell_type": "markdown",
   "id": "developed-brother",
   "metadata": {},
   "source": [
    "If only one input argument is specified, step is automatically assumed to be 1 and start is assumed to be 0."
   ]
  },
  {
   "cell_type": "code",
   "execution_count": 229,
   "id": "returning-round",
   "metadata": {},
   "outputs": [
    {
     "data": {
      "text/plain": [
       "array([0, 1, 2, 3, 4, 5, 6, 7, 8, 9])"
      ]
     },
     "execution_count": 229,
     "metadata": {},
     "output_type": "execute_result"
    }
   ],
   "source": [
    "np.arange(10)"
   ]
  },
  {
   "cell_type": "markdown",
   "id": "proprietary-reviewer",
   "metadata": {},
   "source": [
    "The keyword input argument dtype can be used to assign the dtype while creating the array (and behaves in the same way as seen before in the numpy function array). If not assigned it will be inferred from the data."
   ]
  },
  {
   "cell_type": "markdown",
   "id": "stone-chile",
   "metadata": {},
   "source": [
    "Earlier we created the array m."
   ]
  },
  {
   "cell_type": "code",
   "execution_count": 230,
   "id": "developmental-albuquerque",
   "metadata": {},
   "outputs": [],
   "source": [
    "m=np.array([[1,2,3,4],\n",
    "            [5,6,7,8],\n",
    "            [9,10,11,12],\n",
    "            [13,14,15,16]])"
   ]
  },
  {
   "cell_type": "markdown",
   "id": "supported-ballet",
   "metadata": {},
   "source": [
    "We can create this using the numpy function arange and the ndarray method reshape. Note because we are using zero order indexing we need to explicitly start at 1 and stop 1 step above 16 to get 16 i.e. 17."
   ]
  },
  {
   "cell_type": "code",
   "execution_count": 231,
   "id": "interpreted-connection",
   "metadata": {},
   "outputs": [],
   "source": [
    "m=np.arange(start=1,stop=17,step=1)"
   ]
  },
  {
   "cell_type": "code",
   "execution_count": 232,
   "id": "wireless-serve",
   "metadata": {},
   "outputs": [
    {
     "data": {
      "text/plain": [
       "array([ 1,  2,  3,  4,  5,  6,  7,  8,  9, 10, 11, 12, 13, 14, 15, 16])"
      ]
     },
     "execution_count": 232,
     "metadata": {},
     "output_type": "execute_result"
    }
   ],
   "source": [
    "m"
   ]
  },
  {
   "cell_type": "code",
   "execution_count": 233,
   "id": "statutory-stone",
   "metadata": {},
   "outputs": [],
   "source": [
    "m=m.reshape((4,4))"
   ]
  },
  {
   "cell_type": "code",
   "execution_count": 234,
   "id": "about-enhancement",
   "metadata": {},
   "outputs": [
    {
     "data": {
      "text/plain": [
       "array([[ 1,  2,  3,  4],\n",
       "       [ 5,  6,  7,  8],\n",
       "       [ 9, 10, 11, 12],\n",
       "       [13, 14, 15, 16]])"
      ]
     },
     "execution_count": 234,
     "metadata": {},
     "output_type": "execute_result"
    }
   ],
   "source": [
    "m"
   ]
  },
  {
   "cell_type": "markdown",
   "id": "computational-attribute",
   "metadata": {},
   "source": [
    "When we use the function arange we need to consider zero-order indexing."
   ]
  },
  {
   "cell_type": "code",
   "execution_count": 235,
   "id": "annoying-january",
   "metadata": {},
   "outputs": [
    {
     "data": {
      "text/plain": [
       "array([-2. , -1.5, -1. , -0.5,  0. ,  0.5,  1. ,  1.5])"
      ]
     },
     "execution_count": 235,
     "metadata": {},
     "output_type": "execute_result"
    }
   ],
   "source": [
    "np.arange(start=-2,stop=2,step=0.5)"
   ]
  },
  {
   "cell_type": "code",
   "execution_count": 236,
   "id": "opening-suicide",
   "metadata": {},
   "outputs": [
    {
     "data": {
      "text/plain": [
       "array([-2. , -1.5, -1. , -0.5,  0. ,  0.5,  1. ,  1.5,  2. ])"
      ]
     },
     "execution_count": 236,
     "metadata": {},
     "output_type": "execute_result"
    }
   ],
   "source": [
    "np.arange(start=-2,stop=2.5,step=0.5)"
   ]
  },
  {
   "cell_type": "markdown",
   "id": "engaging-flexibility",
   "metadata": {},
   "source": [
    "Sometimes it is more convenient to create equally spaced arrays inclusive of both the start and stop bound. This can be done using the similar numpy function linspace."
   ]
  },
  {
   "cell_type": "markdown",
   "id": "experimental-sleep",
   "metadata": {},
   "source": [
    "![linspace_docstring](linspace_docstring.png)"
   ]
  },
  {
   "cell_type": "code",
   "execution_count": 237,
   "id": "developmental-partition",
   "metadata": {},
   "outputs": [
    {
     "data": {
      "text/plain": [
       "array([-2. , -1.5, -1. , -0.5,  0. ,  0.5,  1. ,  1.5,  2. ])"
      ]
     },
     "execution_count": 237,
     "metadata": {},
     "output_type": "execute_result"
    }
   ],
   "source": [
    "np.linspace(start=-2,stop=2,num=9)"
   ]
  },
  {
   "cell_type": "markdown",
   "id": "selective-lafayette",
   "metadata": {},
   "source": [
    "### Element by Element Operations"
   ]
  },
  {
   "cell_type": "markdown",
   "id": "collected-florida",
   "metadata": {},
   "source": [
    "The following operators are setup for numeric operation in a numpy array."
   ]
  },
  {
   "cell_type": "markdown",
   "id": "conventional-baker",
   "metadata": {},
   "source": [
    "|Operator|Description|double underscore (dunder) method|\n",
    "|:-:|:-:|:-:|\n",
    "|+|element by element addition|\\_\\_add\\_\\_|\n",
    "|-|element by element subtraction|\\_\\_sub\\_\\_|\n",
    "|\\*|element by element multiplication|\\_\\_mul\\_\\_|\n",
    "|\\*\\*|element by element exponentiation|\\_\\_pow\\_\\_|\n",
    "|//|element by element integer division|\\_\\_floordiv\\_\\_|\n",
    "|%|element by element modulus|\\_\\_mod\\_\\_|\n",
    "|/|element by element float division|\\_\\_truediv\\_\\_|"
   ]
  },
  {
   "cell_type": "markdown",
   "id": "professional-indiana",
   "metadata": {},
   "source": [
    "This means that an array can interact with a numeric value for example the array with 4 elements can interact with a scalar."
   ]
  },
  {
   "cell_type": "code",
   "execution_count": 238,
   "id": "failing-mandate",
   "metadata": {},
   "outputs": [],
   "source": [
    "a1=np.array([1,2,3,4])"
   ]
  },
  {
   "cell_type": "code",
   "execution_count": 239,
   "id": "wooden-wisconsin",
   "metadata": {},
   "outputs": [
    {
     "data": {
      "text/plain": [
       "array([3, 4, 5, 6])"
      ]
     },
     "execution_count": 239,
     "metadata": {},
     "output_type": "execute_result"
    }
   ],
   "source": [
    "a1+2"
   ]
  },
  {
   "cell_type": "code",
   "execution_count": 240,
   "id": "sixth-peter",
   "metadata": {},
   "outputs": [
    {
     "data": {
      "text/plain": [
       "array([-1,  0,  1,  2])"
      ]
     },
     "execution_count": 240,
     "metadata": {},
     "output_type": "execute_result"
    }
   ],
   "source": [
    "a1-2"
   ]
  },
  {
   "cell_type": "code",
   "execution_count": 241,
   "id": "affiliated-fraction",
   "metadata": {},
   "outputs": [
    {
     "data": {
      "text/plain": [
       "array([2, 4, 6, 8])"
      ]
     },
     "execution_count": 241,
     "metadata": {},
     "output_type": "execute_result"
    }
   ],
   "source": [
    "a1*2"
   ]
  },
  {
   "cell_type": "code",
   "execution_count": 242,
   "id": "colonial-baseline",
   "metadata": {},
   "outputs": [
    {
     "data": {
      "text/plain": [
       "array([ 1,  4,  9, 16], dtype=int32)"
      ]
     },
     "execution_count": 242,
     "metadata": {},
     "output_type": "execute_result"
    }
   ],
   "source": [
    "a1**2"
   ]
  },
  {
   "cell_type": "markdown",
   "id": "lesser-router",
   "metadata": {},
   "source": [
    "This is also used for the square root."
   ]
  },
  {
   "cell_type": "code",
   "execution_count": 243,
   "id": "celtic-effectiveness",
   "metadata": {},
   "outputs": [
    {
     "data": {
      "text/plain": [
       "array([1.        , 1.41421356, 1.73205081, 2.        ])"
      ]
     },
     "execution_count": 243,
     "metadata": {},
     "output_type": "execute_result"
    }
   ],
   "source": [
    "a1**0.5"
   ]
  },
  {
   "cell_type": "code",
   "execution_count": 244,
   "id": "civil-tragedy",
   "metadata": {},
   "outputs": [
    {
     "data": {
      "text/plain": [
       "array([0, 1, 1, 2], dtype=int32)"
      ]
     },
     "execution_count": 244,
     "metadata": {},
     "output_type": "execute_result"
    }
   ],
   "source": [
    "a1//2"
   ]
  },
  {
   "cell_type": "code",
   "execution_count": 245,
   "id": "major-truck",
   "metadata": {},
   "outputs": [
    {
     "data": {
      "text/plain": [
       "array([0, 1, 1, 2], dtype=int32)"
      ]
     },
     "execution_count": 245,
     "metadata": {},
     "output_type": "execute_result"
    }
   ],
   "source": [
    "a1//2"
   ]
  },
  {
   "cell_type": "code",
   "execution_count": 246,
   "id": "ranking-papua",
   "metadata": {},
   "outputs": [
    {
     "data": {
      "text/plain": [
       "array([1, 0, 1, 0], dtype=int32)"
      ]
     },
     "execution_count": 246,
     "metadata": {},
     "output_type": "execute_result"
    }
   ],
   "source": [
    "a1%2"
   ]
  },
  {
   "cell_type": "code",
   "execution_count": 247,
   "id": "level-premises",
   "metadata": {},
   "outputs": [
    {
     "data": {
      "text/plain": [
       "array([0.5, 1. , 1.5, 2. ])"
      ]
     },
     "execution_count": 247,
     "metadata": {},
     "output_type": "execute_result"
    }
   ],
   "source": [
    "a1/2"
   ]
  },
  {
   "cell_type": "markdown",
   "id": "electrical-likelihood",
   "metadata": {},
   "source": [
    "Recall that these operators work via use of the dunder methods, which can be expressed as:"
   ]
  },
  {
   "cell_type": "code",
   "execution_count": 248,
   "id": "equal-organizer",
   "metadata": {},
   "outputs": [
    {
     "data": {
      "text/plain": [
       "array([3, 4, 5, 6])"
      ]
     },
     "execution_count": 248,
     "metadata": {},
     "output_type": "execute_result"
    }
   ],
   "source": [
    "a1.__add__(2)"
   ]
  },
  {
   "cell_type": "markdown",
   "id": "opposite-marketing",
   "metadata": {},
   "source": [
    "In all of the cases above scalar expansion is performed. Essentially in the background the scalar is multiplied by ones using the dimensions of the numpy array."
   ]
  },
  {
   "cell_type": "code",
   "execution_count": 249,
   "id": "light-association",
   "metadata": {},
   "outputs": [
    {
     "data": {
      "text/plain": [
       "array([1, 2, 3, 4])"
      ]
     },
     "execution_count": 249,
     "metadata": {},
     "output_type": "execute_result"
    }
   ],
   "source": [
    "a1"
   ]
  },
  {
   "cell_type": "code",
   "execution_count": 250,
   "id": "moved-crisis",
   "metadata": {},
   "outputs": [],
   "source": [
    "a2=2*np.ones(a1.shape,dtype=int)"
   ]
  },
  {
   "cell_type": "code",
   "execution_count": 251,
   "id": "parliamentary-insert",
   "metadata": {},
   "outputs": [
    {
     "data": {
      "text/plain": [
       "array([2, 2, 2, 2])"
      ]
     },
     "execution_count": 251,
     "metadata": {},
     "output_type": "execute_result"
    }
   ],
   "source": [
    "a2"
   ]
  },
  {
   "cell_type": "markdown",
   "id": "blond-cement",
   "metadata": {},
   "source": [
    "The value in each index of a1 is added to the corresponding value in each index of a2."
   ]
  },
  {
   "cell_type": "code",
   "execution_count": 252,
   "id": "running-conversion",
   "metadata": {},
   "outputs": [
    {
     "data": {
      "text/plain": [
       "array([3, 4, 5, 6])"
      ]
     },
     "execution_count": 252,
     "metadata": {},
     "output_type": "execute_result"
    }
   ],
   "source": [
    "np.array([1,2,3,4])+np.array([2,2,2,2])"
   ]
  },
  {
   "cell_type": "markdown",
   "id": "british-pittsburgh",
   "metadata": {},
   "source": [
    "If the dimensions do not match, there is an error as there is no clear instruction to perform the operation."
   ]
  },
  {
   "cell_type": "markdown",
   "id": "revolutionary-sugar",
   "metadata": {},
   "source": [
    "```np.array([1, 2, 3, 4])+np.array([2, 2, 2])```"
   ]
  },
  {
   "cell_type": "markdown",
   "id": "seeing-float",
   "metadata": {},
   "source": [
    "![ValueError_operands_could_not_be_broadcast_together](ValueError_operands_could_not_be_broadcast_together.png)"
   ]
  },
  {
   "cell_type": "markdown",
   "id": "requested-swimming",
   "metadata": {},
   "source": [
    "Therefore when two arrays are added they have to be equal size."
   ]
  },
  {
   "cell_type": "code",
   "execution_count": 253,
   "id": "regulation-wedding",
   "metadata": {},
   "outputs": [
    {
     "data": {
      "text/plain": [
       "array([ 3,  6,  9, 12])"
      ]
     },
     "execution_count": 253,
     "metadata": {},
     "output_type": "execute_result"
    }
   ],
   "source": [
    "np.array([1,2,3,4])+np.array([2,4,6,8])"
   ]
  },
  {
   "cell_type": "markdown",
   "id": "typical-player",
   "metadata": {},
   "source": [
    "For matrices it is possible to use scalar expansion and also vector expansion (providing the vector matches one of the dimensions of the matrix)."
   ]
  },
  {
   "cell_type": "code",
   "execution_count": 254,
   "id": "entertaining-semiconductor",
   "metadata": {},
   "outputs": [],
   "source": [
    "m=np.array([[1,2],\n",
    "            [3,4]])"
   ]
  },
  {
   "cell_type": "code",
   "execution_count": 255,
   "id": "amber-champion",
   "metadata": {},
   "outputs": [
    {
     "data": {
      "text/plain": [
       "array([[1, 2],\n",
       "       [3, 4]])"
      ]
     },
     "execution_count": 255,
     "metadata": {},
     "output_type": "execute_result"
    }
   ],
   "source": [
    "m"
   ]
  },
  {
   "cell_type": "markdown",
   "id": "written-modern",
   "metadata": {},
   "source": [
    "When the vector is not explictly specified as a row or a column."
   ]
  },
  {
   "cell_type": "code",
   "execution_count": 256,
   "id": "tight-adjustment",
   "metadata": {},
   "outputs": [],
   "source": [
    "v=np.array([5,6])"
   ]
  },
  {
   "cell_type": "code",
   "execution_count": 257,
   "id": "three-oxide",
   "metadata": {},
   "outputs": [
    {
     "data": {
      "text/plain": [
       "array([5, 6])"
      ]
     },
     "execution_count": 257,
     "metadata": {},
     "output_type": "execute_result"
    }
   ],
   "source": [
    "v"
   ]
  },
  {
   "cell_type": "markdown",
   "id": "prostate-characteristic",
   "metadata": {},
   "source": [
    "It is assumed to be an object with a single dimension. This object has multiple columns and no rows. Recall the following when we looked at shape."
   ]
  },
  {
   "cell_type": "markdown",
   "id": "specialized-breed",
   "metadata": {},
   "source": [
    "```(ncol)=array1d.shape```\n",
    "\n",
    "```(nrow,ncol)=array2d.shape```\n",
    "\n",
    "```(npage,nrow,ncol)=array3d.shape```\n",
    "\n",
    "```(nframe,npage,nrow,ncol)=array4d.shape```\n",
    "\n",
    "```...```"
   ]
  },
  {
   "cell_type": "code",
   "execution_count": 258,
   "id": "interior-french",
   "metadata": {},
   "outputs": [
    {
     "data": {
      "text/plain": [
       "array([[1, 2],\n",
       "       [3, 4]])"
      ]
     },
     "execution_count": 258,
     "metadata": {},
     "output_type": "execute_result"
    }
   ],
   "source": [
    "m"
   ]
  },
  {
   "cell_type": "code",
   "execution_count": 259,
   "id": "occupied-surface",
   "metadata": {},
   "outputs": [
    {
     "data": {
      "text/plain": [
       "array([5, 6])"
      ]
     },
     "execution_count": 259,
     "metadata": {},
     "output_type": "execute_result"
    }
   ],
   "source": [
    "v"
   ]
  },
  {
   "cell_type": "markdown",
   "id": "endless-stupid",
   "metadata": {},
   "source": [
    "Therefore vector expansion of a 1D vector is always assumed to be along rows."
   ]
  },
  {
   "cell_type": "code",
   "execution_count": 260,
   "id": "premium-vision",
   "metadata": {},
   "outputs": [
    {
     "data": {
      "text/plain": [
       "array([[ 6,  8],\n",
       "       [ 8, 10]])"
      ]
     },
     "execution_count": 260,
     "metadata": {},
     "output_type": "execute_result"
    }
   ],
   "source": [
    "m+v"
   ]
  },
  {
   "cell_type": "markdown",
   "id": "expressed-treatment",
   "metadata": {},
   "source": [
    "The vector can explicitly be reshaped as a row or column. In such a scenario, vector expansion will occur in line with the matching dimensions."
   ]
  },
  {
   "cell_type": "code",
   "execution_count": 261,
   "id": "differential-return",
   "metadata": {},
   "outputs": [],
   "source": [
    "vrow=v.reshape((1,-1))"
   ]
  },
  {
   "cell_type": "code",
   "execution_count": 262,
   "id": "freelance-attitude",
   "metadata": {},
   "outputs": [
    {
     "data": {
      "text/plain": [
       "array([[5, 6]])"
      ]
     },
     "execution_count": 262,
     "metadata": {},
     "output_type": "execute_result"
    }
   ],
   "source": [
    "vrow"
   ]
  },
  {
   "cell_type": "code",
   "execution_count": 263,
   "id": "bronze-emergency",
   "metadata": {},
   "outputs": [],
   "source": [
    "vcol=v.reshape((-1,1))"
   ]
  },
  {
   "cell_type": "code",
   "execution_count": 264,
   "id": "exclusive-standard",
   "metadata": {},
   "outputs": [
    {
     "data": {
      "text/plain": [
       "array([[5],\n",
       "       [6]])"
      ]
     },
     "execution_count": 264,
     "metadata": {},
     "output_type": "execute_result"
    }
   ],
   "source": [
    "vcol"
   ]
  },
  {
   "cell_type": "markdown",
   "id": "maritime-encounter",
   "metadata": {},
   "source": [
    "Let's have a look at m+vrow."
   ]
  },
  {
   "cell_type": "code",
   "execution_count": 265,
   "id": "numeric-cabin",
   "metadata": {},
   "outputs": [
    {
     "data": {
      "text/plain": [
       "array([[1, 2],\n",
       "       [3, 4]])"
      ]
     },
     "execution_count": 265,
     "metadata": {},
     "output_type": "execute_result"
    }
   ],
   "source": [
    "m"
   ]
  },
  {
   "cell_type": "code",
   "execution_count": 266,
   "id": "genuine-medline",
   "metadata": {},
   "outputs": [
    {
     "data": {
      "text/plain": [
       "array([[5, 6]])"
      ]
     },
     "execution_count": 266,
     "metadata": {},
     "output_type": "execute_result"
    }
   ],
   "source": [
    "vrow"
   ]
  },
  {
   "cell_type": "code",
   "execution_count": 267,
   "id": "dramatic-friendship",
   "metadata": {},
   "outputs": [
    {
     "data": {
      "text/plain": [
       "array([[ 6,  8],\n",
       "       [ 8, 10]])"
      ]
     },
     "execution_count": 267,
     "metadata": {},
     "output_type": "execute_result"
    }
   ],
   "source": [
    "m+vrow"
   ]
  },
  {
   "cell_type": "markdown",
   "id": "otherwise-deviation",
   "metadata": {},
   "source": [
    "Let's now have a look at m+vcol."
   ]
  },
  {
   "cell_type": "code",
   "execution_count": 268,
   "id": "handed-style",
   "metadata": {},
   "outputs": [
    {
     "data": {
      "text/plain": [
       "array([[1, 2],\n",
       "       [3, 4]])"
      ]
     },
     "execution_count": 268,
     "metadata": {},
     "output_type": "execute_result"
    }
   ],
   "source": [
    "m"
   ]
  },
  {
   "cell_type": "code",
   "execution_count": 269,
   "id": "instrumental-tours",
   "metadata": {},
   "outputs": [
    {
     "data": {
      "text/plain": [
       "array([[5],\n",
       "       [6]])"
      ]
     },
     "execution_count": 269,
     "metadata": {},
     "output_type": "execute_result"
    }
   ],
   "source": [
    "vcol"
   ]
  },
  {
   "cell_type": "code",
   "execution_count": 270,
   "id": "signed-story",
   "metadata": {},
   "outputs": [
    {
     "data": {
      "text/plain": [
       "array([[ 6,  7],\n",
       "       [ 9, 10]])"
      ]
     },
     "execution_count": 270,
     "metadata": {},
     "output_type": "execute_result"
    }
   ],
   "source": [
    "m+vcol"
   ]
  },
  {
   "cell_type": "markdown",
   "id": "structural-london",
   "metadata": {},
   "source": [
    "The inplace operators also work (they will perform an inplace update to the array on the left hand side."
   ]
  },
  {
   "cell_type": "markdown",
   "id": "valuable-volume",
   "metadata": {},
   "source": [
    "|Operator|Description|\n",
    "|:-:|:-:|\n",
    "|+=|element by element in place addition|\n",
    "|-=|element by element in place subtraction|\n",
    "|\\*=|element by element in place multiplication|\n",
    "|\\*\\*=|element by element in place exponentiation|\n",
    "|//=|element by element in place integer division|\n",
    "|%=|element by element in place modulus|\n",
    "|/=|element by element in place float division|"
   ]
  },
  {
   "cell_type": "markdown",
   "id": "peripheral-timber",
   "metadata": {},
   "source": [
    "Let's create the arrays a1 and a2."
   ]
  },
  {
   "cell_type": "code",
   "execution_count": 271,
   "id": "raising-rochester",
   "metadata": {},
   "outputs": [],
   "source": [
    "a1=np.array([2,4,6,8])"
   ]
  },
  {
   "cell_type": "code",
   "execution_count": 272,
   "id": "lesser-quantum",
   "metadata": {},
   "outputs": [],
   "source": [
    "a2=np.array([1,3,5,7])"
   ]
  },
  {
   "cell_type": "code",
   "execution_count": 273,
   "id": "forty-wheel",
   "metadata": {},
   "outputs": [
    {
     "data": {
      "text/plain": [
       "array([2, 4, 6, 8])"
      ]
     },
     "execution_count": 273,
     "metadata": {},
     "output_type": "execute_result"
    }
   ],
   "source": [
    "a1"
   ]
  },
  {
   "cell_type": "code",
   "execution_count": 274,
   "id": "lined-candle",
   "metadata": {},
   "outputs": [
    {
     "data": {
      "text/plain": [
       "array([1, 3, 5, 7])"
      ]
     },
     "execution_count": 274,
     "metadata": {},
     "output_type": "execute_result"
    }
   ],
   "source": [
    "a2"
   ]
  },
  {
   "cell_type": "markdown",
   "id": "cathedral-ceremony",
   "metadata": {},
   "source": [
    "Now let's perform a += operation."
   ]
  },
  {
   "cell_type": "code",
   "execution_count": 275,
   "id": "israeli-shuttle",
   "metadata": {},
   "outputs": [],
   "source": [
    "a1+=a2"
   ]
  },
  {
   "cell_type": "code",
   "execution_count": 276,
   "id": "floral-round",
   "metadata": {},
   "outputs": [
    {
     "data": {
      "text/plain": [
       "array([ 3,  7, 11, 15])"
      ]
     },
     "execution_count": 276,
     "metadata": {},
     "output_type": "execute_result"
    }
   ],
   "source": [
    "a1"
   ]
  },
  {
   "cell_type": "code",
   "execution_count": 277,
   "id": "honest-armstrong",
   "metadata": {},
   "outputs": [
    {
     "data": {
      "text/plain": [
       "array([1, 3, 5, 7])"
      ]
     },
     "execution_count": 277,
     "metadata": {},
     "output_type": "execute_result"
    }
   ],
   "source": [
    "a2"
   ]
  },
  {
   "cell_type": "markdown",
   "id": "recent-brand",
   "metadata": {},
   "source": [
    "We see that a1 has been mutated and a2 remains unchanged."
   ]
  },
  {
   "cell_type": "markdown",
   "id": "upset-bracket",
   "metadata": {},
   "source": [
    "Let's have a look at an array with negative numbers."
   ]
  },
  {
   "cell_type": "code",
   "execution_count": 278,
   "id": "severe-trash",
   "metadata": {},
   "outputs": [],
   "source": [
    "a3=np.array([-1,2,-3,4])"
   ]
  },
  {
   "cell_type": "markdown",
   "id": "apart-split",
   "metadata": {},
   "source": [
    "We can use the numpy function abs to return element by element the absolute values in the array."
   ]
  },
  {
   "cell_type": "code",
   "execution_count": 279,
   "id": "iraqi-hudson",
   "metadata": {},
   "outputs": [
    {
     "data": {
      "text/plain": [
       "array([1, 2, 3, 4])"
      ]
     },
     "execution_count": 279,
     "metadata": {},
     "output_type": "execute_result"
    }
   ],
   "source": [
    "np.abs(a3)"
   ]
  },
  {
   "cell_type": "markdown",
   "id": "right-slope",
   "metadata": {},
   "source": [
    "Returning to the negative array because the array has negative numbers, it is not possible to calcualte the square root of it. An invalid value encountered in power error will display."
   ]
  },
  {
   "cell_type": "markdown",
   "id": "incredible-event",
   "metadata": {},
   "source": [
    "```a3**0.5```"
   ]
  },
  {
   "cell_type": "markdown",
   "id": "sporting-kernel",
   "metadata": {},
   "source": [
    "![RuntimeWarning](RuntimeWarning.png)"
   ]
  },
  {
   "cell_type": "markdown",
   "id": "trained-certification",
   "metadata": {},
   "source": [
    "If the dtype is changed to complex however the square root will display the real and imaginary components."
   ]
  },
  {
   "cell_type": "code",
   "execution_count": 280,
   "id": "anonymous-amber",
   "metadata": {},
   "outputs": [],
   "source": [
    "a3=np.array(a3,dtype=complex)"
   ]
  },
  {
   "cell_type": "code",
   "execution_count": 281,
   "id": "ancient-contact",
   "metadata": {},
   "outputs": [
    {
     "data": {
      "text/plain": [
       "array([0.        +1.j        , 1.41421356+0.j        ,\n",
       "       0.        +1.73205081j, 2.        +0.j        ])"
      ]
     },
     "execution_count": 281,
     "metadata": {},
     "output_type": "execute_result"
    }
   ],
   "source": [
    "a3**0.5"
   ]
  },
  {
   "cell_type": "markdown",
   "id": "involved-northeast",
   "metadata": {},
   "source": [
    "### Element by Element Multiplication vs Array Multiplication"
   ]
  },
  {
   "cell_type": "markdown",
   "id": "finished-bacteria",
   "metadata": {},
   "source": [
    "For a matrix there is are some operations which occur element by element and others which occur across the array. Multiplication can be carried out element by element or across an array. The difference between these is better visualized using a practical example."
   ]
  },
  {
   "cell_type": "markdown",
   "id": "incident-malaysia",
   "metadata": {},
   "source": [
    "|Operator|Description|double underscore (dunder) method|\n",
    "|:-:|:-:|:-:|\n",
    "|\\*|element by element multiplication|\\_\\_mul\\_\\_|\n",
    "|@|array multiplication|\\_\\_matmul\\_\\_|"
   ]
  },
  {
   "cell_type": "markdown",
   "id": "literary-stereo",
   "metadata": {},
   "source": [
    "Let's have a look at multiplication of a scalar. Assume you are going to a shop and you want to purchase 5 pens that cost £2 each."
   ]
  },
  {
   "cell_type": "code",
   "execution_count": 282,
   "id": "piano-thomson",
   "metadata": {},
   "outputs": [],
   "source": [
    "quantity=np.array(5)\n",
    "price=np.array(2)"
   ]
  },
  {
   "cell_type": "code",
   "execution_count": 283,
   "id": "efficient-literature",
   "metadata": {},
   "outputs": [
    {
     "data": {
      "text/plain": [
       "10"
      ]
     },
     "execution_count": 283,
     "metadata": {},
     "output_type": "execute_result"
    }
   ],
   "source": [
    "quantity*price"
   ]
  },
  {
   "cell_type": "markdown",
   "id": "canadian-response",
   "metadata": {},
   "source": [
    "Now let's instead look at buying two different item types in a shop, 5 pens and 3 pads. These items have a different price £2 and £6 respectively."
   ]
  },
  {
   "cell_type": "code",
   "execution_count": 284,
   "id": "attractive-border",
   "metadata": {},
   "outputs": [],
   "source": [
    "quantity=np.array([5,3])"
   ]
  },
  {
   "cell_type": "code",
   "execution_count": 285,
   "id": "general-creature",
   "metadata": {},
   "outputs": [],
   "source": [
    "price=np.array([2,6])"
   ]
  },
  {
   "cell_type": "markdown",
   "id": "coordinate-country",
   "metadata": {},
   "source": [
    "We can calculate the cost we spend on each item type using element by element multiplication. Alternatively we can calculate the total cost using array multiplication."
   ]
  },
  {
   "cell_type": "markdown",
   "id": "acting-prophet",
   "metadata": {},
   "source": [
    "For element by element multiplication the dimensions of both arrays must match. They can both be columns or both be rows."
   ]
  },
  {
   "cell_type": "markdown",
   "id": "another-sport",
   "metadata": {},
   "source": [
    "![vector_multiplication_element_by_element](vector_multiplication_element_by_element.png)"
   ]
  },
  {
   "cell_type": "markdown",
   "id": "hindu-madonna",
   "metadata": {},
   "source": [
    "$$\\left[\\begin{matrix}5\\\\3\\\\\\end{matrix}\\right]\\ast\\left[\\begin{matrix}2\\\\6\\\\\\end{matrix}\\right]=\\left[\\begin{matrix}5\\ast2\\\\3\\ast6\\\\\\end{matrix}\\right]=\\left[\\begin{matrix}5\\ast2\\\\3\\ast6\\\\\\end{matrix}\\right]=\\left[\\begin{matrix}10\\\\18\\\\\\end{matrix}\\right]$$"
   ]
  },
  {
   "cell_type": "markdown",
   "id": "fatal-entry",
   "metadata": {},
   "source": [
    "In this example we will reshape both quantity and price as columns."
   ]
  },
  {
   "cell_type": "code",
   "execution_count": 286,
   "id": "welsh-hierarchy",
   "metadata": {},
   "outputs": [],
   "source": [
    "quantity=quantity.reshape((-1,1))"
   ]
  },
  {
   "cell_type": "code",
   "execution_count": 287,
   "id": "awful-hopkins",
   "metadata": {},
   "outputs": [
    {
     "data": {
      "text/plain": [
       "array([[5],\n",
       "       [3]])"
      ]
     },
     "execution_count": 287,
     "metadata": {},
     "output_type": "execute_result"
    }
   ],
   "source": [
    "quantity"
   ]
  },
  {
   "cell_type": "code",
   "execution_count": 288,
   "id": "connected-rates",
   "metadata": {},
   "outputs": [],
   "source": [
    "price=price.reshape((-1,1))"
   ]
  },
  {
   "cell_type": "code",
   "execution_count": 289,
   "id": "wired-marsh",
   "metadata": {},
   "outputs": [
    {
     "data": {
      "text/plain": [
       "array([[2],\n",
       "       [6]])"
      ]
     },
     "execution_count": 289,
     "metadata": {},
     "output_type": "execute_result"
    }
   ],
   "source": [
    "price"
   ]
  },
  {
   "cell_type": "code",
   "execution_count": 290,
   "id": "interim-setup",
   "metadata": {},
   "outputs": [
    {
     "data": {
      "text/plain": [
       "array([[10],\n",
       "       [18]])"
      ]
     },
     "execution_count": 290,
     "metadata": {},
     "output_type": "execute_result"
    }
   ],
   "source": [
    "quantity*price"
   ]
  },
  {
   "cell_type": "markdown",
   "id": "acceptable-cradle",
   "metadata": {},
   "source": [
    "For array multiplication the number of columns of the array on the left-hand side must match the number of rows of the array on the right-hand side. In other words, the inner dimensions of the array must match."
   ]
  },
  {
   "cell_type": "markdown",
   "id": "satellite-kitty",
   "metadata": {},
   "source": [
    "![vector_multiplication_array](vector_multiplication_array.png)"
   ]
  },
  {
   "cell_type": "markdown",
   "id": "hidden-scientist",
   "metadata": {},
   "source": [
    "$$\\left[\\begin{matrix}5&3\\\\\\end{matrix}\\right]@\\left[\\begin{matrix}2\\\\6\\\\\\end{matrix}\\right]=\\left[5\\ast2+3\\ast6\\right]=\\left[10+18\\right]=\\left[28\\right]$$"
   ]
  },
  {
   "cell_type": "markdown",
   "id": "greenhouse-truth",
   "metadata": {},
   "source": [
    "We need quantity as a row vector and price as a column vector. price is already a column vector, so we will just reshape quantity."
   ]
  },
  {
   "cell_type": "code",
   "execution_count": 291,
   "id": "chubby-wisconsin",
   "metadata": {},
   "outputs": [],
   "source": [
    "quantity=quantity.reshape((1,-1))"
   ]
  },
  {
   "cell_type": "code",
   "execution_count": 292,
   "id": "neural-skill",
   "metadata": {},
   "outputs": [
    {
     "data": {
      "text/plain": [
       "array([[5, 3]])"
      ]
     },
     "execution_count": 292,
     "metadata": {},
     "output_type": "execute_result"
    }
   ],
   "source": [
    "quantity"
   ]
  },
  {
   "cell_type": "code",
   "execution_count": 293,
   "id": "written-quilt",
   "metadata": {},
   "outputs": [
    {
     "data": {
      "text/plain": [
       "array([[2],\n",
       "       [6]])"
      ]
     },
     "execution_count": 293,
     "metadata": {},
     "output_type": "execute_result"
    }
   ],
   "source": [
    "price"
   ]
  },
  {
   "cell_type": "markdown",
   "id": "racial-sussex",
   "metadata": {},
   "source": [
    "For matrix multiplication, the inner dimensions must match i.e. the number of columns in the left hand side matrix must match the number of rows in the tight hand side matrix."
   ]
  },
  {
   "cell_type": "code",
   "execution_count": 294,
   "id": "comparative-criterion",
   "metadata": {},
   "outputs": [
    {
     "data": {
      "text/plain": [
       "(1, 2)"
      ]
     },
     "execution_count": 294,
     "metadata": {},
     "output_type": "execute_result"
    }
   ],
   "source": [
    "quantity.shape"
   ]
  },
  {
   "cell_type": "code",
   "execution_count": 295,
   "id": "departmental-strategy",
   "metadata": {},
   "outputs": [
    {
     "data": {
      "text/plain": [
       "(2, 1)"
      ]
     },
     "execution_count": 295,
     "metadata": {},
     "output_type": "execute_result"
    }
   ],
   "source": [
    "price.shape"
   ]
  },
  {
   "cell_type": "code",
   "execution_count": 296,
   "id": "written-portland",
   "metadata": {},
   "outputs": [
    {
     "data": {
      "text/plain": [
       "array([[28]])"
      ]
     },
     "execution_count": 296,
     "metadata": {},
     "output_type": "execute_result"
    }
   ],
   "source": [
    "quantity@price"
   ]
  },
  {
   "cell_type": "markdown",
   "id": "skilled-intellectual",
   "metadata": {},
   "source": [
    "The output matrix will have the dimensions of the outer matrices i.e. the number of rows of the left hand side matrix and the number of columns of the right hand side matrix."
   ]
  },
  {
   "cell_type": "code",
   "execution_count": 297,
   "id": "three-procedure",
   "metadata": {},
   "outputs": [],
   "source": [
    "total_cost=quantity@price"
   ]
  },
  {
   "cell_type": "code",
   "execution_count": 298,
   "id": "suited-angle",
   "metadata": {},
   "outputs": [
    {
     "data": {
      "text/plain": [
       "(1, 1)"
      ]
     },
     "execution_count": 298,
     "metadata": {},
     "output_type": "execute_result"
    }
   ],
   "source": [
    "total_cost.shape"
   ]
  },
  {
   "cell_type": "markdown",
   "id": "hawaiian-sentence",
   "metadata": {},
   "source": [
    "Because vectors are used, we must be careful with array multiplication and ensure that we reshape them so that they have the correct dimensionality. In the problem above we performed inner multiplication where the vector dimensions were (1,2) and (2,1) respectively leading to an output array that was (1,1). \n",
    "\n",
    "In the problem we have the same numeric values but a different problem. This time we have 5 people and 3 people in the red and green office respectively. We want to order 2 pens and 6 pads for each person. Array multiplication instead of calculating a total cost will calculate the total price per item type in each office. In this problem the vector dimensions are (2,1) and (1,2) respectively leading to an output array that is (2,2). "
   ]
  },
  {
   "cell_type": "markdown",
   "id": "committed-france",
   "metadata": {},
   "source": [
    "![vector_multiplication_array2](vector_multiplication_array2.png)"
   ]
  },
  {
   "cell_type": "markdown",
   "id": "unlikely-official",
   "metadata": {},
   "source": [
    "$$\\left[\\begin{matrix}5\\\\3\\\\\\end{matrix}\\right]@\\left[\\begin{matrix}2&6\\\\\\end{matrix}\\right]=\\left[\\begin{matrix}5\\ast2&5\\ast6\\\\3\\ast2&3\\ast6\\\\\\end{matrix}\\right]=\\left[\\begin{matrix}10&30\\\\6&18\\\\\\end{matrix}\\right]$$"
   ]
  },
  {
   "cell_type": "markdown",
   "id": "quality-hungarian",
   "metadata": {},
   "source": [
    "We need quantity as a column vector and price as a row vector. "
   ]
  },
  {
   "cell_type": "code",
   "execution_count": 299,
   "id": "south-right",
   "metadata": {},
   "outputs": [],
   "source": [
    "quantity=quantity.reshape((-1,1))"
   ]
  },
  {
   "cell_type": "code",
   "execution_count": 300,
   "id": "hired-damages",
   "metadata": {},
   "outputs": [],
   "source": [
    "price=price.reshape((1,-1))"
   ]
  },
  {
   "cell_type": "code",
   "execution_count": 301,
   "id": "julian-motorcycle",
   "metadata": {},
   "outputs": [
    {
     "data": {
      "text/plain": [
       "array([[5],\n",
       "       [3]])"
      ]
     },
     "execution_count": 301,
     "metadata": {},
     "output_type": "execute_result"
    }
   ],
   "source": [
    "quantity"
   ]
  },
  {
   "cell_type": "code",
   "execution_count": 302,
   "id": "conscious-kennedy",
   "metadata": {},
   "outputs": [
    {
     "data": {
      "text/plain": [
       "array([[2, 6]])"
      ]
     },
     "execution_count": 302,
     "metadata": {},
     "output_type": "execute_result"
    }
   ],
   "source": [
    "price"
   ]
  },
  {
   "cell_type": "markdown",
   "id": "animal-trash",
   "metadata": {},
   "source": [
    "For matrix multiplication, the inner dimensions must match i.e. the number of columns in the left hand side matrix must match the number of rows in the tight hand side mat"
   ]
  },
  {
   "cell_type": "code",
   "execution_count": 303,
   "id": "capable-olive",
   "metadata": {},
   "outputs": [
    {
     "data": {
      "text/plain": [
       "(2, 1)"
      ]
     },
     "execution_count": 303,
     "metadata": {},
     "output_type": "execute_result"
    }
   ],
   "source": [
    "quantity.shape"
   ]
  },
  {
   "cell_type": "code",
   "execution_count": 304,
   "id": "antique-logic",
   "metadata": {},
   "outputs": [
    {
     "data": {
      "text/plain": [
       "(1, 2)"
      ]
     },
     "execution_count": 304,
     "metadata": {},
     "output_type": "execute_result"
    }
   ],
   "source": [
    "price.shape"
   ]
  },
  {
   "cell_type": "code",
   "execution_count": 305,
   "id": "still-karma",
   "metadata": {},
   "outputs": [
    {
     "data": {
      "text/plain": [
       "array([[10, 30],\n",
       "       [ 6, 18]])"
      ]
     },
     "execution_count": 305,
     "metadata": {},
     "output_type": "execute_result"
    }
   ],
   "source": [
    "quantity@price"
   ]
  },
  {
   "cell_type": "markdown",
   "id": "statutory-judgment",
   "metadata": {},
   "source": [
    "The output matrix will have the dimensions of the outer matrices i.e. the number of rows of the left hand side matrix and the number of columns of the right hand side matrix."
   ]
  },
  {
   "cell_type": "code",
   "execution_count": 306,
   "id": "severe-collector",
   "metadata": {},
   "outputs": [],
   "source": [
    "total_item_cost_per_office=quantity@price"
   ]
  },
  {
   "cell_type": "code",
   "execution_count": 307,
   "id": "treated-noise",
   "metadata": {},
   "outputs": [
    {
     "data": {
      "text/plain": [
       "(2, 2)"
      ]
     },
     "execution_count": 307,
     "metadata": {},
     "output_type": "execute_result"
    }
   ],
   "source": [
    "total_item_cost_per_office.shape"
   ]
  },
  {
   "cell_type": "markdown",
   "id": "current-seeking",
   "metadata": {},
   "source": [
    "### Sorting Data in ndarrays and Basic Statistics of ndarrays"
   ]
  },
  {
   "cell_type": "markdown",
   "id": "fresh-buffalo",
   "metadata": {},
   "source": [
    "There are several statistical functions within the numpy library or ndarray methods that utilize the input argument axis (as previously discussed when looking at concatenation). "
   ]
  },
  {
   "cell_type": "markdown",
   "id": "lucky-variable",
   "metadata": {},
   "source": [
    "Recall that a tuple containing the number of dimensions can be obtained using the method shape. The index of each dimension corresponds to the axis.\n",
    "\n",
    "```(ncol)=array1d.shape```\n",
    "\n",
    "```(nrow,ncol)=array2d.shape```\n",
    "\n",
    "```(npage,nrow,ncol)=array3d.shape```\n",
    "\n",
    "```(nframe,npage,nrow,ncol)=array4d.shape```\n",
    "\n",
    "```...```\n",
    "\n",
    "The higher order dimension is added to the beginning of the tuple as the number of dimensions in the array is increased. This means that if we use the positive index then for a 1D array axis0=ncol, for a 2D array axis0=nrows, for a 3D array axis0=npage and for a 4d array axis0=nframe.\n",
    "\n",
    "If we instead index the axis using negative indexing then axis=-1 will correspond to ncol for all arrays and thus mean when we use axis=-1 in any ndarray method or numpy function we will always \"act on columns\". axis=-2 means we will always act on rows (for a 2D array or higher dimension) and so on."
   ]
  },
  {
   "cell_type": "markdown",
   "id": "representative-approach",
   "metadata": {},
   "source": [
    "Let's create a vector v."
   ]
  },
  {
   "cell_type": "code",
   "execution_count": 308,
   "id": "leading-safety",
   "metadata": {},
   "outputs": [],
   "source": [
    "v=np.array([4,6,5])"
   ]
  },
  {
   "cell_type": "markdown",
   "id": "environmental-causing",
   "metadata": {},
   "source": [
    "We can sort the data in this array using the method sort. To get details about the input arguments we can type in the method followed by shift ⇧ and tab ↹. We see that there is no positional input arguments and the main keyword input argument is axis which is set to a default value of -1 which means it always acts on columns. "
   ]
  },
  {
   "cell_type": "markdown",
   "id": "rental-floating",
   "metadata": {},
   "source": [
    "![sort_docstring](sort_docstring.png)"
   ]
  },
  {
   "cell_type": "markdown",
   "id": "urban-dance",
   "metadata": {},
   "source": [
    "The method sort has no output and will always instead perform an inplace update as indicated in the docstring."
   ]
  },
  {
   "cell_type": "code",
   "execution_count": 309,
   "id": "encouraging-component",
   "metadata": {},
   "outputs": [],
   "source": [
    "v.sort()"
   ]
  },
  {
   "cell_type": "code",
   "execution_count": 310,
   "id": "historic-horizon",
   "metadata": {},
   "outputs": [
    {
     "data": {
      "text/plain": [
       "array([4, 5, 6])"
      ]
     },
     "execution_count": 310,
     "metadata": {},
     "output_type": "execute_result"
    }
   ],
   "source": [
    "v"
   ]
  },
  {
   "cell_type": "code",
   "execution_count": 311,
   "id": "herbal-madrid",
   "metadata": {},
   "outputs": [],
   "source": [
    "v=np.array([4,6,5])"
   ]
  },
  {
   "cell_type": "markdown",
   "id": "external-remedy",
   "metadata": {},
   "source": [
    "The function sort has a similar behaviour but requires an array to be specified using a positional input argument. Note that this function ahs a return statement and does not perform an inplace update."
   ]
  },
  {
   "cell_type": "markdown",
   "id": "cooked-popularity",
   "metadata": {},
   "source": [
    "![numpy_function_sort_docstring](numpy_function_sort_docstring.png)"
   ]
  },
  {
   "cell_type": "code",
   "execution_count": 312,
   "id": "outstanding-ethiopia",
   "metadata": {},
   "outputs": [
    {
     "data": {
      "text/plain": [
       "array([4, 5, 6])"
      ]
     },
     "execution_count": 312,
     "metadata": {},
     "output_type": "execute_result"
    }
   ],
   "source": [
    "np.sort(v)"
   ]
  },
  {
   "cell_type": "markdown",
   "id": "awful-testament",
   "metadata": {},
   "source": [
    "For this 1D array, axis=-1 (the default) corresponds to the only axis, axis=0."
   ]
  },
  {
   "cell_type": "code",
   "execution_count": 313,
   "id": "actual-reducing",
   "metadata": {},
   "outputs": [
    {
     "data": {
      "text/plain": [
       "array([4, 5, 6])"
      ]
     },
     "execution_count": 313,
     "metadata": {},
     "output_type": "execute_result"
    }
   ],
   "source": [
    "np.sort(v,axis=0)"
   ]
  },
  {
   "cell_type": "code",
   "execution_count": 314,
   "id": "amino-craft",
   "metadata": {},
   "outputs": [
    {
     "data": {
      "text/plain": [
       "array([4, 5, 6])"
      ]
     },
     "execution_count": 314,
     "metadata": {},
     "output_type": "execute_result"
    }
   ],
   "source": [
    "np.sort(v,axis=-1)"
   ]
  },
  {
   "cell_type": "markdown",
   "id": "daily-possible",
   "metadata": {},
   "source": [
    "If we return to v and compare it to the output when using the numpy sort function."
   ]
  },
  {
   "cell_type": "code",
   "execution_count": 315,
   "id": "prescription-prescription",
   "metadata": {},
   "outputs": [
    {
     "data": {
      "text/plain": [
       "array([4, 6, 5])"
      ]
     },
     "execution_count": 315,
     "metadata": {},
     "output_type": "execute_result"
    }
   ],
   "source": [
    "v"
   ]
  },
  {
   "cell_type": "code",
   "execution_count": 316,
   "id": "framed-corpus",
   "metadata": {},
   "outputs": [
    {
     "data": {
      "text/plain": [
       "array([4, 5, 6])"
      ]
     },
     "execution_count": 316,
     "metadata": {},
     "output_type": "execute_result"
    }
   ],
   "source": [
    "np.sort(v)"
   ]
  },
  {
   "cell_type": "markdown",
   "id": "attempted-congress",
   "metadata": {},
   "source": [
    "We see the 0th index remains unchanged."
   ]
  },
  {
   "cell_type": "code",
   "execution_count": 317,
   "id": "hybrid-airplane",
   "metadata": {},
   "outputs": [
    {
     "data": {
      "text/plain": [
       "4"
      ]
     },
     "execution_count": 317,
     "metadata": {},
     "output_type": "execute_result"
    }
   ],
   "source": [
    "v[0]"
   ]
  },
  {
   "cell_type": "markdown",
   "id": "conditional-evaluation",
   "metadata": {},
   "source": [
    "We see the 1st index of the sorted output now corresponds to the element that was in the 2nd index of v i.e."
   ]
  },
  {
   "cell_type": "code",
   "execution_count": 318,
   "id": "intimate-evans",
   "metadata": {},
   "outputs": [
    {
     "data": {
      "text/plain": [
       "5"
      ]
     },
     "execution_count": 318,
     "metadata": {},
     "output_type": "execute_result"
    }
   ],
   "source": [
    "v[2]"
   ]
  },
  {
   "cell_type": "markdown",
   "id": "recognized-audience",
   "metadata": {},
   "source": [
    "We see the 2nd index of the sorted output now corresponds to the elment that was in the 1st index of v i.e."
   ]
  },
  {
   "cell_type": "code",
   "execution_count": 319,
   "id": "attempted-chester",
   "metadata": {},
   "outputs": [
    {
     "data": {
      "text/plain": [
       "6"
      ]
     },
     "execution_count": 319,
     "metadata": {},
     "output_type": "execute_result"
    }
   ],
   "source": [
    "v[1]"
   ]
  },
  {
   "cell_type": "markdown",
   "id": "rural-husband",
   "metadata": {},
   "source": [
    "Therefore if index using a list, we get the sorted array."
   ]
  },
  {
   "cell_type": "code",
   "execution_count": 320,
   "id": "black-introduction",
   "metadata": {},
   "outputs": [
    {
     "data": {
      "text/plain": [
       "array([4, 5, 6])"
      ]
     },
     "execution_count": 320,
     "metadata": {},
     "output_type": "execute_result"
    }
   ],
   "source": [
    "v[([0,2,1],)]"
   ]
  },
  {
   "cell_type": "markdown",
   "id": "hindu-jungle",
   "metadata": {},
   "source": [
    "Note the above can be abbreviated as the following using tuple unpacking."
   ]
  },
  {
   "cell_type": "code",
   "execution_count": 321,
   "id": "pleasant-thumb",
   "metadata": {},
   "outputs": [
    {
     "data": {
      "text/plain": [
       "array([4, 5, 6])"
      ]
     },
     "execution_count": 321,
     "metadata": {},
     "output_type": "execute_result"
    }
   ],
   "source": [
    "v[[0,2,1]]"
   ]
  },
  {
   "cell_type": "markdown",
   "id": "under-music",
   "metadata": {},
   "source": [
    "We can get this list of indexes using the ndarray method argsort (an abbreviation for argument sort). This returns an array and like the method sort uses the same keyword input argument axis."
   ]
  },
  {
   "cell_type": "markdown",
   "id": "worthy-links",
   "metadata": {},
   "source": [
    "![argsort_method_docstring](argsort_method_docstring.png)"
   ]
  },
  {
   "cell_type": "code",
   "execution_count": 322,
   "id": "acquired-occasion",
   "metadata": {},
   "outputs": [
    {
     "data": {
      "text/plain": [
       "array([0, 2, 1], dtype=int64)"
      ]
     },
     "execution_count": 322,
     "metadata": {},
     "output_type": "execute_result"
    }
   ],
   "source": [
    "v.argsort()"
   ]
  },
  {
   "cell_type": "markdown",
   "id": "surprising-modem",
   "metadata": {},
   "source": [
    "With the following giving the same output as the method sort."
   ]
  },
  {
   "cell_type": "code",
   "execution_count": 323,
   "id": "completed-technique",
   "metadata": {},
   "outputs": [
    {
     "data": {
      "text/plain": [
       "array([4, 5, 6])"
      ]
     },
     "execution_count": 323,
     "metadata": {},
     "output_type": "execute_result"
    }
   ],
   "source": [
    "v[v.argsort()]"
   ]
  },
  {
   "cell_type": "markdown",
   "id": "above-portable",
   "metadata": {},
   "source": [
    "The numpy function argsort behaves in a similar manner."
   ]
  },
  {
   "cell_type": "markdown",
   "id": "consecutive-paris",
   "metadata": {},
   "source": [
    "![argsort_function_docstring](argsort_function_docstring.png)"
   ]
  },
  {
   "cell_type": "markdown",
   "id": "initial-chrome",
   "metadata": {},
   "source": [
    "Instead of returning the full array we can also return the maximum and minimum value in an array using the methods max and min as well as the maximum and minimum index using the methods argmax and argmin. These methods all possess a similar keyword input argument axis however it defautls to a value of None (meaning the array is flattened and treated as a 1D array)."
   ]
  },
  {
   "cell_type": "markdown",
   "id": "satisfactory-burns",
   "metadata": {},
   "source": [
    "![max_method_docstring](max_method_docstring.png)"
   ]
  },
  {
   "cell_type": "code",
   "execution_count": 324,
   "id": "serious-stupid",
   "metadata": {},
   "outputs": [
    {
     "data": {
      "text/plain": [
       "6"
      ]
     },
     "execution_count": 324,
     "metadata": {},
     "output_type": "execute_result"
    }
   ],
   "source": [
    "v.max()"
   ]
  },
  {
   "cell_type": "code",
   "execution_count": 325,
   "id": "conscious-klein",
   "metadata": {},
   "outputs": [
    {
     "data": {
      "text/plain": [
       "4"
      ]
     },
     "execution_count": 325,
     "metadata": {},
     "output_type": "execute_result"
    }
   ],
   "source": [
    "v.min()"
   ]
  },
  {
   "cell_type": "code",
   "execution_count": 326,
   "id": "scientific-region",
   "metadata": {},
   "outputs": [
    {
     "data": {
      "text/plain": [
       "4"
      ]
     },
     "execution_count": 326,
     "metadata": {},
     "output_type": "execute_result"
    }
   ],
   "source": [
    "v[v.argmin()]"
   ]
  },
  {
   "cell_type": "code",
   "execution_count": 327,
   "id": "august-warrior",
   "metadata": {},
   "outputs": [
    {
     "data": {
      "text/plain": [
       "1"
      ]
     },
     "execution_count": 327,
     "metadata": {},
     "output_type": "execute_result"
    }
   ],
   "source": [
    "v.argmax()"
   ]
  },
  {
   "cell_type": "code",
   "execution_count": 328,
   "id": "documentary-direction",
   "metadata": {},
   "outputs": [
    {
     "data": {
      "text/plain": [
       "0"
      ]
     },
     "execution_count": 328,
     "metadata": {},
     "output_type": "execute_result"
    }
   ],
   "source": [
    "v.argmin()"
   ]
  },
  {
   "cell_type": "code",
   "execution_count": 329,
   "id": "administrative-vienna",
   "metadata": {},
   "outputs": [
    {
     "data": {
      "text/plain": [
       "6"
      ]
     },
     "execution_count": 329,
     "metadata": {},
     "output_type": "execute_result"
    }
   ],
   "source": [
    "v[v.argmax()]"
   ]
  },
  {
   "cell_type": "markdown",
   "id": "ongoing-prairie",
   "metadata": {},
   "source": [
    "They all can be called as a function. When calling them as a function the instance needs to be specified using the positional input argument."
   ]
  },
  {
   "cell_type": "code",
   "execution_count": 330,
   "id": "parental-yemen",
   "metadata": {},
   "outputs": [
    {
     "data": {
      "text/plain": [
       "6"
      ]
     },
     "execution_count": 330,
     "metadata": {},
     "output_type": "execute_result"
    }
   ],
   "source": [
    "np.max(v)"
   ]
  },
  {
   "cell_type": "code",
   "execution_count": 331,
   "id": "black-woman",
   "metadata": {},
   "outputs": [
    {
     "data": {
      "text/plain": [
       "4"
      ]
     },
     "execution_count": 331,
     "metadata": {},
     "output_type": "execute_result"
    }
   ],
   "source": [
    "np.min(v)"
   ]
  },
  {
   "cell_type": "code",
   "execution_count": 332,
   "id": "local-shaft",
   "metadata": {},
   "outputs": [
    {
     "data": {
      "text/plain": [
       "1"
      ]
     },
     "execution_count": 332,
     "metadata": {},
     "output_type": "execute_result"
    }
   ],
   "source": [
    "np.argmax(v)"
   ]
  },
  {
   "cell_type": "code",
   "execution_count": 333,
   "id": "lovely-mounting",
   "metadata": {},
   "outputs": [
    {
     "data": {
      "text/plain": [
       "0"
      ]
     },
     "execution_count": 333,
     "metadata": {},
     "output_type": "execute_result"
    }
   ],
   "source": [
    "np.argmin(v)"
   ]
  },
  {
   "cell_type": "markdown",
   "id": "higher-planner",
   "metadata": {},
   "source": [
    "If we want to find the maximum value in each set of elements of two equally sized vectors."
   ]
  },
  {
   "cell_type": "code",
   "execution_count": 334,
   "id": "pleasant-block",
   "metadata": {},
   "outputs": [],
   "source": [
    "v1=np.array([4,6,5])"
   ]
  },
  {
   "cell_type": "code",
   "execution_count": 335,
   "id": "catholic-exploration",
   "metadata": {},
   "outputs": [],
   "source": [
    "v2=np.array([9,3,7])"
   ]
  },
  {
   "cell_type": "markdown",
   "id": "taken-patio",
   "metadata": {},
   "source": [
    "We can create a higher dimensional 2D array m using concatenation. In this case we can explicitly set v1 and v2 to be row vectors."
   ]
  },
  {
   "cell_type": "code",
   "execution_count": 336,
   "id": "proprietary-resort",
   "metadata": {},
   "outputs": [],
   "source": [
    "v1=v1.reshape((1,-1))\n",
    "v2=v2.reshape((1,-1))"
   ]
  },
  {
   "cell_type": "code",
   "execution_count": 337,
   "id": "cutting-redhead",
   "metadata": {},
   "outputs": [
    {
     "data": {
      "text/plain": [
       "array([[4, 6, 5]])"
      ]
     },
     "execution_count": 337,
     "metadata": {},
     "output_type": "execute_result"
    }
   ],
   "source": [
    "v1"
   ]
  },
  {
   "cell_type": "code",
   "execution_count": 338,
   "id": "indian-newcastle",
   "metadata": {},
   "outputs": [
    {
     "data": {
      "text/plain": [
       "array([[9, 3, 7]])"
      ]
     },
     "execution_count": 338,
     "metadata": {},
     "output_type": "execute_result"
    }
   ],
   "source": [
    "v2"
   ]
  },
  {
   "cell_type": "markdown",
   "id": "induced-ghana",
   "metadata": {},
   "source": [
    "We can concatenate along the rows which for a 2D array is axis 0 but more generally the rows correspond to an axis of -2. "
   ]
  },
  {
   "cell_type": "code",
   "execution_count": 339,
   "id": "conditional-hostel",
   "metadata": {},
   "outputs": [],
   "source": [
    "m=np.concatenate((v1,v2),axis=-2)"
   ]
  },
  {
   "cell_type": "code",
   "execution_count": 340,
   "id": "accessible-raleigh",
   "metadata": {},
   "outputs": [
    {
     "data": {
      "text/plain": [
       "array([[4, 6, 5],\n",
       "       [9, 3, 7]])"
      ]
     },
     "execution_count": 340,
     "metadata": {},
     "output_type": "execute_result"
    }
   ],
   "source": [
    "m"
   ]
  },
  {
   "cell_type": "markdown",
   "id": "sharing-zealand",
   "metadata": {},
   "source": [
    "For our specific query, we want to find the maximum value in each row of every column. Because we are acting on rows, this corresponds to an axis=0 for a 2D array or an axis=-2 more generally."
   ]
  },
  {
   "cell_type": "code",
   "execution_count": 341,
   "id": "express-insert",
   "metadata": {},
   "outputs": [
    {
     "data": {
      "text/plain": [
       "array([9, 6, 7])"
      ]
     },
     "execution_count": 341,
     "metadata": {},
     "output_type": "execute_result"
    }
   ],
   "source": [
    "m.max(axis=-2)"
   ]
  },
  {
   "cell_type": "markdown",
   "id": "historical-comment",
   "metadata": {},
   "source": [
    "Let's return to v1:"
   ]
  },
  {
   "cell_type": "code",
   "execution_count": 342,
   "id": "northern-pilot",
   "metadata": {},
   "outputs": [],
   "source": [
    "v1=np.array([4,6,5])"
   ]
  },
  {
   "cell_type": "markdown",
   "id": "artistic-senate",
   "metadata": {},
   "source": [
    "We can have a look at the sum, prod, mean, cumulative sum, cumulative product, variance and standard deviation using the methods sum, prod, mean, cumsum, cumprod, var and std respectively. All of these methods contain the keyword input argument axis with a default of None which can be set to the desired access in a multi-dimensional array. These can also be called as functions from the nupy library. "
   ]
  },
  {
   "cell_type": "code",
   "execution_count": 343,
   "id": "eleven-salad",
   "metadata": {},
   "outputs": [
    {
     "data": {
      "text/plain": [
       "array([4, 6, 5])"
      ]
     },
     "execution_count": 343,
     "metadata": {},
     "output_type": "execute_result"
    }
   ],
   "source": [
    "v1"
   ]
  },
  {
   "cell_type": "markdown",
   "id": "higher-metro",
   "metadata": {},
   "source": [
    "The sum is the addition of all elements in an array (or along an axis)."
   ]
  },
  {
   "cell_type": "markdown",
   "id": "smoking-compensation",
   "metadata": {},
   "source": [
    "$$4+6+5$$"
   ]
  },
  {
   "cell_type": "code",
   "execution_count": 344,
   "id": "quality-image",
   "metadata": {},
   "outputs": [
    {
     "data": {
      "text/plain": [
       "15"
      ]
     },
     "execution_count": 344,
     "metadata": {},
     "output_type": "execute_result"
    }
   ],
   "source": [
    "v1.sum()"
   ]
  },
  {
   "cell_type": "markdown",
   "id": "tutorial-apparel",
   "metadata": {},
   "source": [
    "The prod is the multiplication of all elements in an array (or along an axis)."
   ]
  },
  {
   "cell_type": "markdown",
   "id": "common-significance",
   "metadata": {},
   "source": [
    "$$4*6*5$$"
   ]
  },
  {
   "cell_type": "code",
   "execution_count": 345,
   "id": "extra-myrtle",
   "metadata": {},
   "outputs": [
    {
     "data": {
      "text/plain": [
       "120"
      ]
     },
     "execution_count": 345,
     "metadata": {},
     "output_type": "execute_result"
    }
   ],
   "source": [
    "v1.prod()"
   ]
  },
  {
   "cell_type": "markdown",
   "id": "further-ukraine",
   "metadata": {},
   "source": [
    "The mean is the addition of all elements in an array (or along an axis) divided by the number of elements in the array (or the axis)."
   ]
  },
  {
   "cell_type": "code",
   "execution_count": 346,
   "id": "experimental-integer",
   "metadata": {},
   "outputs": [
    {
     "data": {
      "text/plain": [
       "5.0"
      ]
     },
     "execution_count": 346,
     "metadata": {},
     "output_type": "execute_result"
    }
   ],
   "source": [
    "v1.mean()"
   ]
  },
  {
   "cell_type": "code",
   "execution_count": 347,
   "id": "academic-martin",
   "metadata": {},
   "outputs": [
    {
     "data": {
      "text/plain": [
       "5.0"
      ]
     },
     "execution_count": 347,
     "metadata": {},
     "output_type": "execute_result"
    }
   ],
   "source": [
    "v1.sum()/v1.size"
   ]
  },
  {
   "cell_type": "markdown",
   "id": "modified-chart",
   "metadata": {},
   "source": [
    "The cumsum calculates the cumulative sum going through all element in array or along an axis."
   ]
  },
  {
   "cell_type": "code",
   "execution_count": 348,
   "id": "imported-garlic",
   "metadata": {},
   "outputs": [
    {
     "data": {
      "text/plain": [
       "array([ 4, 10, 15], dtype=int32)"
      ]
     },
     "execution_count": 348,
     "metadata": {},
     "output_type": "execute_result"
    }
   ],
   "source": [
    "v1.cumsum()"
   ]
  },
  {
   "cell_type": "markdown",
   "id": "internal-pennsylvania",
   "metadata": {},
   "source": [
    "The cumprod calculates the cumulative product going through all element in array or along an axis."
   ]
  },
  {
   "cell_type": "code",
   "execution_count": 349,
   "id": "synthetic-asian",
   "metadata": {},
   "outputs": [
    {
     "data": {
      "text/plain": [
       "array([  4,  24, 120], dtype=int32)"
      ]
     },
     "execution_count": 349,
     "metadata": {},
     "output_type": "execute_result"
    }
   ],
   "source": [
    "v1.cumprod()"
   ]
  },
  {
   "cell_type": "markdown",
   "id": "soviet-flooring",
   "metadata": {},
   "source": [
    "The mean gives the average value of every element in an array or along an axis. An additional metric is often useful to describe the difference of data points about the mean. \n",
    "\n",
    "By definition the sum of differences between each datapoint and the mean will equate to 0. \n",
    "\n",
    "To get a metric of the differences, we instead take the sum of the differences squared which will always yield a positive number. We can then divide this through by the number of datapoints (analogous to the mean). "
   ]
  },
  {
   "cell_type": "code",
   "execution_count": 350,
   "id": "sound-challenge",
   "metadata": {},
   "outputs": [
    {
     "data": {
      "text/plain": [
       "0.6666666666666666"
      ]
     },
     "execution_count": 350,
     "metadata": {},
     "output_type": "execute_result"
    }
   ],
   "source": [
    "v1.var()"
   ]
  },
  {
   "cell_type": "code",
   "execution_count": 351,
   "id": "referenced-silence",
   "metadata": {},
   "outputs": [
    {
     "data": {
      "text/plain": [
       "0.6666666666666666"
      ]
     },
     "execution_count": 351,
     "metadata": {},
     "output_type": "execute_result"
    }
   ],
   "source": [
    "((v1-v1.mean())**2).sum()/v1.size"
   ]
  },
  {
   "cell_type": "markdown",
   "id": "processed-hamburg",
   "metadata": {},
   "source": [
    "In this mathematical expression, when one has knowledge of the mean and all the datapoints in a sample except one, the last datapoint can be calculated from existing knowledge.\n",
    "\n",
    "The delta degrees of freedom is commonly set to 1. The var has a keyword input argument ddof (an abbreviation for delta degrees of freedom) which has a default value of 0. We can assign this to 1."
   ]
  },
  {
   "cell_type": "code",
   "execution_count": 352,
   "id": "arabic-theology",
   "metadata": {},
   "outputs": [
    {
     "data": {
      "text/plain": [
       "1.0"
      ]
     },
     "execution_count": 352,
     "metadata": {},
     "output_type": "execute_result"
    }
   ],
   "source": [
    "v1.var(ddof=1)"
   ]
  },
  {
   "cell_type": "code",
   "execution_count": 353,
   "id": "perceived-indicator",
   "metadata": {},
   "outputs": [
    {
     "data": {
      "text/plain": [
       "1.0"
      ]
     },
     "execution_count": 353,
     "metadata": {},
     "output_type": "execute_result"
    }
   ],
   "source": [
    "((v1-v1.mean())**2).sum()/(v1.size-1)"
   ]
  },
  {
   "cell_type": "markdown",
   "id": "nasty-military",
   "metadata": {},
   "source": [
    "Notice that the variance uses the squared terms. If the unit being measured was a length for example, the variance would be an area. It is quite useful to take the square root of the variance to get a term that is of the same dimensionality of the mean. This is known as the std deviation."
   ]
  },
  {
   "cell_type": "code",
   "execution_count": 354,
   "id": "worse-database",
   "metadata": {},
   "outputs": [
    {
     "data": {
      "text/plain": [
       "1.0"
      ]
     },
     "execution_count": 354,
     "metadata": {},
     "output_type": "execute_result"
    }
   ],
   "source": [
    "v1.std(ddof=1)"
   ]
  },
  {
   "cell_type": "code",
   "execution_count": 355,
   "id": "cultural-liechtenstein",
   "metadata": {},
   "outputs": [
    {
     "data": {
      "text/plain": [
       "1.0"
      ]
     },
     "execution_count": 355,
     "metadata": {},
     "output_type": "execute_result"
    }
   ],
   "source": [
    "(((v1-v1.mean())**2).sum()/(v1.size-1))**0.5"
   ]
  },
  {
   "cell_type": "markdown",
   "id": "historical-blanket",
   "metadata": {},
   "source": [
    "In the above a very basic example was selected which can readily be checked using a pen and paper. These can be scaled to larger multi-dimenional arrays with careful use of the keyword input argument axis."
   ]
  },
  {
   "cell_type": "code",
   "execution_count": 356,
   "id": "twenty-giant",
   "metadata": {},
   "outputs": [
    {
     "data": {
      "text/plain": [
       "3.141592653589793"
      ]
     },
     "execution_count": 356,
     "metadata": {},
     "output_type": "execute_result"
    }
   ],
   "source": [
    "np.pi"
   ]
  },
  {
   "cell_type": "markdown",
   "id": "occasional-louisville",
   "metadata": {},
   "source": [
    "### Array Division and Interpolation"
   ]
  },
  {
   "cell_type": "markdown",
   "id": "hungarian-death",
   "metadata": {},
   "source": [
    "Array division is the opposite process of multiplication, so let's have a look at the two arrays we have just created. Let's look at the example where we applied inner multiplication. Now let us assume we know the value on the left-hand side and the result from the array multiplication on the right hand side and are trying to instead calculate the values of the array in the middle:"
   ]
  },
  {
   "cell_type": "markdown",
   "id": "dietary-housing",
   "metadata": {},
   "source": [
    "![vector_multiplication_array](vector_multiplication_array.png)"
   ]
  },
  {
   "cell_type": "markdown",
   "id": "tribal-nudist",
   "metadata": {},
   "source": [
    "Then what we have is:"
   ]
  },
  {
   "cell_type": "markdown",
   "id": "given-croatia",
   "metadata": {},
   "source": [
    "$$\\left[\\begin{matrix}5&3\\\\\\end{matrix}\\right]@\\left[\\begin{matrix}x\\\\y\\\\\\end{matrix}\\right]=28$$"
   ]
  },
  {
   "cell_type": "markdown",
   "id": "cross-royalty",
   "metadata": {},
   "source": [
    "Or:"
   ]
  },
  {
   "cell_type": "markdown",
   "id": "occupational-texas",
   "metadata": {},
   "source": [
    "$$5x+3y=28$$"
   ]
  },
  {
   "cell_type": "markdown",
   "id": "lyric-indianapolis",
   "metadata": {},
   "source": [
    "Here we run into a problem, we have two unknowns and only a single equation. Now our solution of $x=2$ and $y=6$ would work as we just back tracked from this solution however we never specified that we had to have a solution which yielded full values of £s if pennies are included then the solution $x=3.8$ and $y=9$ could also work. In other words, from the limited data we have we have come up with multiple solutions for the problem and we don't have the necessary number of equations to narrow down our result."
   ]
  },
  {
   "cell_type": "markdown",
   "id": "brazilian-possibility",
   "metadata": {},
   "source": [
    "Let's now look at the example where we applied out multiplication. Once again let us assume we know the value on the left-hand side and the result from the array multiplication on the right hand side and are trying to instead calculate the values of the array in the middle:"
   ]
  },
  {
   "cell_type": "markdown",
   "id": "blond-communication",
   "metadata": {},
   "source": [
    "![vector_multiplication_array2](vector_multiplication_array2.png)"
   ]
  },
  {
   "cell_type": "markdown",
   "id": "normal-finance",
   "metadata": {},
   "source": [
    "Then what we have is:"
   ]
  },
  {
   "cell_type": "markdown",
   "id": "supported-banana",
   "metadata": {},
   "source": [
    "$$\\left[\\begin{matrix}5\\\\3\\\\\\end{matrix}\\right]@\\left[\\begin{matrix}x&y\\\\\\end{matrix}\\right]=\\left[\\begin{matrix}10&30\\\\6&18\\\\\\end{matrix}\\right]$$"
   ]
  },
  {
   "cell_type": "markdown",
   "id": "dated-result",
   "metadata": {},
   "source": [
    "Then we have four equations for only two unknowns."
   ]
  },
  {
   "cell_type": "markdown",
   "id": "agricultural-fairy",
   "metadata": {},
   "source": [
    "$$5x=10$$"
   ]
  },
  {
   "cell_type": "markdown",
   "id": "clinical-smile",
   "metadata": {},
   "source": [
    "$$5y=30$$"
   ]
  },
  {
   "cell_type": "markdown",
   "id": "exact-trainer",
   "metadata": {},
   "source": [
    "$$3x=6$$"
   ]
  },
  {
   "cell_type": "markdown",
   "id": "dried-momentum",
   "metadata": {},
   "source": [
    "$$3y=18$$"
   ]
  },
  {
   "cell_type": "markdown",
   "id": "dirty-cisco",
   "metadata": {},
   "source": [
    "We only need the to solve the two equations for the two unknowns and we can see that $x=2$ and $y=6$ which is the correct answer. The other two equations confirm this result."
   ]
  },
  {
   "cell_type": "markdown",
   "id": "lesser-office",
   "metadata": {},
   "source": [
    "To solve a linear system of equations with accuracy we require the same number of equations as unknowns. This is commonly used in interpolation. If we have the following data we can ask ourselves the question, what is the velocity at time=16?"
   ]
  },
  {
   "cell_type": "markdown",
   "id": "distinct-lying",
   "metadata": {},
   "source": [
    "|time (s)|velocity (m/s)|\n",
    "|:-:|:-:|\n",
    "|0|0|\n",
    "|10|227.04|\n",
    "|15|362.78|\n",
    "|20|517.35|\n",
    "|22.5|602.97|\n",
    "|30|901.67|"
   ]
  },
  {
   "cell_type": "markdown",
   "id": "worth-voltage",
   "metadata": {},
   "source": [
    "![rocket_projectile_plot](rocket_projectile_plot.png)"
   ]
  },
  {
   "cell_type": "markdown",
   "id": "severe-simulation",
   "metadata": {},
   "source": [
    "We can guess the value of v at t=16 using a single point, the nearest point to perform nearest point interpolation."
   ]
  },
  {
   "cell_type": "markdown",
   "id": "continued-surface",
   "metadata": {},
   "source": [
    "|time (s)|Δt (s)|velocity (m/s)|\n",
    "|:-:|:-:|:-:|\n",
    "|0|0-16=-16|0|\n",
    "|10|10-16=-6|227.04|\n",
    "|15|15-16=-1|362.78|\n",
    "|20|20-16=+4|517.35|\n",
    "|22.5|22.5-16=+6.5|602.97|\n",
    "|30|30-16=+14|901.67|"
   ]
  },
  {
   "cell_type": "markdown",
   "id": "infectious-shipping",
   "metadata": {},
   "source": [
    "Let's create the following arrays."
   ]
  },
  {
   "cell_type": "code",
   "execution_count": 357,
   "id": "caroline-diabetes",
   "metadata": {},
   "outputs": [],
   "source": [
    "t_orig=np.array([0,10,15,20,22.5,30])\n",
    "v_orig=np.array([0,227.04,362.78,517.35,602.97,901.67])"
   ]
  },
  {
   "cell_type": "markdown",
   "id": "every-machinery",
   "metadata": {},
   "source": [
    "We can read off the table to get the nearest datapoint and use this for an estimate at t=16."
   ]
  },
  {
   "cell_type": "code",
   "execution_count": 358,
   "id": "heavy-aquatic",
   "metadata": {},
   "outputs": [
    {
     "data": {
      "text/plain": [
       "362.78"
      ]
     },
     "execution_count": 358,
     "metadata": {},
     "output_type": "execute_result"
    }
   ],
   "source": [
    "v16=362.78\n",
    "v16"
   ]
  },
  {
   "cell_type": "markdown",
   "id": "prescribed-gregory",
   "metadata": {},
   "source": [
    "To get a more accurate estimation, we can use the two nearest points. This allows us to plot a straight line between the nearest two points and the value where this straight line intersects t=16 will yield a more accurate estimate."
   ]
  },
  {
   "cell_type": "markdown",
   "id": "reserved-buffer",
   "metadata": {},
   "source": [
    "![rocket_projectile_plot_2points](rocket_projectile_plot_2points.png)"
   ]
  },
  {
   "cell_type": "markdown",
   "id": "acute-belfast",
   "metadata": {},
   "source": [
    "The equation for a straight line is:"
   ]
  },
  {
   "cell_type": "markdown",
   "id": "thermal-snapshot",
   "metadata": {},
   "source": [
    "$$v[t]=c_0+c_1 t$$"
   ]
  },
  {
   "cell_type": "markdown",
   "id": "otherwise-differential",
   "metadata": {},
   "source": [
    "To solve for the two unknowns:"
   ]
  },
  {
   "cell_type": "markdown",
   "id": "binary-concrete",
   "metadata": {},
   "source": [
    "$$c_0 , c_1 $$"
   ]
  },
  {
   "cell_type": "markdown",
   "id": "dying-participant",
   "metadata": {},
   "source": [
    "We require 2 linear equations:"
   ]
  },
  {
   "cell_type": "markdown",
   "id": "available-jerusalem",
   "metadata": {},
   "source": [
    "$$v_0 = c_0 + c_1 t_0 $$"
   ]
  },
  {
   "cell_type": "markdown",
   "id": "undefined-heater",
   "metadata": {},
   "source": [
    "$$v_1 = c_0 + c_1 t_1 $$"
   ]
  },
  {
   "cell_type": "markdown",
   "id": "invisible-interview",
   "metadata": {},
   "source": [
    "Which in matrix form is:"
   ]
  },
  {
   "cell_type": "markdown",
   "id": "brave-employee",
   "metadata": {},
   "source": [
    "$$\\left[\\begin{matrix}v_0\\\\v_1\\\\\\end{matrix}\\right]=\\left[\\begin{matrix}a_0&a_1t_0\\\\a_0&a_1t_1\\\\\\end{matrix}\\right]=\\ \\left[\\begin{matrix}1&t_0\\\\1&t_1\\\\\\end{matrix}\\right]@\\left[\\begin{matrix}\\color{#FF0000}{c_0}\\\\\\color{#FF0000}{c_1}\\\\\\end{matrix}\\right]$$"
   ]
  },
  {
   "cell_type": "markdown",
   "id": "controlling-shape",
   "metadata": {},
   "source": [
    "Now we can input our values from the table:"
   ]
  },
  {
   "cell_type": "markdown",
   "id": "level-packet",
   "metadata": {},
   "source": [
    "$$\\left[\\begin{matrix}362.78\\\\517.35\\\\\\end{matrix}\\right]=\\left[\\begin{matrix}{15}^0&{15}^1\\\\{20}^0&{20}^1\\\\\\end{matrix}\\right]@\\left[\\begin{matrix}\\color{#FF0000}{c_0}\\\\\\color{#FF0000}{c_1}\\\\\\end{matrix}\\right]$$"
   ]
  },
  {
   "cell_type": "markdown",
   "id": "previous-unemployment",
   "metadata": {},
   "source": [
    "$$\\left[\\begin{matrix}362.78\\\\517.35\\\\\\end{matrix}\\right]=\\left[\\begin{matrix}1&15\\\\1&20\\\\\\end{matrix}\\right]@\\left[\\begin{matrix}\\color{#FF0000}{c_0}\\\\\\color{#FF0000}{c_1}\\\\\\end{matrix}\\right]$$"
   ]
  },
  {
   "cell_type": "markdown",
   "id": "random-extraction",
   "metadata": {},
   "source": [
    "For convenience we can assign these arrays as:"
   ]
  },
  {
   "cell_type": "code",
   "execution_count": 359,
   "id": "built-jerusalem",
   "metadata": {},
   "outputs": [
    {
     "data": {
      "text/plain": [
       "array([[362.78],\n",
       "       [517.35]])"
      ]
     },
     "execution_count": 359,
     "metadata": {},
     "output_type": "execute_result"
    }
   ],
   "source": [
    "v=np.array([362.78,517.35])\n",
    "v=v.reshape((-1,1))\n",
    "v"
   ]
  },
  {
   "cell_type": "code",
   "execution_count": 360,
   "id": "romance-green",
   "metadata": {},
   "outputs": [
    {
     "data": {
      "text/plain": [
       "array([[ 1, 15],\n",
       "       [ 1, 20]])"
      ]
     },
     "execution_count": 360,
     "metadata": {},
     "output_type": "execute_result"
    }
   ],
   "source": [
    "t=np.array([[1,15],\n",
    "            [1,20]])\n",
    "t"
   ]
  },
  {
   "cell_type": "markdown",
   "id": "viral-degree",
   "metadata": {},
   "source": [
    "To solve these linear systems of equations we need to import the linalg module. A basic version of this module is actually included in numpy and a more advanced one is imported from scipy. scipy is a scientific python library built upon numpy and split into a number of modules for specific purposes. To view the list of modules type in from scipy import followed by a tab ↹."
   ]
  },
  {
   "cell_type": "markdown",
   "id": "desirable-blind",
   "metadata": {},
   "source": [
    "![scipy_import_module](scipy_import_module.png)"
   ]
  },
  {
   "cell_type": "markdown",
   "id": "unsigned-trinity",
   "metadata": {},
   "source": [
    "You will see a number of modules to import."
   ]
  },
  {
   "cell_type": "code",
   "execution_count": 361,
   "id": "contrary-schema",
   "metadata": {},
   "outputs": [],
   "source": [
    "from scipy import linalg"
   ]
  },
  {
   "cell_type": "markdown",
   "id": "fresh-property",
   "metadata": {},
   "source": [
    "Once the module is imported we can access a number of additional functions (or other specific modules) by typing in linalg followed by a dot . and tab ↹."
   ]
  },
  {
   "cell_type": "markdown",
   "id": "related-preliminary",
   "metadata": {},
   "source": [
    "![linalg_module](linalg_module.png)"
   ]
  },
  {
   "cell_type": "markdown",
   "id": "standard-equity",
   "metadata": {},
   "source": [
    "From the linalg module we want to use the function solve. We can type this in followed by a shift ⇧ and tab ↹ to view details about its input arguments."
   ]
  },
  {
   "cell_type": "markdown",
   "id": "bright-services",
   "metadata": {},
   "source": [
    "![linalg_solve_docstring](linalg_solve_docstring.png)"
   ]
  },
  {
   "cell_type": "code",
   "execution_count": 362,
   "id": "premier-canvas",
   "metadata": {
    "scrolled": true
   },
   "outputs": [
    {
     "data": {
      "text/plain": [
       "\u001b[1;31mSignature:\u001b[0m\n",
       " \u001b[0mlinalg\u001b[0m\u001b[1;33m.\u001b[0m\u001b[0msolve\u001b[0m\u001b[1;33m(\u001b[0m\u001b[1;33m\n",
       "\u001b[0m    \u001b[0ma\u001b[0m\u001b[1;33m,\u001b[0m\u001b[1;33m\n",
       "\u001b[0m    \u001b[0mb\u001b[0m\u001b[1;33m,\u001b[0m\u001b[1;33m\n",
       "\u001b[0m    \u001b[0msym_pos\u001b[0m\u001b[1;33m=\u001b[0m\u001b[1;32mFalse\u001b[0m\u001b[1;33m,\u001b[0m\u001b[1;33m\n",
       "\u001b[0m    \u001b[0mlower\u001b[0m\u001b[1;33m=\u001b[0m\u001b[1;32mFalse\u001b[0m\u001b[1;33m,\u001b[0m\u001b[1;33m\n",
       "\u001b[0m    \u001b[0moverwrite_a\u001b[0m\u001b[1;33m=\u001b[0m\u001b[1;32mFalse\u001b[0m\u001b[1;33m,\u001b[0m\u001b[1;33m\n",
       "\u001b[0m    \u001b[0moverwrite_b\u001b[0m\u001b[1;33m=\u001b[0m\u001b[1;32mFalse\u001b[0m\u001b[1;33m,\u001b[0m\u001b[1;33m\n",
       "\u001b[0m    \u001b[0mdebug\u001b[0m\u001b[1;33m=\u001b[0m\u001b[1;32mNone\u001b[0m\u001b[1;33m,\u001b[0m\u001b[1;33m\n",
       "\u001b[0m    \u001b[0mcheck_finite\u001b[0m\u001b[1;33m=\u001b[0m\u001b[1;32mTrue\u001b[0m\u001b[1;33m,\u001b[0m\u001b[1;33m\n",
       "\u001b[0m    \u001b[0massume_a\u001b[0m\u001b[1;33m=\u001b[0m\u001b[1;34m'gen'\u001b[0m\u001b[1;33m,\u001b[0m\u001b[1;33m\n",
       "\u001b[0m    \u001b[0mtransposed\u001b[0m\u001b[1;33m=\u001b[0m\u001b[1;32mFalse\u001b[0m\u001b[1;33m,\u001b[0m\u001b[1;33m\n",
       "\u001b[0m\u001b[1;33m)\u001b[0m\u001b[1;33m\u001b[0m\u001b[1;33m\u001b[0m\u001b[0m\n",
       "\u001b[1;31mDocstring:\u001b[0m\n",
       "Solves the linear equation set ``a * x = b`` for the unknown ``x``\n",
       "for square ``a`` matrix.\n",
       "\n",
       "If the data matrix is known to be a particular type then supplying the\n",
       "corresponding string to ``assume_a`` key chooses the dedicated solver.\n",
       "The available options are\n",
       "\n",
       "===================  ========\n",
       " generic matrix       'gen'\n",
       " symmetric            'sym'\n",
       " hermitian            'her'\n",
       " positive definite    'pos'\n",
       "===================  ========\n",
       "\n",
       "If omitted, ``'gen'`` is the default structure.\n",
       "\n",
       "The datatype of the arrays define which solver is called regardless\n",
       "of the values. In other words, even when the complex array entries have\n",
       "precisely zero imaginary parts, the complex solver will be called based\n",
       "on the data type of the array.\n",
       "\n",
       "Parameters\n",
       "----------\n",
       "a : (N, N) array_like\n",
       "    Square input data\n",
       "b : (N, NRHS) array_like\n",
       "    Input data for the right hand side.\n",
       "sym_pos : bool, optional\n",
       "    Assume `a` is symmetric and positive definite. This key is deprecated\n",
       "    and assume_a = 'pos' keyword is recommended instead. The functionality\n",
       "    is the same. It will be removed in the future.\n",
       "lower : bool, optional\n",
       "    If True, only the data contained in the lower triangle of `a`. Default\n",
       "    is to use upper triangle. (ignored for ``'gen'``)\n",
       "overwrite_a : bool, optional\n",
       "    Allow overwriting data in `a` (may enhance performance).\n",
       "    Default is False.\n",
       "overwrite_b : bool, optional\n",
       "    Allow overwriting data in `b` (may enhance performance).\n",
       "    Default is False.\n",
       "check_finite : bool, optional\n",
       "    Whether to check that the input matrices contain only finite numbers.\n",
       "    Disabling may give a performance gain, but may result in problems\n",
       "    (crashes, non-termination) if the inputs do contain infinities or NaNs.\n",
       "assume_a : str, optional\n",
       "    Valid entries are explained above.\n",
       "transposed: bool, optional\n",
       "    If True, ``a^T x = b`` for real matrices, raises `NotImplementedError`\n",
       "    for complex matrices (only for True).\n",
       "\n",
       "Returns\n",
       "-------\n",
       "x : (N, NRHS) ndarray\n",
       "    The solution array.\n",
       "\n",
       "Raises\n",
       "------\n",
       "ValueError\n",
       "    If size mismatches detected or input a is not square.\n",
       "LinAlgError\n",
       "    If the matrix is singular.\n",
       "LinAlgWarning\n",
       "    If an ill-conditioned input a is detected.\n",
       "NotImplementedError\n",
       "    If transposed is True and input a is a complex matrix.\n",
       "\n",
       "Examples\n",
       "--------\n",
       "Given `a` and `b`, solve for `x`:\n",
       "\n",
       ">>> a = np.array([[3, 2, 0], [1, -1, 0], [0, 5, 1]])\n",
       ">>> b = np.array([2, 4, -1])\n",
       ">>> from scipy import linalg\n",
       ">>> x = linalg.solve(a, b)\n",
       ">>> x\n",
       "array([ 2., -2.,  9.])\n",
       ">>> np.dot(a, x) == b\n",
       "array([ True,  True,  True], dtype=bool)\n",
       "\n",
       "Notes\n",
       "-----\n",
       "If the input b matrix is a 1-D array with N elements, when supplied\n",
       "together with an NxN input a, it is assumed as a valid column vector\n",
       "despite the apparent size mismatch. This is compatible with the\n",
       "numpy.dot() behavior and the returned result is still 1-D array.\n",
       "\n",
       "The generic, symmetric, Hermitian and positive definite solutions are\n",
       "obtained via calling ?GESV, ?SYSV, ?HESV, and ?POSV routines of\n",
       "LAPACK respectively.\n",
       "\u001b[1;31mFile:\u001b[0m      c:\\users\\phili\\anaconda3\\lib\\site-packages\\scipy\\linalg\\basic.py\n",
       "\u001b[1;31mType:\u001b[0m      function\n"
      ]
     },
     "metadata": {},
     "output_type": "display_data"
    }
   ],
   "source": [
    "? linalg.solve"
   ]
  },
  {
   "cell_type": "markdown",
   "id": "supreme-necessity",
   "metadata": {},
   "source": [
    "Here we see the function solve, solves an equation $ax=b$ for $x$. a and b are the positional input arguments and x is the return value. We can rearrange our problem so."
   ]
  },
  {
   "cell_type": "markdown",
   "id": "dutch-findings",
   "metadata": {},
   "source": [
    "$$\\left[\\begin{matrix}362.78\\\\517.35\\\\\\end{matrix}\\right]=\\left[\\begin{matrix}1&15\\\\1&20\\\\\\end{matrix}\\right]@\\left[\\begin{matrix}\\color{#FF0000}{a_0}\\\\\\color{#FF0000}{a_1}\\\\\\end{matrix}\\right]$$"
   ]
  },
  {
   "cell_type": "markdown",
   "id": "vital-service",
   "metadata": {},
   "source": [
    "$$\\left[\\begin{matrix}1&15\\\\1&20\\\\\\end{matrix}\\right]@\\left[\\begin{matrix}\\color{#FF0000}{a_0}\\\\\\color{#FF0000}{a_1}\\\\\\end{matrix}\\right]=\\left[\\begin{matrix}362.78\\\\517.35\\\\\\end{matrix}\\right]$$"
   ]
  },
  {
   "cell_type": "markdown",
   "id": "significant-prayer",
   "metadata": {},
   "source": [
    "the positional input arguments:\n",
    "* a is our square coefficient matrix of times t\n",
    "* b is our velocity column vector v. \n",
    "\n",
    "The result x will be our vector c of coefficients which will have equal dimensions to the velocity vector."
   ]
  },
  {
   "cell_type": "code",
   "execution_count": 363,
   "id": "interesting-boulder",
   "metadata": {},
   "outputs": [
    {
     "data": {
      "text/plain": [
       "array([[-100.93 ],\n",
       "       [  30.914]])"
      ]
     },
     "execution_count": 363,
     "metadata": {},
     "output_type": "execute_result"
    }
   ],
   "source": [
    "c=linalg.solve(t,v)\n",
    "c"
   ]
  },
  {
   "cell_type": "markdown",
   "id": "liked-doubt",
   "metadata": {},
   "source": [
    "Now that we have these values we can create a time vector at time 16 (which has 2 data points)."
   ]
  },
  {
   "cell_type": "code",
   "execution_count": 364,
   "id": "bacterial-clause",
   "metadata": {},
   "outputs": [
    {
     "data": {
      "text/plain": [
       "array([[ 1, 16]])"
      ]
     },
     "execution_count": 364,
     "metadata": {},
     "output_type": "execute_result"
    }
   ],
   "source": [
    "t16=np.array([1,16])\n",
    "t16=t16.reshape((1,-1))\n",
    "t16"
   ]
  },
  {
   "cell_type": "markdown",
   "id": "quarterly-syntax",
   "metadata": {},
   "source": [
    "Then calculate a linear interpolated value for the velocity."
   ]
  },
  {
   "cell_type": "code",
   "execution_count": 365,
   "id": "statutory-praise",
   "metadata": {},
   "outputs": [
    {
     "data": {
      "text/plain": [
       "array([[393.694]])"
      ]
     },
     "execution_count": 365,
     "metadata": {},
     "output_type": "execute_result"
    }
   ],
   "source": [
    "v16=t16@c\n",
    "v16"
   ]
  },
  {
   "cell_type": "markdown",
   "id": "frozen-correction",
   "metadata": {},
   "source": [
    "Instead of performing linear interpolation (2 nearest datapoints) we can perform quadratic interpolation (3 nearest datapoints). Now v and y will equal."
   ]
  },
  {
   "cell_type": "code",
   "execution_count": 366,
   "id": "bizarre-prospect",
   "metadata": {},
   "outputs": [
    {
     "data": {
      "text/plain": [
       "array([[227.04],\n",
       "       [362.78],\n",
       "       [517.35]])"
      ]
     },
     "execution_count": 366,
     "metadata": {},
     "output_type": "execute_result"
    }
   ],
   "source": [
    "v=np.array([227.04,362.78,517.35])\n",
    "v=v.reshape((-1,1))\n",
    "v"
   ]
  },
  {
   "cell_type": "code",
   "execution_count": 367,
   "id": "choice-massage",
   "metadata": {},
   "outputs": [
    {
     "data": {
      "text/plain": [
       "array([[  1,  10, 100],\n",
       "       [  1,  15, 225],\n",
       "       [  1,  20, 400]])"
      ]
     },
     "execution_count": 367,
     "metadata": {},
     "output_type": "execute_result"
    }
   ],
   "source": [
    "t=np.array([[1,10,10**2],\n",
    "            [1,15,15**2],\n",
    "            [1,20,20**2]])\n",
    "t"
   ]
  },
  {
   "cell_type": "markdown",
   "id": "burning-spouse",
   "metadata": {},
   "source": [
    "We can solve for c."
   ]
  },
  {
   "cell_type": "code",
   "execution_count": 368,
   "id": "instrumental-virgin",
   "metadata": {},
   "outputs": [
    {
     "data": {
      "text/plain": [
       "array([[12.05  ],\n",
       "       [17.733 ],\n",
       "       [ 0.3766]])"
      ]
     },
     "execution_count": 368,
     "metadata": {},
     "output_type": "execute_result"
    }
   ],
   "source": [
    "c=linalg.solve(t,v)\n",
    "c"
   ]
  },
  {
   "cell_type": "markdown",
   "id": "soviet-aquarium",
   "metadata": {},
   "source": [
    "Now that we have these values we can create a time vector at time 16 (which has 2 data points)."
   ]
  },
  {
   "cell_type": "code",
   "execution_count": 369,
   "id": "square-outdoors",
   "metadata": {},
   "outputs": [
    {
     "data": {
      "text/plain": [
       "array([[  1,  16, 256]])"
      ]
     },
     "execution_count": 369,
     "metadata": {},
     "output_type": "execute_result"
    }
   ],
   "source": [
    "t16=np.array([1,16,16**2])\n",
    "t16=t16.reshape((1,-1))\n",
    "t16"
   ]
  },
  {
   "cell_type": "markdown",
   "id": "steady-samuel",
   "metadata": {},
   "source": [
    "Then calculate a linear interpolated value for the velocity."
   ]
  },
  {
   "cell_type": "code",
   "execution_count": 370,
   "id": "complete-nirvana",
   "metadata": {},
   "outputs": [
    {
     "data": {
      "text/plain": [
       "array([[392.1876]])"
      ]
     },
     "execution_count": 370,
     "metadata": {},
     "output_type": "execute_result"
    }
   ],
   "source": [
    "v16=t16@c\n",
    "v16"
   ]
  },
  {
   "cell_type": "markdown",
   "id": "acute-census",
   "metadata": {},
   "source": [
    "We created a system of equations and then used linalg solve these equations to interpolate an unknown datapoint. scipy also has an interpolation module which we can use for this purpose."
   ]
  },
  {
   "cell_type": "code",
   "execution_count": 371,
   "id": "infinite-detroit",
   "metadata": {},
   "outputs": [],
   "source": [
    "t_orig=np.array([0,10,15,20,22.5,30])\n",
    "v_orig=np.array([0,227.04,362.78,517.35,602.97,901.67])"
   ]
  },
  {
   "cell_type": "code",
   "execution_count": 372,
   "id": "cooked-douglas",
   "metadata": {},
   "outputs": [],
   "source": [
    "from scipy import interpolate"
   ]
  },
  {
   "cell_type": "markdown",
   "id": "aquatic-designation",
   "metadata": {},
   "source": [
    "Once imported a number of interpolation functions and classes can be accesed by typing in interpolate followed by a dot . and a tab ↹."
   ]
  },
  {
   "cell_type": "markdown",
   "id": "sealed-excitement",
   "metadata": {},
   "source": [
    "![interpolate_module](interpolate_module.png)"
   ]
  },
  {
   "cell_type": "markdown",
   "id": "desperate-adoption",
   "metadata": {},
   "source": [
    "We see that most of these are classes. We can create instantiate the interp1d class to create a mathematical interpolation function which we can assign to an object name. Note although interp1d is a class, it is not CamelCaseCapitalized. "
   ]
  },
  {
   "cell_type": "markdown",
   "id": "spiritual-moral",
   "metadata": {},
   "source": [
    "![Interp1s_class](Interp1s_class.png)"
   ]
  },
  {
   "cell_type": "code",
   "execution_count": 373,
   "id": "hydraulic-referral",
   "metadata": {
    "scrolled": true
   },
   "outputs": [
    {
     "data": {
      "text/plain": [
       "\u001b[1;31mInit signature:\u001b[0m\n",
       " \u001b[0minterpolate\u001b[0m\u001b[1;33m.\u001b[0m\u001b[0minterp1d\u001b[0m\u001b[1;33m(\u001b[0m\u001b[1;33m\n",
       "\u001b[0m    \u001b[0mx\u001b[0m\u001b[1;33m,\u001b[0m\u001b[1;33m\n",
       "\u001b[0m    \u001b[0my\u001b[0m\u001b[1;33m,\u001b[0m\u001b[1;33m\n",
       "\u001b[0m    \u001b[0mkind\u001b[0m\u001b[1;33m=\u001b[0m\u001b[1;34m'linear'\u001b[0m\u001b[1;33m,\u001b[0m\u001b[1;33m\n",
       "\u001b[0m    \u001b[0maxis\u001b[0m\u001b[1;33m=\u001b[0m\u001b[1;33m-\u001b[0m\u001b[1;36m1\u001b[0m\u001b[1;33m,\u001b[0m\u001b[1;33m\n",
       "\u001b[0m    \u001b[0mcopy\u001b[0m\u001b[1;33m=\u001b[0m\u001b[1;32mTrue\u001b[0m\u001b[1;33m,\u001b[0m\u001b[1;33m\n",
       "\u001b[0m    \u001b[0mbounds_error\u001b[0m\u001b[1;33m=\u001b[0m\u001b[1;32mNone\u001b[0m\u001b[1;33m,\u001b[0m\u001b[1;33m\n",
       "\u001b[0m    \u001b[0mfill_value\u001b[0m\u001b[1;33m=\u001b[0m\u001b[0mnan\u001b[0m\u001b[1;33m,\u001b[0m\u001b[1;33m\n",
       "\u001b[0m    \u001b[0massume_sorted\u001b[0m\u001b[1;33m=\u001b[0m\u001b[1;32mFalse\u001b[0m\u001b[1;33m,\u001b[0m\u001b[1;33m\n",
       "\u001b[0m\u001b[1;33m)\u001b[0m\u001b[1;33m\u001b[0m\u001b[1;33m\u001b[0m\u001b[0m\n",
       "\u001b[1;31mDocstring:\u001b[0m     \n",
       "Interpolate a 1-D function.\n",
       "\n",
       "`x` and `y` are arrays of values used to approximate some function f:\n",
       "``y = f(x)``. This class returns a function whose call method uses\n",
       "interpolation to find the value of new points.\n",
       "\n",
       "Parameters\n",
       "----------\n",
       "x : (N,) array_like\n",
       "    A 1-D array of real values.\n",
       "y : (...,N,...) array_like\n",
       "    A N-D array of real values. The length of `y` along the interpolation\n",
       "    axis must be equal to the length of `x`.\n",
       "kind : str or int, optional\n",
       "    Specifies the kind of interpolation as a string or as an integer\n",
       "    specifying the order of the spline interpolator to use.\n",
       "    The string has to be one of 'linear', 'nearest', 'nearest-up', 'zero',\n",
       "    'slinear', 'quadratic', 'cubic', 'previous', or 'next'. 'zero',\n",
       "    'slinear', 'quadratic' and 'cubic' refer to a spline interpolation of\n",
       "    zeroth, first, second or third order; 'previous' and 'next' simply\n",
       "    return the previous or next value of the point; 'nearest-up' and\n",
       "    'nearest' differ when interpolating half-integers (e.g. 0.5, 1.5)\n",
       "    in that 'nearest-up' rounds up and 'nearest' rounds down. Default\n",
       "    is 'linear'.\n",
       "axis : int, optional\n",
       "    Specifies the axis of `y` along which to interpolate.\n",
       "    Interpolation defaults to the last axis of `y`.\n",
       "copy : bool, optional\n",
       "    If True, the class makes internal copies of x and y.\n",
       "    If False, references to `x` and `y` are used. The default is to copy.\n",
       "bounds_error : bool, optional\n",
       "    If True, a ValueError is raised any time interpolation is attempted on\n",
       "    a value outside of the range of x (where extrapolation is\n",
       "    necessary). If False, out of bounds values are assigned `fill_value`.\n",
       "    By default, an error is raised unless ``fill_value=\"extrapolate\"``.\n",
       "fill_value : array-like or (array-like, array_like) or \"extrapolate\", optional\n",
       "    - if a ndarray (or float), this value will be used to fill in for\n",
       "      requested points outside of the data range. If not provided, then\n",
       "      the default is NaN. The array-like must broadcast properly to the\n",
       "      dimensions of the non-interpolation axes.\n",
       "    - If a two-element tuple, then the first element is used as a\n",
       "      fill value for ``x_new < x[0]`` and the second element is used for\n",
       "      ``x_new > x[-1]``. Anything that is not a 2-element tuple (e.g.,\n",
       "      list or ndarray, regardless of shape) is taken to be a single\n",
       "      array-like argument meant to be used for both bounds as\n",
       "      ``below, above = fill_value, fill_value``.\n",
       "\n",
       "      .. versionadded:: 0.17.0\n",
       "    - If \"extrapolate\", then points outside the data range will be\n",
       "      extrapolated.\n",
       "\n",
       "      .. versionadded:: 0.17.0\n",
       "assume_sorted : bool, optional\n",
       "    If False, values of `x` can be in any order and they are sorted first.\n",
       "    If True, `x` has to be an array of monotonically increasing values.\n",
       "\n",
       "Attributes\n",
       "----------\n",
       "fill_value\n",
       "\n",
       "Methods\n",
       "-------\n",
       "__call__\n",
       "\n",
       "See Also\n",
       "--------\n",
       "splrep, splev\n",
       "    Spline interpolation/smoothing based on FITPACK.\n",
       "UnivariateSpline : An object-oriented wrapper of the FITPACK routines.\n",
       "interp2d : 2-D interpolation\n",
       "\n",
       "Notes\n",
       "-----\n",
       "Calling `interp1d` with NaNs present in input values results in\n",
       "undefined behaviour.\n",
       "\n",
       "Input values `x` and `y` must be convertible to `float` values like\n",
       "`int` or `float`.\n",
       "\n",
       "\n",
       "Examples\n",
       "--------\n",
       ">>> import matplotlib.pyplot as plt\n",
       ">>> from scipy import interpolate\n",
       ">>> x = np.arange(0, 10)\n",
       ">>> y = np.exp(-x/3.0)\n",
       ">>> f = interpolate.interp1d(x, y)\n",
       "\n",
       ">>> xnew = np.arange(0, 9, 0.1)\n",
       ">>> ynew = f(xnew)   # use interpolation function returned by `interp1d`\n",
       ">>> plt.plot(x, y, 'o', xnew, ynew, '-')\n",
       ">>> plt.show()\n",
       "\u001b[1;31mInit docstring:\u001b[0m Initialize a 1-D linear interpolation class.\n",
       "\u001b[1;31mFile:\u001b[0m           c:\\users\\phili\\anaconda3\\lib\\site-packages\\scipy\\interpolate\\interpolate.py\n",
       "\u001b[1;31mType:\u001b[0m           type\n",
       "\u001b[1;31mSubclasses:\u001b[0m     \n"
      ]
     },
     "metadata": {},
     "output_type": "display_data"
    }
   ],
   "source": [
    "? interpolate.interp1d"
   ]
  },
  {
   "cell_type": "markdown",
   "id": "compact-seller",
   "metadata": {},
   "source": [
    "Let's change the keyword input argument kind to 'nearest'."
   ]
  },
  {
   "cell_type": "code",
   "execution_count": 374,
   "id": "tamil-lesson",
   "metadata": {},
   "outputs": [],
   "source": [
    "f_near=interpolate.interp1d(t_orig,v_orig,kind='nearest')"
   ]
  },
  {
   "cell_type": "markdown",
   "id": "going-military",
   "metadata": {},
   "source": [
    "We can now apply this function to the new t data which we wish to interpolate the unknown v values at, for example the time point t=16."
   ]
  },
  {
   "cell_type": "code",
   "execution_count": 375,
   "id": "unknown-attachment",
   "metadata": {},
   "outputs": [
    {
     "data": {
      "text/plain": [
       "array(362.78)"
      ]
     },
     "execution_count": 375,
     "metadata": {},
     "output_type": "execute_result"
    }
   ],
   "source": [
    "f_near(16)"
   ]
  },
  {
   "cell_type": "code",
   "execution_count": 376,
   "id": "civilian-portsmouth",
   "metadata": {},
   "outputs": [],
   "source": [
    "f_lin=interpolate.interp1d(t_orig,v_orig,kind='linear')"
   ]
  },
  {
   "cell_type": "code",
   "execution_count": 377,
   "id": "quantitative-denmark",
   "metadata": {},
   "outputs": [
    {
     "data": {
      "text/plain": [
       "array(393.694)"
      ]
     },
     "execution_count": 377,
     "metadata": {},
     "output_type": "execute_result"
    }
   ],
   "source": [
    "f_lin(16)"
   ]
  },
  {
   "cell_type": "code",
   "execution_count": 378,
   "id": "postal-execution",
   "metadata": {},
   "outputs": [],
   "source": [
    "f_quad=interpolate.interp1d(t_orig,v_orig,kind='quadratic')"
   ]
  },
  {
   "cell_type": "code",
   "execution_count": 379,
   "id": "refined-christian",
   "metadata": {},
   "outputs": [
    {
     "data": {
      "text/plain": [
       "array(392.09275532)"
      ]
     },
     "execution_count": 379,
     "metadata": {},
     "output_type": "execute_result"
    }
   ],
   "source": [
    "f_quad(16)"
   ]
  },
  {
   "cell_type": "code",
   "execution_count": 380,
   "id": "unexpected-williams",
   "metadata": {},
   "outputs": [],
   "source": [
    "f_cubic=interpolate.interp1d(t_orig,v_orig,kind='cubic')"
   ]
  },
  {
   "cell_type": "code",
   "execution_count": 381,
   "id": "turkish-polymer",
   "metadata": {},
   "outputs": [
    {
     "data": {
      "text/plain": [
       "array(392.07076444)"
      ]
     },
     "execution_count": 381,
     "metadata": {},
     "output_type": "execute_result"
    }
   ],
   "source": [
    "f_cubic(16)"
   ]
  },
  {
   "cell_type": "markdown",
   "id": "attractive-particular",
   "metadata": {},
   "source": [
    "We can also interpolate a list of values."
   ]
  },
  {
   "cell_type": "code",
   "execution_count": 382,
   "id": "reliable-pressure",
   "metadata": {},
   "outputs": [
    {
     "data": {
      "text/plain": [
       "array([ 0,  1,  2,  3,  4,  5,  6,  7,  8,  9, 10, 11, 12, 13, 14, 15, 16,\n",
       "       17, 18, 19, 20, 21, 22, 23, 24, 25, 26, 27, 28, 29, 30])"
      ]
     },
     "execution_count": 382,
     "metadata": {},
     "output_type": "execute_result"
    }
   ],
   "source": [
    "t_new=np.arange(start=0,stop=31,step=1)\n",
    "t_new"
   ]
  },
  {
   "cell_type": "code",
   "execution_count": 383,
   "id": "alternate-parcel",
   "metadata": {},
   "outputs": [
    {
     "data": {
      "text/plain": [
       "array([  0.        ,  20.51444   ,  41.45489778,  62.84408   ,\n",
       "        84.70469333, 107.05944444, 129.93104   , 153.34218667,\n",
       "       177.31559111, 201.87396   , 227.04      , 252.83641778,\n",
       "       279.28592   , 306.41121333, 334.23500444, 362.78      ,\n",
       "       392.07076444, 422.13929333, 453.01944   , 484.74505778,\n",
       "       517.35      , 550.87058   , 585.35295111, 620.84572667,\n",
       "       657.39752   , 695.05694444, 733.87261333, 773.89314   ,\n",
       "       815.16713778, 857.74322   , 901.67      ])"
      ]
     },
     "execution_count": 383,
     "metadata": {},
     "output_type": "execute_result"
    }
   ],
   "source": [
    "f_new=f_cubic(t_new)\n",
    "f_new"
   ]
  },
  {
   "cell_type": "markdown",
   "id": "lesser-doctor",
   "metadata": {},
   "source": [
    "The constants module contains a number of useful scientific constants."
   ]
  },
  {
   "cell_type": "code",
   "execution_count": 384,
   "id": "checked-harmony",
   "metadata": {},
   "outputs": [],
   "source": [
    "from scipy import constants"
   ]
  },
  {
   "cell_type": "markdown",
   "id": "hazardous-stability",
   "metadata": {},
   "source": [
    "Once imported the constants can be accessed by typing in constants followed by a dot . and a tab ↹."
   ]
  },
  {
   "cell_type": "markdown",
   "id": "departmental-mount",
   "metadata": {},
   "source": [
    "![constants_attributes](constants_attributes.png)"
   ]
  },
  {
   "cell_type": "markdown",
   "id": "announced-brooks",
   "metadata": {},
   "source": [
    "These are mainly attributes, although attributes are mainly lower case. In this module, attributes named after scientists are capitalized."
   ]
  },
  {
   "cell_type": "code",
   "execution_count": 385,
   "id": "beginning-standing",
   "metadata": {},
   "outputs": [
    {
     "data": {
      "text/plain": [
       "6.02214076e+23"
      ]
     },
     "execution_count": 385,
     "metadata": {},
     "output_type": "execute_result"
    }
   ],
   "source": [
    "constants.Avogadro"
   ]
  },
  {
   "cell_type": "code",
   "execution_count": 386,
   "id": "grand-disabled",
   "metadata": {},
   "outputs": [
    {
     "data": {
      "text/plain": [
       "1.380649e-23"
      ]
     },
     "execution_count": 386,
     "metadata": {},
     "output_type": "execute_result"
    }
   ],
   "source": [
    "constants.Boltzmann"
   ]
  },
  {
   "cell_type": "code",
   "execution_count": 387,
   "id": "overhead-appreciation",
   "metadata": {},
   "outputs": [
    {
     "data": {
      "text/plain": [
       "6.6743e-11"
      ]
     },
     "execution_count": 387,
     "metadata": {},
     "output_type": "execute_result"
    }
   ],
   "source": [
    "constants.G"
   ]
  },
  {
   "cell_type": "code",
   "execution_count": 388,
   "id": "focused-biotechnology",
   "metadata": {},
   "outputs": [
    {
     "data": {
      "text/plain": [
       "1e-10"
      ]
     },
     "execution_count": 388,
     "metadata": {},
     "output_type": "execute_result"
    }
   ],
   "source": [
    "constants.angstrom"
   ]
  },
  {
   "cell_type": "code",
   "execution_count": 389,
   "id": "stopped-amazon",
   "metadata": {},
   "outputs": [
    {
     "data": {
      "text/plain": [
       "1.6605390666e-27"
      ]
     },
     "execution_count": 389,
     "metadata": {},
     "output_type": "execute_result"
    }
   ],
   "source": [
    "constants.atomic_mass"
   ]
  },
  {
   "cell_type": "code",
   "execution_count": 390,
   "id": "prospective-address",
   "metadata": {},
   "outputs": [
    {
     "data": {
      "text/plain": [
       "1.602176634e-19"
      ]
     },
     "execution_count": 390,
     "metadata": {},
     "output_type": "execute_result"
    }
   ],
   "source": [
    "constants.electron_volt"
   ]
  },
  {
   "cell_type": "markdown",
   "id": "experimental-miami",
   "metadata": {},
   "source": [
    "Before diving into scipy any deeper it is recommended to familiarize yourself with two commonly used Python libraries. I have put together additional JupyterLab Notebooks on these.\n",
    "\n",
    "[Python and Data Analysis Library (pandas)](https://github.com/PhilipYip1988/3-pandas/blob/main/pandas.ipynb)\n",
    "\n",
    "[The Python Plotting Library (matplotlib)](https://github.com/PhilipYip1988/4-matplotlib)"
   ]
  }
 ],
 "metadata": {
  "kernelspec": {
   "display_name": "Python 3",
   "language": "python",
   "name": "python3"
  },
  "language_info": {
   "codemirror_mode": {
    "name": "ipython",
    "version": 3
   },
   "file_extension": ".py",
   "mimetype": "text/x-python",
   "name": "python",
   "nbconvert_exporter": "python",
   "pygments_lexer": "ipython3",
   "version": "3.8.5"
  }
 },
 "nbformat": 4,
 "nbformat_minor": 5
}
